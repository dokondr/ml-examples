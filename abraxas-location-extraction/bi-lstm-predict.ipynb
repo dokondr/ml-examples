{
 "cells": [
  {
   "cell_type": "code",
   "execution_count": 1,
   "metadata": {},
   "outputs": [
    {
     "name": "stderr",
     "output_type": "stream",
     "text": [
      "Using TensorFlow backend.\n"
     ]
    }
   ],
   "source": [
    "import nltk\n",
    "import numpy as np\n",
    "import pandas as pd\n",
    "import random\n",
    "import time\n",
    "import gzip\n",
    "import ast\n",
    "import operator\n",
    "import sys\n",
    "import pickle as pkl\n",
    "from collections import Counter\n",
    "from sklearn.model_selection import StratifiedKFold\n",
    "import tensorflow as tf\n",
    "import keras\n",
    "#from keras.models import Model\n",
    "#from keras.models import load_model\n",
    "from keras.layers import *\n",
    "from nltk.chunk import conlltags2tree, tree2conlltags\n",
    "from nltk import word_tokenize, pos_tag, ne_chunk"
   ]
  },
  {
   "cell_type": "markdown",
   "metadata": {},
   "source": [
    "# Predict"
   ]
  },
  {
   "cell_type": "code",
   "execution_count": 2,
   "metadata": {},
   "outputs": [
    {
     "data": {
      "text/plain": [
       "'2.1.0'"
      ]
     },
     "execution_count": 2,
     "metadata": {},
     "output_type": "execute_result"
    }
   ],
   "source": [
    "tf.__version__"
   ]
  },
  {
   "cell_type": "code",
   "execution_count": 3,
   "metadata": {},
   "outputs": [
    {
     "data": {
      "text/plain": [
       "'2.3.1'"
      ]
     },
     "execution_count": 3,
     "metadata": {},
     "output_type": "execute_result"
    }
   ],
   "source": [
    "keras.__version__"
   ]
  },
  {
   "cell_type": "code",
   "execution_count": 4,
   "metadata": {},
   "outputs": [],
   "source": [
    "np.random.seed(1337)  # for reproducibility\n",
    "DATA_PATH = \"bi-lstm-data/\"\n",
    "EMBEDDINGS_PATH = DATA_PATH+'embeddings.pkl.gz'\n",
    "TRAIN_SET_PATH = DATA_PATH+'train_set.pkl.gz'\n",
    "TEST_SET_PATH = DATA_PATH+'test_set.csv'\n",
    "MODEL_PATH = DATA_PATH+'f1e5-bi-lstm-model.h5'\n",
    "PREDICTIONS_PATH = DATA_PATH+'best-match.csv'"
   ]
  },
  {
   "cell_type": "code",
   "execution_count": 5,
   "metadata": {},
   "outputs": [],
   "source": [
    "# Load a compiles Bi-LSTM model\n",
    "model = keras.models.load_model(MODEL_PATH)"
   ]
  },
  {
   "cell_type": "code",
   "execution_count": 6,
   "metadata": {},
   "outputs": [
    {
     "name": "stdout",
     "output_type": "stream",
     "text": [
      "{'I-MISC': 0, 'B-LOC': 1, 'B-ORG': 2, 'O': 3, 'I-ORG': 4, 'I-LOC': 5, 'I-PER': 6, 'B-PER': 7, 'B-MISC': 8} \n",
      "---\n",
      " {0: 'I-MISC', 1: 'B-LOC', 2: 'B-ORG', 3: 'O', 4: 'I-ORG', 5: 'I-LOC', 6: 'I-PER', 7: 'B-PER', 8: 'B-MISC'}\n"
     ]
    }
   ],
   "source": [
    "# Load embeddings\n",
    "f = gzip.open(EMBEDDINGS_PATH , 'rb')\n",
    "embeddings = pkl.load(f)\n",
    "f.close()\n",
    "\n",
    "# Load label encoddings\n",
    "label2Idx = embeddings['label2Idx']\n",
    "\n",
    "#Inverse label mapping\n",
    "idx2Label = {v: k for k, v in label2Idx.items()}\n",
    "print(label2Idx,'\\n---\\n', idx2Label)"
   ]
  },
  {
   "cell_type": "code",
   "execution_count": 7,
   "metadata": {},
   "outputs": [
    {
     "data": {
      "text/html": [
       "<div>\n",
       "<style scoped>\n",
       "    .dataframe tbody tr th:only-of-type {\n",
       "        vertical-align: middle;\n",
       "    }\n",
       "\n",
       "    .dataframe tbody tr th {\n",
       "        vertical-align: top;\n",
       "    }\n",
       "\n",
       "    .dataframe thead th {\n",
       "        text-align: right;\n",
       "    }\n",
       "</style>\n",
       "<table border=\"1\" class=\"dataframe\">\n",
       "  <thead>\n",
       "    <tr style=\"text-align: right;\">\n",
       "      <th></th>\n",
       "      <th>Titulo</th>\n",
       "      <th>Sintesis</th>\n",
       "      <th>Texto</th>\n",
       "      <th>titulo_tokens</th>\n",
       "      <th>sintesis_tokens</th>\n",
       "      <th>texto_tokens</th>\n",
       "      <th>titulo_word_inds</th>\n",
       "      <th>titulo_case_inds</th>\n",
       "      <th>sintesis_word_inds</th>\n",
       "      <th>sintesis_case_inds</th>\n",
       "      <th>texto_word_inds</th>\n",
       "      <th>texto_case_inds</th>\n",
       "    </tr>\n",
       "  </thead>\n",
       "  <tbody>\n",
       "    <tr>\n",
       "      <th>0</th>\n",
       "      <td>Exigen a TransCanada transparentar proyecto de...</td>\n",
       "      <td>Presidentes de las sociedades cooperativas pes...</td>\n",
       "      <td>Presidentes de las sociedades cooperativas pes...</td>\n",
       "      <td>[['Exigen', 'a', 'TransCanada', 'transparentar...</td>\n",
       "      <td>[['Presidentes', 'de', 'las', 'sociedades', 'c...</td>\n",
       "      <td>[['Presidentes', 'de', 'las', 'sociedades', 'c...</td>\n",
       "      <td>[[23151, 8, 56126, 25835, 128, 2, 20125]]</td>\n",
       "      <td>[[3, 1, 3, 1, 1, 1, 1]]</td>\n",
       "      <td>[[8276, 2, 11, 2597, 8975, 13703, 2, 47087, 6,...</td>\n",
       "      <td>[[3, 1, 1, 1, 1, 1, 1, 3, 1, 3, 4, 1, 1, 1, 3,...</td>\n",
       "      <td>[[8276, 2, 11, 2597, 8975, 13703, 2, 47087, 6,...</td>\n",
       "      <td>[[3, 1, 1, 1, 1, 1, 1, 3, 1, 3, 4, 1, 1, 1, 3,...</td>\n",
       "    </tr>\n",
       "    <tr>\n",
       "      <th>1</th>\n",
       "      <td>Violento fin de semana en dos estados de Mexic...</td>\n",
       "      <td>Los casos ocurrieron en Guanajuato y Chihuahua...</td>\n",
       "      <td>Los casos ocurrieron en Guanajuato y Chihuahua...</td>\n",
       "      <td>[['Violento', 'fin', 'de', 'semana', 'en', 'do...</td>\n",
       "      <td>[['Los', 'casos', 'ocurrieron', 'en', 'Guanaju...</td>\n",
       "      <td>[['Los', 'casos', 'ocurrieron', 'en', 'Guanaju...</td>\n",
       "      <td>[[42177, 127, 2, 435, 4, 38, 1425, 2, 16336, 1...</td>\n",
       "      <td>[[3, 1, 1, 1, 1, 1, 1, 1, 3, 4, 0, 1]]</td>\n",
       "      <td>[[35, 301, 8038, 4, 5840, 6, 6319, 1], [5285, ...</td>\n",
       "      <td>[[3, 1, 1, 1, 3, 1, 3, 4], [3, 1, 5, 1, 1, 1, ...</td>\n",
       "      <td>[[35, 301, 8038, 4, 5840, 6, 6319, 1], [5285, ...</td>\n",
       "      <td>[[3, 1, 1, 1, 3, 1, 3, 4], [3, 1, 5, 1, 1, 1, ...</td>\n",
       "    </tr>\n",
       "    <tr>\n",
       "      <th>2</th>\n",
       "      <td>Expulsan a 3 personas en Pahuatlan por trabaja...</td>\n",
       "      <td>Los empleados de la TransCanada regresaban de ...</td>\n",
       "      <td>Los empleados de la TransCanada regresaban de ...</td>\n",
       "      <td>[['Expulsan', 'a', '3', 'personas', 'en', 'Pah...</td>\n",
       "      <td>[['Los', 'empleados', 'de', 'la', 'TransCanada...</td>\n",
       "      <td>[['Los', 'empleados', 'de', 'la', 'TransCanada...</td>\n",
       "      <td>[[48750, 8, 1, 71, 4, 66437, 13, 926, 4, 20125]]</td>\n",
       "      <td>[[3, 1, 0, 1, 1, 3, 1, 1, 1, 1]]</td>\n",
       "      <td>[[35, 1659, 2, 3, 56126, 21451, 2, 855, 103, 2...</td>\n",
       "      <td>[[3, 1, 1, 1, 3, 1, 1, 1, 1, 1, 1, 1, 1, 1, 1,...</td>\n",
       "      <td>[[35, 1659, 2, 3, 56126, 21451, 2, 855, 103, 2...</td>\n",
       "      <td>[[3, 1, 1, 1, 3, 1, 1, 1, 1, 1, 1, 1, 1, 1, 1,...</td>\n",
       "    </tr>\n",
       "  </tbody>\n",
       "</table>\n",
       "</div>"
      ],
      "text/plain": [
       "                                              Titulo  \\\n",
       "0  Exigen a TransCanada transparentar proyecto de...   \n",
       "1  Violento fin de semana en dos estados de Mexic...   \n",
       "2  Expulsan a 3 personas en Pahuatlan por trabaja...   \n",
       "\n",
       "                                            Sintesis  \\\n",
       "0  Presidentes de las sociedades cooperativas pes...   \n",
       "1  Los casos ocurrieron en Guanajuato y Chihuahua...   \n",
       "2  Los empleados de la TransCanada regresaban de ...   \n",
       "\n",
       "                                               Texto  \\\n",
       "0  Presidentes de las sociedades cooperativas pes...   \n",
       "1  Los casos ocurrieron en Guanajuato y Chihuahua...   \n",
       "2  Los empleados de la TransCanada regresaban de ...   \n",
       "\n",
       "                                       titulo_tokens  \\\n",
       "0  [['Exigen', 'a', 'TransCanada', 'transparentar...   \n",
       "1  [['Violento', 'fin', 'de', 'semana', 'en', 'do...   \n",
       "2  [['Expulsan', 'a', '3', 'personas', 'en', 'Pah...   \n",
       "\n",
       "                                     sintesis_tokens  \\\n",
       "0  [['Presidentes', 'de', 'las', 'sociedades', 'c...   \n",
       "1  [['Los', 'casos', 'ocurrieron', 'en', 'Guanaju...   \n",
       "2  [['Los', 'empleados', 'de', 'la', 'TransCanada...   \n",
       "\n",
       "                                        texto_tokens  \\\n",
       "0  [['Presidentes', 'de', 'las', 'sociedades', 'c...   \n",
       "1  [['Los', 'casos', 'ocurrieron', 'en', 'Guanaju...   \n",
       "2  [['Los', 'empleados', 'de', 'la', 'TransCanada...   \n",
       "\n",
       "                                    titulo_word_inds  \\\n",
       "0          [[23151, 8, 56126, 25835, 128, 2, 20125]]   \n",
       "1  [[42177, 127, 2, 435, 4, 38, 1425, 2, 16336, 1...   \n",
       "2   [[48750, 8, 1, 71, 4, 66437, 13, 926, 4, 20125]]   \n",
       "\n",
       "                         titulo_case_inds  \\\n",
       "0                 [[3, 1, 3, 1, 1, 1, 1]]   \n",
       "1  [[3, 1, 1, 1, 1, 1, 1, 1, 3, 4, 0, 1]]   \n",
       "2        [[3, 1, 0, 1, 1, 3, 1, 1, 1, 1]]   \n",
       "\n",
       "                                  sintesis_word_inds  \\\n",
       "0  [[8276, 2, 11, 2597, 8975, 13703, 2, 47087, 6,...   \n",
       "1  [[35, 301, 8038, 4, 5840, 6, 6319, 1], [5285, ...   \n",
       "2  [[35, 1659, 2, 3, 56126, 21451, 2, 855, 103, 2...   \n",
       "\n",
       "                                  sintesis_case_inds  \\\n",
       "0  [[3, 1, 1, 1, 1, 1, 1, 3, 1, 3, 4, 1, 1, 1, 3,...   \n",
       "1  [[3, 1, 1, 1, 3, 1, 3, 4], [3, 1, 5, 1, 1, 1, ...   \n",
       "2  [[3, 1, 1, 1, 3, 1, 1, 1, 1, 1, 1, 1, 1, 1, 1,...   \n",
       "\n",
       "                                     texto_word_inds  \\\n",
       "0  [[8276, 2, 11, 2597, 8975, 13703, 2, 47087, 6,...   \n",
       "1  [[35, 301, 8038, 4, 5840, 6, 6319, 1], [5285, ...   \n",
       "2  [[35, 1659, 2, 3, 56126, 21451, 2, 855, 103, 2...   \n",
       "\n",
       "                                     texto_case_inds  \n",
       "0  [[3, 1, 1, 1, 1, 1, 1, 3, 1, 3, 4, 1, 1, 1, 3,...  \n",
       "1  [[3, 1, 1, 1, 3, 1, 3, 4], [3, 1, 5, 1, 1, 1, ...  \n",
       "2  [[3, 1, 1, 1, 3, 1, 1, 1, 1, 1, 1, 1, 1, 1, 1,...  "
      ]
     },
     "execution_count": 7,
     "metadata": {},
     "output_type": "execute_result"
    }
   ],
   "source": [
    "# Load test set\n",
    "df = pd.read_csv(TEST_SET_PATH, sep=';', index_col=[0])\n",
    "df.head(3)"
   ]
  },
  {
   "cell_type": "code",
   "execution_count": 8,
   "metadata": {},
   "outputs": [],
   "source": [
    "def predict(model, word_indexes, case_indexes):\n",
    "    \"\"\"Predict word labels\"\"\"\n",
    "    \n",
    "    predictions = []\n",
    "    \n",
    "    #print('word_indexes ', word_indexes)\n",
    "    #print('case_indexes ',case_indexes)\n",
    "    word_inds_list = ast.literal_eval(word_indexes)\n",
    "    case_inds_list = ast.literal_eval(case_indexes)\n",
    "    #print('word_inds_list ', word_inds_list)\n",
    "    #print('case_inds_list ', case_inds_list)\n",
    "\n",
    "    \n",
    "    for idx, word_inds in enumerate(word_inds_list):\n",
    "        word_inds = np.asarray([word_inds])\n",
    "        case_inds = np.asarray([case_inds_list[idx]])\n",
    "        #print(type(word_inds), word_inds)\n",
    "        #print(type(case_inds), case_inds)\n",
    "        \n",
    "        pred = model.predict([word_inds, case_inds], verbose=False)[0]\n",
    "        #print(pred)\n",
    "        pred = pred.argmax(axis=-1) #Predict the classes  \n",
    "        #print(pred)\n",
    "        predictions.append(pred.tolist())\n",
    "    return(predictions)\n",
    "        "
   ]
  },
  {
   "cell_type": "code",
   "execution_count": 9,
   "metadata": {},
   "outputs": [
    {
     "data": {
      "text/plain": [
       "(1, 5)"
      ]
     },
     "execution_count": 9,
     "metadata": {},
     "output_type": "execute_result"
    }
   ],
   "source": [
    "label2Idx['B-LOC'], label2Idx['I-LOC'] "
   ]
  },
  {
   "cell_type": "code",
   "execution_count": 10,
   "metadata": {},
   "outputs": [],
   "source": [
    "def label_tokens(tokens_list, labels_list, idx2Label):\n",
    "    \"\"\"Add to  words their IOB labels\"\"\"\n",
    "    result = []\n",
    "    tokens_list = ast.literal_eval(tokens_list)\n",
    "    for idx, tokens in enumerate(tokens_list):\n",
    "        sent = []\n",
    "        labels = labels_list[idx]\n",
    "        for idx, token in enumerate(tokens):\n",
    "            sent.append((token, idx2Label[labels[idx]]))\n",
    "        result.append(sent)\n",
    "    return (result)"
   ]
  },
  {
   "cell_type": "code",
   "execution_count": 11,
   "metadata": {},
   "outputs": [],
   "source": [
    "def find_predicted_locations(tokens_list, labels_list, label2Idx):\n",
    "    \"\"\"For given label encodings find words with location tags\"\"\"\n",
    "    result = []\n",
    "    tokens_list = ast.literal_eval(tokens_list)\n",
    "    for idx, tokens in enumerate(tokens_list):\n",
    "        labels = labels_list[idx]\n",
    "        for idx, token in enumerate(tokens):\n",
    "            if(labels[idx] == label2Idx['B-LOC'] or labels[idx] == label2Idx['I-LOC']):\n",
    "                result.append((token, idx2Label[labels[idx]]))\n",
    "    return (result)\n",
    "        "
   ]
  },
  {
   "cell_type": "code",
   "execution_count": 12,
   "metadata": {},
   "outputs": [
    {
     "name": "stdout",
     "output_type": "stream",
     "text": [
      "*** sent:  Los hechos se registraron la madrugada de este lunes en el municipio de Jimenez\n",
      "*** tokens:  [['Los', 'hechos', 'se', 'registraron', 'la', 'madrugada', 'de', 'este', 'lunes', 'en', 'el', 'municipio', 'de', 'Jimenez']]\n",
      "*** word index:  [[35, 834, 12, 4628, 3, 3223, 2, 34, 1199, 4, 5, 340, 2, 31933]]\n",
      "*** case index:  [[3, 1, 1, 1, 1, 1, 1, 1, 1, 1, 1, 1, 1, 3]]\n",
      "*** labels:  [[0, 0, 0, 0, 0, 0, 0, 0, 0, 0, 0, 0, 0, 2]]\n",
      "*** labeled:  [[('Los', 'I-MISC'), ('hechos', 'I-MISC'), ('se', 'I-MISC'), ('registraron', 'I-MISC'), ('la', 'I-MISC'), ('madrugada', 'I-MISC'), ('de', 'I-MISC'), ('este', 'I-MISC'), ('lunes', 'I-MISC'), ('en', 'I-MISC'), ('el', 'I-MISC'), ('municipio', 'I-MISC'), ('de', 'I-MISC'), ('Jimenez', 'B-ORG')]]\n",
      "*** locations:  []\n"
     ]
    }
   ],
   "source": [
    "# test\n",
    "indx = 3\n",
    "column = 'Sintesis'\n",
    "prefix = column.lower()\n",
    "word_inds_name = prefix + '_word_inds'\n",
    "case_inds_name = prefix + '_case_inds'\n",
    "tokens_name = prefix + '_tokens'\n",
    "sent = df[column][indx] \n",
    "tokens = df[tokens_name][indx]\n",
    "print('*** sent: ',sent)\n",
    "print('*** tokens: ', tokens)\n",
    "word_inds = df[word_inds_name][indx]\n",
    "case_inds = df[case_inds_name][indx]\n",
    "print('*** word index: ',word_inds)\n",
    "print('*** case index: ',case_inds)\n",
    "label_list = predict(model, word_inds, case_inds)\n",
    "print('*** labels: ',label_list)\n",
    "labeled = label_tokens(tokens, label_list, idx2Label)\n",
    "print('*** labeled: ', labeled)\n",
    "locations = find_predicted_locations(tokens, label_list, label2Idx)\n",
    "print('*** locations: ', locations)"
   ]
  },
  {
   "cell_type": "markdown",
   "metadata": {},
   "source": [
    "# Predict IOB tags"
   ]
  },
  {
   "cell_type": "code",
   "execution_count": 13,
   "metadata": {},
   "outputs": [],
   "source": [
    "# Predict class labels\n",
    "df['titulo_labels'] = df.apply(lambda x: predict(model, x['titulo_word_inds'],\n",
    "                                                 x['titulo_case_inds']), axis=1) "
   ]
  },
  {
   "cell_type": "code",
   "execution_count": 14,
   "metadata": {},
   "outputs": [
    {
     "name": "stdout",
     "output_type": "stream",
     "text": [
      "CPU times: user 47.3 s, sys: 10.3 s, total: 57.6 s\n",
      "Wall time: 27.6 s\n"
     ]
    }
   ],
   "source": [
    "%%time\n",
    "df['sintesis_labels'] = df.apply(lambda x: predict(model, x['sintesis_word_inds'], \n",
    "                                                   x['sintesis_case_inds']), axis=1)     "
   ]
  },
  {
   "cell_type": "code",
   "execution_count": 15,
   "metadata": {},
   "outputs": [
    {
     "name": "stdout",
     "output_type": "stream",
     "text": [
      "CPU times: user 4min 57s, sys: 1min 5s, total: 6min 3s\n",
      "Wall time: 2min 52s\n"
     ]
    },
    {
     "data": {
      "text/html": [
       "<div>\n",
       "<style scoped>\n",
       "    .dataframe tbody tr th:only-of-type {\n",
       "        vertical-align: middle;\n",
       "    }\n",
       "\n",
       "    .dataframe tbody tr th {\n",
       "        vertical-align: top;\n",
       "    }\n",
       "\n",
       "    .dataframe thead th {\n",
       "        text-align: right;\n",
       "    }\n",
       "</style>\n",
       "<table border=\"1\" class=\"dataframe\">\n",
       "  <thead>\n",
       "    <tr style=\"text-align: right;\">\n",
       "      <th></th>\n",
       "      <th>Titulo</th>\n",
       "      <th>Sintesis</th>\n",
       "      <th>Texto</th>\n",
       "      <th>titulo_tokens</th>\n",
       "      <th>sintesis_tokens</th>\n",
       "      <th>texto_tokens</th>\n",
       "      <th>titulo_word_inds</th>\n",
       "      <th>titulo_case_inds</th>\n",
       "      <th>sintesis_word_inds</th>\n",
       "      <th>sintesis_case_inds</th>\n",
       "      <th>texto_word_inds</th>\n",
       "      <th>texto_case_inds</th>\n",
       "      <th>titulo_labels</th>\n",
       "      <th>sintesis_labels</th>\n",
       "      <th>texto_labels</th>\n",
       "    </tr>\n",
       "  </thead>\n",
       "  <tbody>\n",
       "    <tr>\n",
       "      <th>0</th>\n",
       "      <td>Exigen a TransCanada transparentar proyecto de...</td>\n",
       "      <td>Presidentes de las sociedades cooperativas pes...</td>\n",
       "      <td>Presidentes de las sociedades cooperativas pes...</td>\n",
       "      <td>[['Exigen', 'a', 'TransCanada', 'transparentar...</td>\n",
       "      <td>[['Presidentes', 'de', 'las', 'sociedades', 'c...</td>\n",
       "      <td>[['Presidentes', 'de', 'las', 'sociedades', 'c...</td>\n",
       "      <td>[[23151, 8, 56126, 25835, 128, 2, 20125]]</td>\n",
       "      <td>[[3, 1, 3, 1, 1, 1, 1]]</td>\n",
       "      <td>[[8276, 2, 11, 2597, 8975, 13703, 2, 47087, 6,...</td>\n",
       "      <td>[[3, 1, 1, 1, 1, 1, 1, 3, 1, 3, 4, 1, 1, 1, 3,...</td>\n",
       "      <td>[[8276, 2, 11, 2597, 8975, 13703, 2, 47087, 6,...</td>\n",
       "      <td>[[3, 1, 1, 1, 1, 1, 1, 3, 1, 3, 4, 1, 1, 1, 3,...</td>\n",
       "      <td>[[0, 0, 7, 0, 0, 0, 0]]</td>\n",
       "      <td>[[0, 0, 0, 0, 0, 0, 0, 2, 0, 7, 0, 0, 0, 0, 7,...</td>\n",
       "      <td>[[0, 0, 0, 0, 0, 0, 0, 2, 0, 7, 0, 0, 0, 0, 7,...</td>\n",
       "    </tr>\n",
       "    <tr>\n",
       "      <th>1</th>\n",
       "      <td>Violento fin de semana en dos estados de Mexic...</td>\n",
       "      <td>Los casos ocurrieron en Guanajuato y Chihuahua...</td>\n",
       "      <td>Los casos ocurrieron en Guanajuato y Chihuahua...</td>\n",
       "      <td>[['Violento', 'fin', 'de', 'semana', 'en', 'do...</td>\n",
       "      <td>[['Los', 'casos', 'ocurrieron', 'en', 'Guanaju...</td>\n",
       "      <td>[['Los', 'casos', 'ocurrieron', 'en', 'Guanaju...</td>\n",
       "      <td>[[42177, 127, 2, 435, 4, 38, 1425, 2, 16336, 1...</td>\n",
       "      <td>[[3, 1, 1, 1, 1, 1, 1, 1, 3, 4, 0, 1]]</td>\n",
       "      <td>[[35, 301, 8038, 4, 5840, 6, 6319, 1], [5285, ...</td>\n",
       "      <td>[[3, 1, 1, 1, 3, 1, 3, 4], [3, 1, 5, 1, 1, 1, ...</td>\n",
       "      <td>[[35, 301, 8038, 4, 5840, 6, 6319, 1], [5285, ...</td>\n",
       "      <td>[[3, 1, 1, 1, 3, 1, 3, 4], [3, 1, 5, 1, 1, 1, ...</td>\n",
       "      <td>[[0, 0, 0, 0, 0, 0, 0, 0, 2, 0, 0, 0]]</td>\n",
       "      <td>[[0, 0, 0, 0, 2, 0, 2, 0], [1, 0, 0, 0, 0, 0, ...</td>\n",
       "      <td>[[0, 0, 0, 0, 2, 0, 2, 0], [1, 0, 0, 0, 0, 0, ...</td>\n",
       "    </tr>\n",
       "    <tr>\n",
       "      <th>2</th>\n",
       "      <td>Expulsan a 3 personas en Pahuatlan por trabaja...</td>\n",
       "      <td>Los empleados de la TransCanada regresaban de ...</td>\n",
       "      <td>Los empleados de la TransCanada regresaban de ...</td>\n",
       "      <td>[['Expulsan', 'a', '3', 'personas', 'en', 'Pah...</td>\n",
       "      <td>[['Los', 'empleados', 'de', 'la', 'TransCanada...</td>\n",
       "      <td>[['Los', 'empleados', 'de', 'la', 'TransCanada...</td>\n",
       "      <td>[[48750, 8, 1, 71, 4, 66437, 13, 926, 4, 20125]]</td>\n",
       "      <td>[[3, 1, 0, 1, 1, 3, 1, 1, 1, 1]]</td>\n",
       "      <td>[[35, 1659, 2, 3, 56126, 21451, 2, 855, 103, 2...</td>\n",
       "      <td>[[3, 1, 1, 1, 3, 1, 1, 1, 1, 1, 1, 1, 1, 1, 1,...</td>\n",
       "      <td>[[35, 1659, 2, 3, 56126, 21451, 2, 855, 103, 2...</td>\n",
       "      <td>[[3, 1, 1, 1, 3, 1, 1, 1, 1, 1, 1, 1, 1, 1, 1,...</td>\n",
       "      <td>[[0, 0, 0, 0, 0, 2, 0, 0, 0, 0]]</td>\n",
       "      <td>[[0, 0, 0, 0, 7, 0, 0, 0, 0, 0, 0, 0, 0, 0, 0,...</td>\n",
       "      <td>[[0, 0, 0, 0, 7, 0, 0, 0, 0, 0, 0, 0, 0, 0, 0,...</td>\n",
       "    </tr>\n",
       "    <tr>\n",
       "      <th>3</th>\n",
       "      <td>Enfrentamiento entre civiles y militares deja ...</td>\n",
       "      <td>Los hechos se registraron la madrugada de este...</td>\n",
       "      <td>se reporta una persona detenida.</td>\n",
       "      <td>[['Enfrentamiento', 'entre', 'civiles', 'y', '...</td>\n",
       "      <td>[['Los', 'hechos', 'se', 'registraron', 'la', ...</td>\n",
       "      <td>[['se', 'reporta', 'una', 'persona', 'detenida...</td>\n",
       "      <td>[[32119, 33, 1148, 6, 872, 1877, 1, 1752, 4, 6...</td>\n",
       "      <td>[[3, 1, 1, 1, 1, 1, 0, 1, 1, 3]]</td>\n",
       "      <td>[[35, 834, 12, 4628, 3, 3223, 2, 34, 1199, 4, ...</td>\n",
       "      <td>[[3, 1, 1, 1, 1, 1, 1, 1, 1, 1, 1, 1, 1, 3]]</td>\n",
       "      <td>[[12, 12611, 17, 429, 8479, 1]]</td>\n",
       "      <td>[[1, 1, 1, 1, 1, 4]]</td>\n",
       "      <td>[[0, 0, 0, 0, 0, 0, 0, 0, 0, 2]]</td>\n",
       "      <td>[[0, 0, 0, 0, 0, 0, 0, 0, 0, 0, 0, 0, 0, 2]]</td>\n",
       "      <td>[[0, 0, 0, 0, 0, 0]]</td>\n",
       "    </tr>\n",
       "    <tr>\n",
       "      <th>4</th>\n",
       "      <td>Identifican a joven localizada sin vida en Gua...</td>\n",
       "      <td>La joven madre fue identificada como Rosario J...</td>\n",
       "      <td>La joven madre fue identificada como Rosario J...</td>\n",
       "      <td>[['Identifican', 'a', 'joven', 'localizada', '...</td>\n",
       "      <td>[['La', 'joven', 'madre', 'fue', 'identificada...</td>\n",
       "      <td>[['La', 'joven', 'madre', 'fue', 'identificada...</td>\n",
       "      <td>[[29293, 8, 779, 7394, 54, 133, 4, 57330]]</td>\n",
       "      <td>[[3, 1, 1, 1, 1, 1, 1, 3]]</td>\n",
       "      <td>[[24, 779, 842, 32, 9692, 23, 3764, 17412, 1, ...</td>\n",
       "      <td>[[3, 1, 1, 1, 1, 1, 3, 3, 2, 2, 4, 1, 1, 3, 4,...</td>\n",
       "      <td>[[24, 779, 842, 32, 9692, 23, 3764, 17412, 1, ...</td>\n",
       "      <td>[[3, 1, 1, 1, 1, 1, 3, 3, 2, 2, 4, 1, 1, 3, 4,...</td>\n",
       "      <td>[[0, 0, 0, 0, 0, 0, 0, 2]]</td>\n",
       "      <td>[[0, 0, 0, 0, 0, 0, 1, 4, 4, 4, 0, 0, 0, 2, 0,...</td>\n",
       "      <td>[[0, 0, 0, 0, 0, 0, 1, 4, 4, 4, 0, 0, 0, 2, 0,...</td>\n",
       "    </tr>\n",
       "  </tbody>\n",
       "</table>\n",
       "</div>"
      ],
      "text/plain": [
       "                                              Titulo  \\\n",
       "0  Exigen a TransCanada transparentar proyecto de...   \n",
       "1  Violento fin de semana en dos estados de Mexic...   \n",
       "2  Expulsan a 3 personas en Pahuatlan por trabaja...   \n",
       "3  Enfrentamiento entre civiles y militares deja ...   \n",
       "4  Identifican a joven localizada sin vida en Gua...   \n",
       "\n",
       "                                            Sintesis  \\\n",
       "0  Presidentes de las sociedades cooperativas pes...   \n",
       "1  Los casos ocurrieron en Guanajuato y Chihuahua...   \n",
       "2  Los empleados de la TransCanada regresaban de ...   \n",
       "3  Los hechos se registraron la madrugada de este...   \n",
       "4  La joven madre fue identificada como Rosario J...   \n",
       "\n",
       "                                               Texto  \\\n",
       "0  Presidentes de las sociedades cooperativas pes...   \n",
       "1  Los casos ocurrieron en Guanajuato y Chihuahua...   \n",
       "2  Los empleados de la TransCanada regresaban de ...   \n",
       "3                  se reporta una persona detenida.    \n",
       "4  La joven madre fue identificada como Rosario J...   \n",
       "\n",
       "                                       titulo_tokens  \\\n",
       "0  [['Exigen', 'a', 'TransCanada', 'transparentar...   \n",
       "1  [['Violento', 'fin', 'de', 'semana', 'en', 'do...   \n",
       "2  [['Expulsan', 'a', '3', 'personas', 'en', 'Pah...   \n",
       "3  [['Enfrentamiento', 'entre', 'civiles', 'y', '...   \n",
       "4  [['Identifican', 'a', 'joven', 'localizada', '...   \n",
       "\n",
       "                                     sintesis_tokens  \\\n",
       "0  [['Presidentes', 'de', 'las', 'sociedades', 'c...   \n",
       "1  [['Los', 'casos', 'ocurrieron', 'en', 'Guanaju...   \n",
       "2  [['Los', 'empleados', 'de', 'la', 'TransCanada...   \n",
       "3  [['Los', 'hechos', 'se', 'registraron', 'la', ...   \n",
       "4  [['La', 'joven', 'madre', 'fue', 'identificada...   \n",
       "\n",
       "                                        texto_tokens  \\\n",
       "0  [['Presidentes', 'de', 'las', 'sociedades', 'c...   \n",
       "1  [['Los', 'casos', 'ocurrieron', 'en', 'Guanaju...   \n",
       "2  [['Los', 'empleados', 'de', 'la', 'TransCanada...   \n",
       "3  [['se', 'reporta', 'una', 'persona', 'detenida...   \n",
       "4  [['La', 'joven', 'madre', 'fue', 'identificada...   \n",
       "\n",
       "                                    titulo_word_inds  \\\n",
       "0          [[23151, 8, 56126, 25835, 128, 2, 20125]]   \n",
       "1  [[42177, 127, 2, 435, 4, 38, 1425, 2, 16336, 1...   \n",
       "2   [[48750, 8, 1, 71, 4, 66437, 13, 926, 4, 20125]]   \n",
       "3  [[32119, 33, 1148, 6, 872, 1877, 1, 1752, 4, 6...   \n",
       "4         [[29293, 8, 779, 7394, 54, 133, 4, 57330]]   \n",
       "\n",
       "                         titulo_case_inds  \\\n",
       "0                 [[3, 1, 3, 1, 1, 1, 1]]   \n",
       "1  [[3, 1, 1, 1, 1, 1, 1, 1, 3, 4, 0, 1]]   \n",
       "2        [[3, 1, 0, 1, 1, 3, 1, 1, 1, 1]]   \n",
       "3        [[3, 1, 1, 1, 1, 1, 0, 1, 1, 3]]   \n",
       "4              [[3, 1, 1, 1, 1, 1, 1, 3]]   \n",
       "\n",
       "                                  sintesis_word_inds  \\\n",
       "0  [[8276, 2, 11, 2597, 8975, 13703, 2, 47087, 6,...   \n",
       "1  [[35, 301, 8038, 4, 5840, 6, 6319, 1], [5285, ...   \n",
       "2  [[35, 1659, 2, 3, 56126, 21451, 2, 855, 103, 2...   \n",
       "3  [[35, 834, 12, 4628, 3, 3223, 2, 34, 1199, 4, ...   \n",
       "4  [[24, 779, 842, 32, 9692, 23, 3764, 17412, 1, ...   \n",
       "\n",
       "                                  sintesis_case_inds  \\\n",
       "0  [[3, 1, 1, 1, 1, 1, 1, 3, 1, 3, 4, 1, 1, 1, 3,...   \n",
       "1  [[3, 1, 1, 1, 3, 1, 3, 4], [3, 1, 5, 1, 1, 1, ...   \n",
       "2  [[3, 1, 1, 1, 3, 1, 1, 1, 1, 1, 1, 1, 1, 1, 1,...   \n",
       "3       [[3, 1, 1, 1, 1, 1, 1, 1, 1, 1, 1, 1, 1, 3]]   \n",
       "4  [[3, 1, 1, 1, 1, 1, 3, 3, 2, 2, 4, 1, 1, 3, 4,...   \n",
       "\n",
       "                                     texto_word_inds  \\\n",
       "0  [[8276, 2, 11, 2597, 8975, 13703, 2, 47087, 6,...   \n",
       "1  [[35, 301, 8038, 4, 5840, 6, 6319, 1], [5285, ...   \n",
       "2  [[35, 1659, 2, 3, 56126, 21451, 2, 855, 103, 2...   \n",
       "3                    [[12, 12611, 17, 429, 8479, 1]]   \n",
       "4  [[24, 779, 842, 32, 9692, 23, 3764, 17412, 1, ...   \n",
       "\n",
       "                                     texto_case_inds  \\\n",
       "0  [[3, 1, 1, 1, 1, 1, 1, 3, 1, 3, 4, 1, 1, 1, 3,...   \n",
       "1  [[3, 1, 1, 1, 3, 1, 3, 4], [3, 1, 5, 1, 1, 1, ...   \n",
       "2  [[3, 1, 1, 1, 3, 1, 1, 1, 1, 1, 1, 1, 1, 1, 1,...   \n",
       "3                               [[1, 1, 1, 1, 1, 4]]   \n",
       "4  [[3, 1, 1, 1, 1, 1, 3, 3, 2, 2, 4, 1, 1, 3, 4,...   \n",
       "\n",
       "                            titulo_labels  \\\n",
       "0                 [[0, 0, 7, 0, 0, 0, 0]]   \n",
       "1  [[0, 0, 0, 0, 0, 0, 0, 0, 2, 0, 0, 0]]   \n",
       "2        [[0, 0, 0, 0, 0, 2, 0, 0, 0, 0]]   \n",
       "3        [[0, 0, 0, 0, 0, 0, 0, 0, 0, 2]]   \n",
       "4              [[0, 0, 0, 0, 0, 0, 0, 2]]   \n",
       "\n",
       "                                     sintesis_labels  \\\n",
       "0  [[0, 0, 0, 0, 0, 0, 0, 2, 0, 7, 0, 0, 0, 0, 7,...   \n",
       "1  [[0, 0, 0, 0, 2, 0, 2, 0], [1, 0, 0, 0, 0, 0, ...   \n",
       "2  [[0, 0, 0, 0, 7, 0, 0, 0, 0, 0, 0, 0, 0, 0, 0,...   \n",
       "3       [[0, 0, 0, 0, 0, 0, 0, 0, 0, 0, 0, 0, 0, 2]]   \n",
       "4  [[0, 0, 0, 0, 0, 0, 1, 4, 4, 4, 0, 0, 0, 2, 0,...   \n",
       "\n",
       "                                        texto_labels  \n",
       "0  [[0, 0, 0, 0, 0, 0, 0, 2, 0, 7, 0, 0, 0, 0, 7,...  \n",
       "1  [[0, 0, 0, 0, 2, 0, 2, 0], [1, 0, 0, 0, 0, 0, ...  \n",
       "2  [[0, 0, 0, 0, 7, 0, 0, 0, 0, 0, 0, 0, 0, 0, 0,...  \n",
       "3                               [[0, 0, 0, 0, 0, 0]]  \n",
       "4  [[0, 0, 0, 0, 0, 0, 1, 4, 4, 4, 0, 0, 0, 2, 0,...  "
      ]
     },
     "execution_count": 15,
     "metadata": {},
     "output_type": "execute_result"
    }
   ],
   "source": [
    "%%time\n",
    "df['texto_labels'] = df.apply(lambda x: predict(model, x['texto_word_inds'], \n",
    "                                                x['texto_case_inds']), axis=1)  \n",
    "df.head()"
   ]
  },
  {
   "cell_type": "markdown",
   "metadata": {},
   "source": [
    "# Find locations"
   ]
  },
  {
   "cell_type": "code",
   "execution_count": 16,
   "metadata": {},
   "outputs": [],
   "source": [
    "# For every text field convert IOB nymeric labels to IOB text tags\n",
    "df['titulo_tags'] = df.apply(lambda x: label_tokens(x['titulo_tokens'], \n",
    "                                                    x['titulo_labels'], idx2Label), axis = 1)"
   ]
  },
  {
   "cell_type": "code",
   "execution_count": 17,
   "metadata": {},
   "outputs": [],
   "source": [
    "df['sintesis_tags'] = df.apply(lambda x: label_tokens(x['sintesis_tokens'], \n",
    "                                                      x['sintesis_labels'], idx2Label), axis = 1)"
   ]
  },
  {
   "cell_type": "code",
   "execution_count": 18,
   "metadata": {},
   "outputs": [
    {
     "name": "stdout",
     "output_type": "stream",
     "text": [
      "CPU times: user 1.18 s, sys: 23.9 ms, total: 1.21 s\n",
      "Wall time: 1.21 s\n"
     ]
    }
   ],
   "source": [
    "%%time\n",
    "df['texto_tags'] = df.apply(lambda x: label_tokens(x['texto_tokens'], \n",
    "                                                   x['texto_labels'], idx2Label), axis = 1)"
   ]
  },
  {
   "cell_type": "code",
   "execution_count": 19,
   "metadata": {},
   "outputs": [
    {
     "data": {
      "text/plain": [
       "Titulo                Exigen a TransCanada transparentar proyecto de...\n",
       "Sintesis              Presidentes de las sociedades cooperativas pes...\n",
       "Texto                 Presidentes de las sociedades cooperativas pes...\n",
       "titulo_tokens         [['Exigen', 'a', 'TransCanada', 'transparentar...\n",
       "sintesis_tokens       [['Presidentes', 'de', 'las', 'sociedades', 'c...\n",
       "texto_tokens          [['Presidentes', 'de', 'las', 'sociedades', 'c...\n",
       "titulo_word_inds              [[23151, 8, 56126, 25835, 128, 2, 20125]]\n",
       "titulo_case_inds                                [[3, 1, 3, 1, 1, 1, 1]]\n",
       "sintesis_word_inds    [[8276, 2, 11, 2597, 8975, 13703, 2, 47087, 6,...\n",
       "sintesis_case_inds    [[3, 1, 1, 1, 1, 1, 1, 3, 1, 3, 4, 1, 1, 1, 3,...\n",
       "texto_word_inds       [[8276, 2, 11, 2597, 8975, 13703, 2, 47087, 6,...\n",
       "texto_case_inds       [[3, 1, 1, 1, 1, 1, 1, 3, 1, 3, 4, 1, 1, 1, 3,...\n",
       "titulo_labels                                   [[0, 0, 7, 0, 0, 0, 0]]\n",
       "sintesis_labels       [[0, 0, 0, 0, 0, 0, 0, 2, 0, 7, 0, 0, 0, 0, 7,...\n",
       "texto_labels          [[0, 0, 0, 0, 0, 0, 0, 2, 0, 7, 0, 0, 0, 0, 7,...\n",
       "titulo_tags           [[(Exigen, I-MISC), (a, I-MISC), (TransCanada,...\n",
       "sintesis_tags         [[(Presidentes, I-MISC), (de, I-MISC), (las, I...\n",
       "texto_tags            [[(Presidentes, I-MISC), (de, I-MISC), (las, I...\n",
       "Name: 0, dtype: object"
      ]
     },
     "execution_count": 19,
     "metadata": {},
     "output_type": "execute_result"
    }
   ],
   "source": [
    "df.iloc[0]"
   ]
  },
  {
   "cell_type": "code",
   "execution_count": 20,
   "metadata": {},
   "outputs": [
    {
     "name": "stdout",
     "output_type": "stream",
     "text": [
      "Celaya, Gto.- Un hombre fue asesinado de varios disparos de arma de fuego en la colonia Gobernadores, perteneciente al municipio de Celaya.\n",
      "[('Celaya', 'B-LOC'), ('Gto.-', 'B-LOC')]\n"
     ]
    }
   ],
   "source": [
    "# test\n",
    "indx = 17\n",
    "column = 'Sintesis'\n",
    "prefix = column.lower()\n",
    "tokens_name = prefix + '_tokens'\n",
    "labels_name = prefix + '_labels'\n",
    "print(df[column][indx])\n",
    "print(find_predicted_locations(df[tokens_name][indx], df[labels_name][indx], label2Idx))"
   ]
  },
  {
   "cell_type": "raw",
   "metadata": {},
   "source": [
    "A man was killed by several gunfire in the Governors neighborhood, \n",
    "belonging to the municipality of Celaya"
   ]
  },
  {
   "cell_type": "code",
   "execution_count": 21,
   "metadata": {},
   "outputs": [],
   "source": [
    "# For every text field filter out labels associated with locations: B-LOC, I-LOC\n",
    "df['titulo_locations'] = df.apply(lambda x: find_predicted_locations(x['titulo_tokens'], x['titulo_labels'], label2Idx), axis = 1)"
   ]
  },
  {
   "cell_type": "code",
   "execution_count": 22,
   "metadata": {},
   "outputs": [],
   "source": [
    "df['sintesis_locations'] = df.apply(lambda x: find_predicted_locations(x['sintesis_tokens'], x['sintesis_labels'], label2Idx), axis = 1)"
   ]
  },
  {
   "cell_type": "code",
   "execution_count": 23,
   "metadata": {},
   "outputs": [],
   "source": [
    "df['texto_locations'] = df.apply(lambda x: find_predicted_locations(x['texto_tokens'], x['texto_labels'], label2Idx), axis = 1)"
   ]
  },
  {
   "cell_type": "code",
   "execution_count": 24,
   "metadata": {},
   "outputs": [
    {
     "data": {
      "text/html": [
       "<div>\n",
       "<style scoped>\n",
       "    .dataframe tbody tr th:only-of-type {\n",
       "        vertical-align: middle;\n",
       "    }\n",
       "\n",
       "    .dataframe tbody tr th {\n",
       "        vertical-align: top;\n",
       "    }\n",
       "\n",
       "    .dataframe thead th {\n",
       "        text-align: right;\n",
       "    }\n",
       "</style>\n",
       "<table border=\"1\" class=\"dataframe\">\n",
       "  <thead>\n",
       "    <tr style=\"text-align: right;\">\n",
       "      <th></th>\n",
       "      <th>Titulo</th>\n",
       "      <th>Sintesis</th>\n",
       "      <th>Texto</th>\n",
       "      <th>titulo_tokens</th>\n",
       "      <th>sintesis_tokens</th>\n",
       "      <th>texto_tokens</th>\n",
       "      <th>titulo_word_inds</th>\n",
       "      <th>titulo_case_inds</th>\n",
       "      <th>sintesis_word_inds</th>\n",
       "      <th>sintesis_case_inds</th>\n",
       "      <th>...</th>\n",
       "      <th>texto_case_inds</th>\n",
       "      <th>titulo_labels</th>\n",
       "      <th>sintesis_labels</th>\n",
       "      <th>texto_labels</th>\n",
       "      <th>titulo_tags</th>\n",
       "      <th>sintesis_tags</th>\n",
       "      <th>texto_tags</th>\n",
       "      <th>titulo_locations</th>\n",
       "      <th>sintesis_locations</th>\n",
       "      <th>texto_locations</th>\n",
       "    </tr>\n",
       "  </thead>\n",
       "  <tbody>\n",
       "    <tr>\n",
       "      <th>0</th>\n",
       "      <td>Exigen a TransCanada transparentar proyecto de...</td>\n",
       "      <td>Presidentes de las sociedades cooperativas pes...</td>\n",
       "      <td>Presidentes de las sociedades cooperativas pes...</td>\n",
       "      <td>[['Exigen', 'a', 'TransCanada', 'transparentar...</td>\n",
       "      <td>[['Presidentes', 'de', 'las', 'sociedades', 'c...</td>\n",
       "      <td>[['Presidentes', 'de', 'las', 'sociedades', 'c...</td>\n",
       "      <td>[[23151, 8, 56126, 25835, 128, 2, 20125]]</td>\n",
       "      <td>[[3, 1, 3, 1, 1, 1, 1]]</td>\n",
       "      <td>[[8276, 2, 11, 2597, 8975, 13703, 2, 47087, 6,...</td>\n",
       "      <td>[[3, 1, 1, 1, 1, 1, 1, 3, 1, 3, 4, 1, 1, 1, 3,...</td>\n",
       "      <td>...</td>\n",
       "      <td>[[3, 1, 1, 1, 1, 1, 1, 3, 1, 3, 4, 1, 1, 1, 3,...</td>\n",
       "      <td>[[0, 0, 7, 0, 0, 0, 0]]</td>\n",
       "      <td>[[0, 0, 0, 0, 0, 0, 0, 2, 0, 7, 0, 0, 0, 0, 7,...</td>\n",
       "      <td>[[0, 0, 0, 0, 0, 0, 0, 2, 0, 7, 0, 0, 0, 0, 7,...</td>\n",
       "      <td>[[(Exigen, I-MISC), (a, I-MISC), (TransCanada,...</td>\n",
       "      <td>[[(Presidentes, I-MISC), (de, I-MISC), (las, I...</td>\n",
       "      <td>[[(Presidentes, I-MISC), (de, I-MISC), (las, I...</td>\n",
       "      <td>[]</td>\n",
       "      <td>[]</td>\n",
       "      <td>[(Gasoducto, I-LOC), (Citlali, B-LOC), (Refiri...</td>\n",
       "    </tr>\n",
       "    <tr>\n",
       "      <th>1</th>\n",
       "      <td>Violento fin de semana en dos estados de Mexic...</td>\n",
       "      <td>Los casos ocurrieron en Guanajuato y Chihuahua...</td>\n",
       "      <td>Los casos ocurrieron en Guanajuato y Chihuahua...</td>\n",
       "      <td>[['Violento', 'fin', 'de', 'semana', 'en', 'do...</td>\n",
       "      <td>[['Los', 'casos', 'ocurrieron', 'en', 'Guanaju...</td>\n",
       "      <td>[['Los', 'casos', 'ocurrieron', 'en', 'Guanaju...</td>\n",
       "      <td>[[42177, 127, 2, 435, 4, 38, 1425, 2, 16336, 1...</td>\n",
       "      <td>[[3, 1, 1, 1, 1, 1, 1, 1, 3, 4, 0, 1]]</td>\n",
       "      <td>[[35, 301, 8038, 4, 5840, 6, 6319, 1], [5285, ...</td>\n",
       "      <td>[[3, 1, 1, 1, 3, 1, 3, 4], [3, 1, 5, 1, 1, 1, ...</td>\n",
       "      <td>...</td>\n",
       "      <td>[[3, 1, 1, 1, 3, 1, 3, 4], [3, 1, 5, 1, 1, 1, ...</td>\n",
       "      <td>[[0, 0, 0, 0, 0, 0, 0, 0, 2, 0, 0, 0]]</td>\n",
       "      <td>[[0, 0, 0, 0, 2, 0, 2, 0], [1, 0, 0, 0, 0, 0, ...</td>\n",
       "      <td>[[0, 0, 0, 0, 2, 0, 2, 0], [1, 0, 0, 0, 0, 0, ...</td>\n",
       "      <td>[[(Violento, I-MISC), (fin, I-MISC), (de, I-MI...</td>\n",
       "      <td>[[(Los, I-MISC), (casos, I-MISC), (ocurrieron,...</td>\n",
       "      <td>[[(Los, I-MISC), (casos, I-MISC), (ocurrieron,...</td>\n",
       "      <td>[]</td>\n",
       "      <td>[(Mas, B-LOC)]</td>\n",
       "      <td>[(Mas, B-LOC), (Rocio, B-LOC), (Mayo, B-LOC), ...</td>\n",
       "    </tr>\n",
       "    <tr>\n",
       "      <th>2</th>\n",
       "      <td>Expulsan a 3 personas en Pahuatlan por trabaja...</td>\n",
       "      <td>Los empleados de la TransCanada regresaban de ...</td>\n",
       "      <td>Los empleados de la TransCanada regresaban de ...</td>\n",
       "      <td>[['Expulsan', 'a', '3', 'personas', 'en', 'Pah...</td>\n",
       "      <td>[['Los', 'empleados', 'de', 'la', 'TransCanada...</td>\n",
       "      <td>[['Los', 'empleados', 'de', 'la', 'TransCanada...</td>\n",
       "      <td>[[48750, 8, 1, 71, 4, 66437, 13, 926, 4, 20125]]</td>\n",
       "      <td>[[3, 1, 0, 1, 1, 3, 1, 1, 1, 1]]</td>\n",
       "      <td>[[35, 1659, 2, 3, 56126, 21451, 2, 855, 103, 2...</td>\n",
       "      <td>[[3, 1, 1, 1, 3, 1, 1, 1, 1, 1, 1, 1, 1, 1, 1,...</td>\n",
       "      <td>...</td>\n",
       "      <td>[[3, 1, 1, 1, 3, 1, 1, 1, 1, 1, 1, 1, 1, 1, 1,...</td>\n",
       "      <td>[[0, 0, 0, 0, 0, 2, 0, 0, 0, 0]]</td>\n",
       "      <td>[[0, 0, 0, 0, 7, 0, 0, 0, 0, 0, 0, 0, 0, 0, 0,...</td>\n",
       "      <td>[[0, 0, 0, 0, 7, 0, 0, 0, 0, 0, 0, 0, 0, 0, 0,...</td>\n",
       "      <td>[[(Expulsan, I-MISC), (a, I-MISC), (3, I-MISC)...</td>\n",
       "      <td>[[(Los, I-MISC), (empleados, I-MISC), (de, I-M...</td>\n",
       "      <td>[[(Los, I-MISC), (empleados, I-MISC), (de, I-M...</td>\n",
       "      <td>[]</td>\n",
       "      <td>[]</td>\n",
       "      <td>[(Presidente, B-LOC), (Rogelio, B-LOC), (Turis...</td>\n",
       "    </tr>\n",
       "    <tr>\n",
       "      <th>3</th>\n",
       "      <td>Enfrentamiento entre civiles y militares deja ...</td>\n",
       "      <td>Los hechos se registraron la madrugada de este...</td>\n",
       "      <td>se reporta una persona detenida.</td>\n",
       "      <td>[['Enfrentamiento', 'entre', 'civiles', 'y', '...</td>\n",
       "      <td>[['Los', 'hechos', 'se', 'registraron', 'la', ...</td>\n",
       "      <td>[['se', 'reporta', 'una', 'persona', 'detenida...</td>\n",
       "      <td>[[32119, 33, 1148, 6, 872, 1877, 1, 1752, 4, 6...</td>\n",
       "      <td>[[3, 1, 1, 1, 1, 1, 0, 1, 1, 3]]</td>\n",
       "      <td>[[35, 834, 12, 4628, 3, 3223, 2, 34, 1199, 4, ...</td>\n",
       "      <td>[[3, 1, 1, 1, 1, 1, 1, 1, 1, 1, 1, 1, 1, 3]]</td>\n",
       "      <td>...</td>\n",
       "      <td>[[1, 1, 1, 1, 1, 4]]</td>\n",
       "      <td>[[0, 0, 0, 0, 0, 0, 0, 0, 0, 2]]</td>\n",
       "      <td>[[0, 0, 0, 0, 0, 0, 0, 0, 0, 0, 0, 0, 0, 2]]</td>\n",
       "      <td>[[0, 0, 0, 0, 0, 0]]</td>\n",
       "      <td>[[(Enfrentamiento, I-MISC), (entre, I-MISC), (...</td>\n",
       "      <td>[[(Los, I-MISC), (hechos, I-MISC), (se, I-MISC...</td>\n",
       "      <td>[[(se, I-MISC), (reporta, I-MISC), (una, I-MIS...</td>\n",
       "      <td>[]</td>\n",
       "      <td>[]</td>\n",
       "      <td>[]</td>\n",
       "    </tr>\n",
       "    <tr>\n",
       "      <th>4</th>\n",
       "      <td>Identifican a joven localizada sin vida en Gua...</td>\n",
       "      <td>La joven madre fue identificada como Rosario J...</td>\n",
       "      <td>La joven madre fue identificada como Rosario J...</td>\n",
       "      <td>[['Identifican', 'a', 'joven', 'localizada', '...</td>\n",
       "      <td>[['La', 'joven', 'madre', 'fue', 'identificada...</td>\n",
       "      <td>[['La', 'joven', 'madre', 'fue', 'identificada...</td>\n",
       "      <td>[[29293, 8, 779, 7394, 54, 133, 4, 57330]]</td>\n",
       "      <td>[[3, 1, 1, 1, 1, 1, 1, 3]]</td>\n",
       "      <td>[[24, 779, 842, 32, 9692, 23, 3764, 17412, 1, ...</td>\n",
       "      <td>[[3, 1, 1, 1, 1, 1, 3, 3, 2, 2, 4, 1, 1, 3, 4,...</td>\n",
       "      <td>...</td>\n",
       "      <td>[[3, 1, 1, 1, 1, 1, 3, 3, 2, 2, 4, 1, 1, 3, 4,...</td>\n",
       "      <td>[[0, 0, 0, 0, 0, 0, 0, 2]]</td>\n",
       "      <td>[[0, 0, 0, 0, 0, 0, 1, 4, 4, 4, 0, 0, 0, 2, 0,...</td>\n",
       "      <td>[[0, 0, 0, 0, 0, 0, 1, 4, 4, 4, 0, 0, 0, 2, 0,...</td>\n",
       "      <td>[[(Identifican, I-MISC), (a, I-MISC), (joven, ...</td>\n",
       "      <td>[[(La, I-MISC), (joven, I-MISC), (madre, I-MIS...</td>\n",
       "      <td>[[(La, I-MISC), (joven, I-MISC), (madre, I-MIS...</td>\n",
       "      <td>[]</td>\n",
       "      <td>[(Rosario, B-LOC)]</td>\n",
       "      <td>[(Rosario, B-LOC), (Chihuahua.-, B-LOC), (Rosa...</td>\n",
       "    </tr>\n",
       "  </tbody>\n",
       "</table>\n",
       "<p>5 rows × 21 columns</p>\n",
       "</div>"
      ],
      "text/plain": [
       "                                              Titulo  \\\n",
       "0  Exigen a TransCanada transparentar proyecto de...   \n",
       "1  Violento fin de semana en dos estados de Mexic...   \n",
       "2  Expulsan a 3 personas en Pahuatlan por trabaja...   \n",
       "3  Enfrentamiento entre civiles y militares deja ...   \n",
       "4  Identifican a joven localizada sin vida en Gua...   \n",
       "\n",
       "                                            Sintesis  \\\n",
       "0  Presidentes de las sociedades cooperativas pes...   \n",
       "1  Los casos ocurrieron en Guanajuato y Chihuahua...   \n",
       "2  Los empleados de la TransCanada regresaban de ...   \n",
       "3  Los hechos se registraron la madrugada de este...   \n",
       "4  La joven madre fue identificada como Rosario J...   \n",
       "\n",
       "                                               Texto  \\\n",
       "0  Presidentes de las sociedades cooperativas pes...   \n",
       "1  Los casos ocurrieron en Guanajuato y Chihuahua...   \n",
       "2  Los empleados de la TransCanada regresaban de ...   \n",
       "3                  se reporta una persona detenida.    \n",
       "4  La joven madre fue identificada como Rosario J...   \n",
       "\n",
       "                                       titulo_tokens  \\\n",
       "0  [['Exigen', 'a', 'TransCanada', 'transparentar...   \n",
       "1  [['Violento', 'fin', 'de', 'semana', 'en', 'do...   \n",
       "2  [['Expulsan', 'a', '3', 'personas', 'en', 'Pah...   \n",
       "3  [['Enfrentamiento', 'entre', 'civiles', 'y', '...   \n",
       "4  [['Identifican', 'a', 'joven', 'localizada', '...   \n",
       "\n",
       "                                     sintesis_tokens  \\\n",
       "0  [['Presidentes', 'de', 'las', 'sociedades', 'c...   \n",
       "1  [['Los', 'casos', 'ocurrieron', 'en', 'Guanaju...   \n",
       "2  [['Los', 'empleados', 'de', 'la', 'TransCanada...   \n",
       "3  [['Los', 'hechos', 'se', 'registraron', 'la', ...   \n",
       "4  [['La', 'joven', 'madre', 'fue', 'identificada...   \n",
       "\n",
       "                                        texto_tokens  \\\n",
       "0  [['Presidentes', 'de', 'las', 'sociedades', 'c...   \n",
       "1  [['Los', 'casos', 'ocurrieron', 'en', 'Guanaju...   \n",
       "2  [['Los', 'empleados', 'de', 'la', 'TransCanada...   \n",
       "3  [['se', 'reporta', 'una', 'persona', 'detenida...   \n",
       "4  [['La', 'joven', 'madre', 'fue', 'identificada...   \n",
       "\n",
       "                                    titulo_word_inds  \\\n",
       "0          [[23151, 8, 56126, 25835, 128, 2, 20125]]   \n",
       "1  [[42177, 127, 2, 435, 4, 38, 1425, 2, 16336, 1...   \n",
       "2   [[48750, 8, 1, 71, 4, 66437, 13, 926, 4, 20125]]   \n",
       "3  [[32119, 33, 1148, 6, 872, 1877, 1, 1752, 4, 6...   \n",
       "4         [[29293, 8, 779, 7394, 54, 133, 4, 57330]]   \n",
       "\n",
       "                         titulo_case_inds  \\\n",
       "0                 [[3, 1, 3, 1, 1, 1, 1]]   \n",
       "1  [[3, 1, 1, 1, 1, 1, 1, 1, 3, 4, 0, 1]]   \n",
       "2        [[3, 1, 0, 1, 1, 3, 1, 1, 1, 1]]   \n",
       "3        [[3, 1, 1, 1, 1, 1, 0, 1, 1, 3]]   \n",
       "4              [[3, 1, 1, 1, 1, 1, 1, 3]]   \n",
       "\n",
       "                                  sintesis_word_inds  \\\n",
       "0  [[8276, 2, 11, 2597, 8975, 13703, 2, 47087, 6,...   \n",
       "1  [[35, 301, 8038, 4, 5840, 6, 6319, 1], [5285, ...   \n",
       "2  [[35, 1659, 2, 3, 56126, 21451, 2, 855, 103, 2...   \n",
       "3  [[35, 834, 12, 4628, 3, 3223, 2, 34, 1199, 4, ...   \n",
       "4  [[24, 779, 842, 32, 9692, 23, 3764, 17412, 1, ...   \n",
       "\n",
       "                                  sintesis_case_inds  ...  \\\n",
       "0  [[3, 1, 1, 1, 1, 1, 1, 3, 1, 3, 4, 1, 1, 1, 3,...  ...   \n",
       "1  [[3, 1, 1, 1, 3, 1, 3, 4], [3, 1, 5, 1, 1, 1, ...  ...   \n",
       "2  [[3, 1, 1, 1, 3, 1, 1, 1, 1, 1, 1, 1, 1, 1, 1,...  ...   \n",
       "3       [[3, 1, 1, 1, 1, 1, 1, 1, 1, 1, 1, 1, 1, 3]]  ...   \n",
       "4  [[3, 1, 1, 1, 1, 1, 3, 3, 2, 2, 4, 1, 1, 3, 4,...  ...   \n",
       "\n",
       "                                     texto_case_inds  \\\n",
       "0  [[3, 1, 1, 1, 1, 1, 1, 3, 1, 3, 4, 1, 1, 1, 3,...   \n",
       "1  [[3, 1, 1, 1, 3, 1, 3, 4], [3, 1, 5, 1, 1, 1, ...   \n",
       "2  [[3, 1, 1, 1, 3, 1, 1, 1, 1, 1, 1, 1, 1, 1, 1,...   \n",
       "3                               [[1, 1, 1, 1, 1, 4]]   \n",
       "4  [[3, 1, 1, 1, 1, 1, 3, 3, 2, 2, 4, 1, 1, 3, 4,...   \n",
       "\n",
       "                            titulo_labels  \\\n",
       "0                 [[0, 0, 7, 0, 0, 0, 0]]   \n",
       "1  [[0, 0, 0, 0, 0, 0, 0, 0, 2, 0, 0, 0]]   \n",
       "2        [[0, 0, 0, 0, 0, 2, 0, 0, 0, 0]]   \n",
       "3        [[0, 0, 0, 0, 0, 0, 0, 0, 0, 2]]   \n",
       "4              [[0, 0, 0, 0, 0, 0, 0, 2]]   \n",
       "\n",
       "                                     sintesis_labels  \\\n",
       "0  [[0, 0, 0, 0, 0, 0, 0, 2, 0, 7, 0, 0, 0, 0, 7,...   \n",
       "1  [[0, 0, 0, 0, 2, 0, 2, 0], [1, 0, 0, 0, 0, 0, ...   \n",
       "2  [[0, 0, 0, 0, 7, 0, 0, 0, 0, 0, 0, 0, 0, 0, 0,...   \n",
       "3       [[0, 0, 0, 0, 0, 0, 0, 0, 0, 0, 0, 0, 0, 2]]   \n",
       "4  [[0, 0, 0, 0, 0, 0, 1, 4, 4, 4, 0, 0, 0, 2, 0,...   \n",
       "\n",
       "                                        texto_labels  \\\n",
       "0  [[0, 0, 0, 0, 0, 0, 0, 2, 0, 7, 0, 0, 0, 0, 7,...   \n",
       "1  [[0, 0, 0, 0, 2, 0, 2, 0], [1, 0, 0, 0, 0, 0, ...   \n",
       "2  [[0, 0, 0, 0, 7, 0, 0, 0, 0, 0, 0, 0, 0, 0, 0,...   \n",
       "3                               [[0, 0, 0, 0, 0, 0]]   \n",
       "4  [[0, 0, 0, 0, 0, 0, 1, 4, 4, 4, 0, 0, 0, 2, 0,...   \n",
       "\n",
       "                                         titulo_tags  \\\n",
       "0  [[(Exigen, I-MISC), (a, I-MISC), (TransCanada,...   \n",
       "1  [[(Violento, I-MISC), (fin, I-MISC), (de, I-MI...   \n",
       "2  [[(Expulsan, I-MISC), (a, I-MISC), (3, I-MISC)...   \n",
       "3  [[(Enfrentamiento, I-MISC), (entre, I-MISC), (...   \n",
       "4  [[(Identifican, I-MISC), (a, I-MISC), (joven, ...   \n",
       "\n",
       "                                       sintesis_tags  \\\n",
       "0  [[(Presidentes, I-MISC), (de, I-MISC), (las, I...   \n",
       "1  [[(Los, I-MISC), (casos, I-MISC), (ocurrieron,...   \n",
       "2  [[(Los, I-MISC), (empleados, I-MISC), (de, I-M...   \n",
       "3  [[(Los, I-MISC), (hechos, I-MISC), (se, I-MISC...   \n",
       "4  [[(La, I-MISC), (joven, I-MISC), (madre, I-MIS...   \n",
       "\n",
       "                                          texto_tags titulo_locations  \\\n",
       "0  [[(Presidentes, I-MISC), (de, I-MISC), (las, I...               []   \n",
       "1  [[(Los, I-MISC), (casos, I-MISC), (ocurrieron,...               []   \n",
       "2  [[(Los, I-MISC), (empleados, I-MISC), (de, I-M...               []   \n",
       "3  [[(se, I-MISC), (reporta, I-MISC), (una, I-MIS...               []   \n",
       "4  [[(La, I-MISC), (joven, I-MISC), (madre, I-MIS...               []   \n",
       "\n",
       "   sintesis_locations                                    texto_locations  \n",
       "0                  []  [(Gasoducto, I-LOC), (Citlali, B-LOC), (Refiri...  \n",
       "1      [(Mas, B-LOC)]  [(Mas, B-LOC), (Rocio, B-LOC), (Mayo, B-LOC), ...  \n",
       "2                  []  [(Presidente, B-LOC), (Rogelio, B-LOC), (Turis...  \n",
       "3                  []                                                 []  \n",
       "4  [(Rosario, B-LOC)]  [(Rosario, B-LOC), (Chihuahua.-, B-LOC), (Rosa...  \n",
       "\n",
       "[5 rows x 21 columns]"
      ]
     },
     "execution_count": 24,
     "metadata": {},
     "output_type": "execute_result"
    }
   ],
   "source": [
    "df.head()"
   ]
  },
  {
   "cell_type": "code",
   "execution_count": 25,
   "metadata": {},
   "outputs": [
    {
     "data": {
      "text/plain": [
       "2251"
      ]
     },
     "execution_count": 25,
     "metadata": {},
     "output_type": "execute_result"
    }
   ],
   "source": [
    "len(df)"
   ]
  },
  {
   "cell_type": "code",
   "execution_count": 26,
   "metadata": {},
   "outputs": [
    {
     "name": "stdout",
     "output_type": "stream",
     "text": [
      "*** Len:  286\n"
     ]
    }
   ],
   "source": [
    "# Select not empty 'titulo' locations\n",
    "df_titulo_loc = df[ df['titulo_locations'].str.len() > 0 ]\n",
    "print('*** Len: ',len(df_titulo_loc))\n",
    "#df_titulo_loc.head()"
   ]
  },
  {
   "cell_type": "code",
   "execution_count": 27,
   "metadata": {},
   "outputs": [
    {
     "name": "stdout",
     "output_type": "stream",
     "text": [
      "*** Len:  837\n"
     ]
    }
   ],
   "source": [
    "# Select not empty 'sintesis' locations\n",
    "df_sintesis_loc = df[ df['sintesis_locations'].str.len() > 0 ]\n",
    "print('*** Len: ',len(df_sintesis_loc))\n",
    "#df_sintesis_loc.head()"
   ]
  },
  {
   "cell_type": "code",
   "execution_count": 28,
   "metadata": {},
   "outputs": [
    {
     "name": "stdout",
     "output_type": "stream",
     "text": [
      "*** Len:  1833\n"
     ]
    }
   ],
   "source": [
    "# Select not empty 'texto' locations\n",
    "df_texto_loc = df[ df['texto_locations'].str.len() > 0 ]\n",
    "print('*** Len: ',len(df_texto_loc))\n",
    "#df_texto_loc.head()"
   ]
  },
  {
   "cell_type": "code",
   "execution_count": 29,
   "metadata": {},
   "outputs": [
    {
     "data": {
      "text/plain": [
       "(48.24522434473567, 58.50733007552199, 91.38160817414483)"
      ]
     },
     "execution_count": 29,
     "metadata": {},
     "output_type": "execute_result"
    }
   ],
   "source": [
    "tit_pcnt = 1086.0 / 2251 * 100\n",
    "sin_pcnt = 1317.0 / 2251 * 100\n",
    "txt_pcnt = 2057.0 / 2251 * 100\n",
    "tit_pcnt, sin_pcnt, txt_pcnt "
   ]
  },
  {
   "cell_type": "code",
   "execution_count": 30,
   "metadata": {},
   "outputs": [],
   "source": [
    "def bestMatch(loc_tuples):\n",
    "    \"\"\" Unzip list with location tuples. Sort location names by occurance count. \n",
    "    Location names with max count are then at the end of the list. \n",
    "    Return location that is last in the list. \n",
    "    \"\"\"\n",
    "    best_match = ''\n",
    "    if(len(loc_tuples) > 0):\n",
    "        #print('*** Tuples: ', loc_tuples)\n",
    "        locs = [list(t) for t in zip(*loc_tuples)][0] # unzip list with location tuples\n",
    "        loc_cnts = Counter(locs) # count occurances of location names \n",
    "        loc_sorted = sorted(loc_cnts.items(), key=operator.itemgetter(1)) # sort dictionary by value - location count\n",
    "        loc_sorted_len = len(loc_sorted)\n",
    "        #print(loc_sorted) \n",
    "        best_match = loc_sorted[loc_sorted_len - 1][0]\n",
    "    return (best_match)"
   ]
  },
  {
   "cell_type": "code",
   "execution_count": 31,
   "metadata": {},
   "outputs": [
    {
     "name": "stdout",
     "output_type": "stream",
     "text": [
      "*** titulo_locations:  []\n",
      "*** sintesis_locations:  [('Villagran', 'B-LOC'), ('Juventino', 'B-LOC')]\n",
      "*** texto_locations:  [('JUVENTINO', 'B-LOC'), ('Villagran', 'B-LOC'), ('Juventino', 'B-LOC'), ('Abel', 'B-LOC'), ('Las', 'I-LOC'), ('Ibarra', 'B-LOC'), ('Emiliano', 'B-LOC'), ('Plutarco', 'B-LOC'), ('III', 'I-LOC')]\n",
      "*** Best Match:  Juventino\n"
     ]
    }
   ],
   "source": [
    "# Test\n",
    "indx = 176\n",
    "titulo_locs = df['titulo_locations'][indx]\n",
    "sintes_locs = df['sintesis_locations'][indx]\n",
    "text_locs = df['texto_locations'][indx]\n",
    "#print('*** Titulo: ', df['Titulo'][indx])\n",
    "print('*** titulo_locations: ', titulo_locs) \n",
    "#print('*** Sintesis: ', df['Sintesis'][indx])\n",
    "print('*** sintesis_locations: ', sintes_locs)\n",
    "#print('*** Texto: ', df['Texto'][indx])\n",
    "print('*** texto_locations: ', text_locs) \n",
    "loc_tuples = titulo_locs + sintes_locs + text_locs\n",
    "print('*** Best Match: ', bestMatch(loc_tuples))"
   ]
  },
  {
   "cell_type": "code",
   "execution_count": 32,
   "metadata": {},
   "outputs": [
    {
     "data": {
      "text/plain": [
       "'Capturan a sujeto con orden de aprehension por homicidio'"
      ]
     },
     "execution_count": 32,
     "metadata": {},
     "output_type": "execute_result"
    }
   ],
   "source": [
    "df['Titulo'][indx]"
   ]
  },
  {
   "cell_type": "code",
   "execution_count": 33,
   "metadata": {},
   "outputs": [
    {
     "data": {
      "text/plain": [
       "'La SSPE informo que la tarde-noche de este viernes, elementos de las Fuerzas de Seguridad Publica del Estado, Policia Ministerial y Policias municipales de Salamanca, Cortazar, Celaya, Comonfort, Villagran y Juventino Rosas, desplegaron un intenso operativo en diversas comunidades y colonias de esta localidad'"
      ]
     },
     "execution_count": 33,
     "metadata": {},
     "output_type": "execute_result"
    }
   ],
   "source": [
    "df['Sintesis'][indx]"
   ]
  },
  {
   "cell_type": "raw",
   "metadata": {},
   "source": [
    "JUVENTINO ROSAS, Gto. In an intermunicipal operation, PGJE, SSPE and police officers from 6 municipalities assured an armed man \n",
    "over whom the arrest warrant for the killing of 3 people weighs.... "
   ]
  },
  {
   "cell_type": "code",
   "execution_count": 34,
   "metadata": {},
   "outputs": [
    {
     "data": {
      "text/plain": [
       "'JUVENTINO ROSAS, Gto.  En operativo intermunicipal, PGJE, SSPE y policias de 6 municipios aseguraron a un hombre armado sobre quien pesa orden de aprehension por el homicidio de 3 personas. Se le decomiso un arma de fuego calibre 9 milimetros con 17 cartuchos utiles.  La SSPE informo que la tarde-noche de este viernes, elementos de las Fuerzas de Seguridad Publica del Estado, Policia Ministerial y Policias municipales de Salamanca, Cortazar, Celaya, Comonfort, Villagran y Juventino Rosas, desplegaron un intenso operativo en diversas comunidades y colonias de esta localidad.  En las inmediaciones de la comunidad de Rincon de Centeno, fue detenido un hombre, quien fue identificado como Abel N, de 41 Anos de edad, vecino de este municipio, a quien se le aseguro un arma de fuego calibre 9 milimetros, dos cargadores y 17 cartuchos utiles.  Al consultar informacion del detenido a traves del C5i, los efectivos policiales pudieron constatar que el hombre contaba con una orden de aprehension por homicidio de tres personas.  Por ello, fue puesto a disposicion de la autoridad correspondiente quien se encargara de definir su situacion legal. Tambien, durante el patrullaje de vigilancia fueron remitidos a los separos municipales cuatro personas por la comision de diversas faltas administrativas.  El operativo se desarrollo en las comunidades, San Juan de La Cruz, Maravillas y Rincon del Centeno, asi como en las colonias, Las Flores, Ibarra, Emiliano Zapata, 12 de Noviembre, Ejidal, Linda Vista, Praderas del Sol, Rio Grande, San Jose, Plutarco Elias Calles, La Luz I, II y III, y en la Estacion Mendez.  Se espera que en el transcurso de este lunes las autoridades ministeriales den informacion sobre la situacion legal del inculpado.'"
      ]
     },
     "execution_count": 34,
     "metadata": {},
     "output_type": "execute_result"
    }
   ],
   "source": [
    "df['Texto'][indx]"
   ]
  },
  {
   "cell_type": "code",
   "execution_count": 35,
   "metadata": {},
   "outputs": [],
   "source": [
    "# Calculate best match of location: \n",
    "# Select location name that occurs more often then others together in 'Titulo', 'Sintesis' and 'Texto'\n",
    "df['best_match'] = df.apply(lambda x: bestMatch(x['titulo_locations'] + x['sintesis_locations'] + x['texto_locations']), axis = 1)"
   ]
  },
  {
   "cell_type": "code",
   "execution_count": 36,
   "metadata": {},
   "outputs": [
    {
     "name": "stdout",
     "output_type": "stream",
     "text": [
      "*** df_best_match length:  1882\n"
     ]
    },
    {
     "data": {
      "text/plain": [
       "Index(['Titulo', 'Sintesis', 'Texto', 'titulo_tokens', 'sintesis_tokens',\n",
       "       'texto_tokens', 'titulo_word_inds', 'titulo_case_inds',\n",
       "       'sintesis_word_inds', 'sintesis_case_inds', 'texto_word_inds',\n",
       "       'texto_case_inds', 'titulo_labels', 'sintesis_labels', 'texto_labels',\n",
       "       'titulo_tags', 'sintesis_tags', 'texto_tags', 'titulo_locations',\n",
       "       'sintesis_locations', 'texto_locations', 'best_match'],\n",
       "      dtype='object')"
      ]
     },
     "execution_count": 36,
     "metadata": {},
     "output_type": "execute_result"
    }
   ],
   "source": [
    "# Select not empty 'best_match' locations\n",
    "df_best_match = df[ df['best_match'].str.len() > 0 ]\n",
    "print('*** df_best_match length: ',len(df_best_match))\n",
    "df_best_match.columns"
   ]
  },
  {
   "cell_type": "code",
   "execution_count": 37,
   "metadata": {},
   "outputs": [
    {
     "data": {
      "text/html": [
       "<div>\n",
       "<style scoped>\n",
       "    .dataframe tbody tr th:only-of-type {\n",
       "        vertical-align: middle;\n",
       "    }\n",
       "\n",
       "    .dataframe tbody tr th {\n",
       "        vertical-align: top;\n",
       "    }\n",
       "\n",
       "    .dataframe thead th {\n",
       "        text-align: right;\n",
       "    }\n",
       "</style>\n",
       "<table border=\"1\" class=\"dataframe\">\n",
       "  <thead>\n",
       "    <tr style=\"text-align: right;\">\n",
       "      <th></th>\n",
       "      <th>Titulo</th>\n",
       "      <th>Sintesis</th>\n",
       "      <th>Texto</th>\n",
       "      <th>titulo_tags</th>\n",
       "      <th>sintesis_tags</th>\n",
       "      <th>texto_tags</th>\n",
       "      <th>titulo_locations</th>\n",
       "      <th>sintesis_locations</th>\n",
       "      <th>texto_locations</th>\n",
       "      <th>best_match</th>\n",
       "    </tr>\n",
       "  </thead>\n",
       "  <tbody>\n",
       "    <tr>\n",
       "      <th>0</th>\n",
       "      <td>Exigen a TransCanada transparentar proyecto de...</td>\n",
       "      <td>Presidentes de las sociedades cooperativas pes...</td>\n",
       "      <td>Presidentes de las sociedades cooperativas pes...</td>\n",
       "      <td>[[(Exigen, I-MISC), (a, I-MISC), (TransCanada,...</td>\n",
       "      <td>[[(Presidentes, I-MISC), (de, I-MISC), (las, I...</td>\n",
       "      <td>[[(Presidentes, I-MISC), (de, I-MISC), (las, I...</td>\n",
       "      <td>[]</td>\n",
       "      <td>[]</td>\n",
       "      <td>[(Gasoducto, I-LOC), (Citlali, B-LOC), (Refiri...</td>\n",
       "      <td>Lorena</td>\n",
       "    </tr>\n",
       "    <tr>\n",
       "      <th>1</th>\n",
       "      <td>Violento fin de semana en dos estados de Mexic...</td>\n",
       "      <td>Los casos ocurrieron en Guanajuato y Chihuahua...</td>\n",
       "      <td>Los casos ocurrieron en Guanajuato y Chihuahua...</td>\n",
       "      <td>[[(Violento, I-MISC), (fin, I-MISC), (de, I-MI...</td>\n",
       "      <td>[[(Los, I-MISC), (casos, I-MISC), (ocurrieron,...</td>\n",
       "      <td>[[(Los, I-MISC), (casos, I-MISC), (ocurrieron,...</td>\n",
       "      <td>[]</td>\n",
       "      <td>[(Mas, B-LOC)]</td>\n",
       "      <td>[(Mas, B-LOC), (Rocio, B-LOC), (Mayo, B-LOC), ...</td>\n",
       "      <td>Mas</td>\n",
       "    </tr>\n",
       "    <tr>\n",
       "      <th>2</th>\n",
       "      <td>Expulsan a 3 personas en Pahuatlan por trabaja...</td>\n",
       "      <td>Los empleados de la TransCanada regresaban de ...</td>\n",
       "      <td>Los empleados de la TransCanada regresaban de ...</td>\n",
       "      <td>[[(Expulsan, I-MISC), (a, I-MISC), (3, I-MISC)...</td>\n",
       "      <td>[[(Los, I-MISC), (empleados, I-MISC), (de, I-M...</td>\n",
       "      <td>[[(Los, I-MISC), (empleados, I-MISC), (de, I-M...</td>\n",
       "      <td>[]</td>\n",
       "      <td>[]</td>\n",
       "      <td>[(Presidente, B-LOC), (Rogelio, B-LOC), (Turis...</td>\n",
       "      <td>Presidente</td>\n",
       "    </tr>\n",
       "    <tr>\n",
       "      <th>4</th>\n",
       "      <td>Identifican a joven localizada sin vida en Gua...</td>\n",
       "      <td>La joven madre fue identificada como Rosario J...</td>\n",
       "      <td>La joven madre fue identificada como Rosario J...</td>\n",
       "      <td>[[(Identifican, I-MISC), (a, I-MISC), (joven, ...</td>\n",
       "      <td>[[(La, I-MISC), (joven, I-MISC), (madre, I-MIS...</td>\n",
       "      <td>[[(La, I-MISC), (joven, I-MISC), (madre, I-MIS...</td>\n",
       "      <td>[]</td>\n",
       "      <td>[(Rosario, B-LOC)]</td>\n",
       "      <td>[(Rosario, B-LOC), (Chihuahua.-, B-LOC), (Rosa...</td>\n",
       "      <td>Rosario</td>\n",
       "    </tr>\n",
       "    <tr>\n",
       "      <th>5</th>\n",
       "      <td>Asaltan empresa de aluminio y roban vehiculo a...</td>\n",
       "      <td>No se registraron detenidos durante los hechos</td>\n",
       "      <td>CELAYA, Gto.-Tres delincuentes armados asaltar...</td>\n",
       "      <td>[[(Asaltan, I-MISC), (empresa, I-MISC), (de, I...</td>\n",
       "      <td>[[(No, I-MISC), (se, I-MISC), (registraron, I-...</td>\n",
       "      <td>[[(CELAYA, B-LOC), (,, I-MISC), (Gto.-Tres, I-...</td>\n",
       "      <td>[]</td>\n",
       "      <td>[]</td>\n",
       "      <td>[(CELAYA, B-LOC), (Pascual, B-LOC), (Reforma, ...</td>\n",
       "      <td>Ocampo</td>\n",
       "    </tr>\n",
       "  </tbody>\n",
       "</table>\n",
       "</div>"
      ],
      "text/plain": [
       "                                              Titulo  \\\n",
       "0  Exigen a TransCanada transparentar proyecto de...   \n",
       "1  Violento fin de semana en dos estados de Mexic...   \n",
       "2  Expulsan a 3 personas en Pahuatlan por trabaja...   \n",
       "4  Identifican a joven localizada sin vida en Gua...   \n",
       "5  Asaltan empresa de aluminio y roban vehiculo a...   \n",
       "\n",
       "                                            Sintesis  \\\n",
       "0  Presidentes de las sociedades cooperativas pes...   \n",
       "1  Los casos ocurrieron en Guanajuato y Chihuahua...   \n",
       "2  Los empleados de la TransCanada regresaban de ...   \n",
       "4  La joven madre fue identificada como Rosario J...   \n",
       "5     No se registraron detenidos durante los hechos   \n",
       "\n",
       "                                               Texto  \\\n",
       "0  Presidentes de las sociedades cooperativas pes...   \n",
       "1  Los casos ocurrieron en Guanajuato y Chihuahua...   \n",
       "2  Los empleados de la TransCanada regresaban de ...   \n",
       "4  La joven madre fue identificada como Rosario J...   \n",
       "5  CELAYA, Gto.-Tres delincuentes armados asaltar...   \n",
       "\n",
       "                                         titulo_tags  \\\n",
       "0  [[(Exigen, I-MISC), (a, I-MISC), (TransCanada,...   \n",
       "1  [[(Violento, I-MISC), (fin, I-MISC), (de, I-MI...   \n",
       "2  [[(Expulsan, I-MISC), (a, I-MISC), (3, I-MISC)...   \n",
       "4  [[(Identifican, I-MISC), (a, I-MISC), (joven, ...   \n",
       "5  [[(Asaltan, I-MISC), (empresa, I-MISC), (de, I...   \n",
       "\n",
       "                                       sintesis_tags  \\\n",
       "0  [[(Presidentes, I-MISC), (de, I-MISC), (las, I...   \n",
       "1  [[(Los, I-MISC), (casos, I-MISC), (ocurrieron,...   \n",
       "2  [[(Los, I-MISC), (empleados, I-MISC), (de, I-M...   \n",
       "4  [[(La, I-MISC), (joven, I-MISC), (madre, I-MIS...   \n",
       "5  [[(No, I-MISC), (se, I-MISC), (registraron, I-...   \n",
       "\n",
       "                                          texto_tags titulo_locations  \\\n",
       "0  [[(Presidentes, I-MISC), (de, I-MISC), (las, I...               []   \n",
       "1  [[(Los, I-MISC), (casos, I-MISC), (ocurrieron,...               []   \n",
       "2  [[(Los, I-MISC), (empleados, I-MISC), (de, I-M...               []   \n",
       "4  [[(La, I-MISC), (joven, I-MISC), (madre, I-MIS...               []   \n",
       "5  [[(CELAYA, B-LOC), (,, I-MISC), (Gto.-Tres, I-...               []   \n",
       "\n",
       "   sintesis_locations                                    texto_locations  \\\n",
       "0                  []  [(Gasoducto, I-LOC), (Citlali, B-LOC), (Refiri...   \n",
       "1      [(Mas, B-LOC)]  [(Mas, B-LOC), (Rocio, B-LOC), (Mayo, B-LOC), ...   \n",
       "2                  []  [(Presidente, B-LOC), (Rogelio, B-LOC), (Turis...   \n",
       "4  [(Rosario, B-LOC)]  [(Rosario, B-LOC), (Chihuahua.-, B-LOC), (Rosa...   \n",
       "5                  []  [(CELAYA, B-LOC), (Pascual, B-LOC), (Reforma, ...   \n",
       "\n",
       "   best_match  \n",
       "0      Lorena  \n",
       "1         Mas  \n",
       "2  Presidente  \n",
       "4     Rosario  \n",
       "5      Ocampo  "
      ]
     },
     "execution_count": 37,
     "metadata": {},
     "output_type": "execute_result"
    }
   ],
   "source": [
    "df_best_match = df_best_match.drop(['titulo_tokens', 'sintesis_tokens',\n",
    "       'texto_tokens', 'titulo_word_inds', 'titulo_case_inds',\n",
    "       'sintesis_word_inds', 'sintesis_case_inds', 'texto_word_inds',\n",
    "       'texto_case_inds', 'titulo_labels', 'sintesis_labels', 'texto_labels'\n",
    "       ], axis=1)\n",
    "df_best_match.head()"
   ]
  },
  {
   "cell_type": "code",
   "execution_count": 38,
   "metadata": {},
   "outputs": [],
   "source": [
    "# Save predictions\n",
    "df_best_match.to_csv(PREDICTIONS_PATH, sep=';')"
   ]
  },
  {
   "cell_type": "code",
   "execution_count": null,
   "metadata": {},
   "outputs": [],
   "source": []
  }
 ],
 "metadata": {
  "anaconda-cloud": {},
  "kernelspec": {
   "display_name": "Python 3",
   "language": "python",
   "name": "python3"
  },
  "language_info": {
   "codemirror_mode": {
    "name": "ipython",
    "version": 3
   },
   "file_extension": ".py",
   "mimetype": "text/x-python",
   "name": "python",
   "nbconvert_exporter": "python",
   "pygments_lexer": "ipython3",
   "version": "3.7.6"
  }
 },
 "nbformat": 4,
 "nbformat_minor": 1
}
