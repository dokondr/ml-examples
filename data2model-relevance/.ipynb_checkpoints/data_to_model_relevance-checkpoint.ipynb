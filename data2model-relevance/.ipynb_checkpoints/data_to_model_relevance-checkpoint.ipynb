{
 "cells": [
  {
   "cell_type": "markdown",
   "id": "67981263-93aa-4ee2-a0a3-c2d46917328b",
   "metadata": {
    "tags": []
   },
   "source": [
    "# Data to Model Relevance\n",
    "## How (dis)similar are train and test data?\n",
    "\n",
    "There may be cases, when even after selecting the best model (with cross-validation), that performs well on training data, this model fails to match up to the same performance for the test data.\n",
    "\n",
    "The reason for this may be not overfitting, but some inherent patterns in test data that model is not capturing.\n",
    "\n",
    "These new parterns result in a _dataset shift_ when the training and test distributions are different."
   ]
  },
  {
   "cell_type": "markdown",
   "id": "30a3dec1-8191-45c0-92dc-a15bd14d58ec",
   "metadata": {
    "tags": []
   },
   "source": [
    "Types of dataset shift:\n",
    "\n",
    "- Covariate shift\n",
    "- Prior probability shift\n",
    "- Concept shift\n",
    "- Internal covariate shift (an important subtype of covariate shift)"
   ]
  },
  {
   "cell_type": "markdown",
   "id": "40b39456-38cf-492c-b128-7366f5e6bce3",
   "metadata": {
    "tags": []
   },
   "source": [
    "## Covariate Shift\n",
    "\n",
    "Target variable in train and test set have the same functional dependency on input variables, but variables have different distribution.\n",
    "\n",
    "$\\mathbf P_{train}(y|x) = P_{test}(y|x)$<br>\n",
    "$\\mathbf P_{train}(x) \\neq P_{test}(x) $<br>"
   ]
  },
  {
   "cell_type": "markdown",
   "id": "8a5a61d6",
   "metadata": {
    "jupyter": {
     "source_hidden": true
    },
    "tags": []
   },
   "source": [
    "\n",
    "![Covariate Shift](./report/covariate-shift.png)\n"
   ]
  },
  {
   "cell_type": "markdown",
   "id": "58d6a560",
   "metadata": {},
   "source": [
    "The relevance of test data to a trained model can be calculated by checking if predictor variables have a different distribution in train and test data.\n",
    "\n",
    "**Main idea:** If there exists a covariate shift, then upon mixing train and test we’ll be able to classify the origin of each data point (whether it is from test or train) with good accuracy.\n",
    "\n",
    "Then a relevance weight $w_{train}$ of test sample $x_{test}$ in the train set is the probability of this sample to be in the train set.\n",
    "\n",
    "$\\mathbf w_{train}(x_{test}) = P_{train}(x_{test})$<br>\n",
    "\n",
    "\n",
    "To evaluate this idea, train and test sets are generated. The test is has a covariate shift. The train set is further splited into two sets with the same distribution: validation and train sets. "
   ]
  },
  {
   "cell_type": "code",
   "execution_count": 121,
   "id": "2ddfac55",
   "metadata": {
    "tags": []
   },
   "outputs": [],
   "source": [
    "import matplotlib.pyplot as plt\n",
    "import seaborn as sns; sns.set()\n",
    "import numpy as np\n",
    "import pandas as pd\n",
    "from sklearn.model_selection import StratifiedKFold \n",
    "from sklearn.linear_model import LogisticRegression\n",
    "from sklearn.ensemble import RandomForestRegressor\n",
    "from sklearn.ensemble import RandomForestClassifier\n",
    "from sklearn.linear_model import LinearRegression\n",
    "from sklearn.model_selection import train_test_split\n",
    "from sklearn.metrics import roc_auc_score as AUC\n",
    "from sklearn.metrics import mean_squared_error, r2_score\n",
    "from sklearn.metrics import accuracy_score"
   ]
  },
  {
   "cell_type": "code",
   "execution_count": 122,
   "id": "96aedd02",
   "metadata": {
    "tags": []
   },
   "outputs": [],
   "source": [
    "all_train_df_name = 'm2d_train_all.csv'\n",
    "train_df_name = 'm2d_train.csv'\n",
    "test_df_name = 'm2d_test.csv'\n",
    "test_neuton_df_name = 'm2d_test_neuton.csv'\n",
    "valid_df_name = 'm2d_valid.csv'"
   ]
  },
  {
   "cell_type": "code",
   "execution_count": 123,
   "id": "db1cdf29",
   "metadata": {
    "tags": []
   },
   "outputs": [],
   "source": [
    "def regressor(reg, x_train, y_train, x_valid, y_valid, x_test, y_test):\n",
    "    \"\"\"Train, predict and return metrics\n",
    "       Input:\n",
    "           reg - regression model instnace\n",
    "    \"\"\"\n",
    "   \n",
    "    reg.fit(x_train, y_train)\n",
    "    pred_valid = reg.predict(x_valid)\n",
    "    pred_test = reg.predict(x_test)\n",
    "    reg_score = reg.score(x_train, y_train)\n",
    "    mse_valid = mean_squared_error(y_valid, pred_valid)\n",
    "    mse_test = mean_squared_error(y_test, pred_test)\n",
    "    r2_valid = r2_score(y_valid, pred_valid)\n",
    "    r2_test = r2_score(y_test, pred_test)\n",
    "    return reg_score, pred_valid, pred_test, mse_valid, mse_test, r2_valid, r2_test"
   ]
  },
  {
   "cell_type": "code",
   "execution_count": 124,
   "id": "cac6df79",
   "metadata": {
    "jupyter": {
     "source_hidden": true
    },
    "tags": []
   },
   "outputs": [],
   "source": [
    "def plot(x_train, y_train, x_test, y_test, x_valid, y_valid, pred_valid, pred_test):\n",
    "    # Scatter plot of target 'y' from 'X'\n",
    "    _=plt.plot(x_train, y_train, marker='.', \n",
    "               linestyle = 'none', label='train', color='blue')\n",
    "    _=plt.plot(x_valid, y_valid, marker='.', \n",
    "               linestyle = 'none', label='valid', color='orange')\n",
    "    _=plt.plot(x_test, y_test, marker='.', \n",
    "               linestyle = 'none', label='test', color='red')\n",
    "    _=plt.xlabel(\"X\")\n",
    "    _=plt.ylabel(\"Y\")\n",
    "\n",
    "    # Plot predictions \n",
    "    _=plt.plot(x_valid, pred_valid, marker='.', color='green', linestyle = 'none', label='pred_val')\n",
    "    _=plt.plot(x_test, pred_test, marker='.', color='black', linestyle = 'none', label='pred_test')\n",
    "    _=plt.legend()\n",
    "    _=plt.show()\n",
    "    _=plt.close()"
   ]
  },
  {
   "cell_type": "code",
   "execution_count": 125,
   "id": "a7509a0d",
   "metadata": {},
   "outputs": [],
   "source": [
    "# make some data which has a clear covariate shift\n",
    "n_samples_X = 5000\n",
    "n_samples_TEST = 500"
   ]
  },
  {
   "cell_type": "code",
   "execution_count": 126,
   "id": "a8c94cdb",
   "metadata": {},
   "outputs": [
    {
     "name": "stdout",
     "output_type": "stream",
     "text": [
      "Train 4500 Test 500 Valid 500 \n"
     ]
    }
   ],
   "source": [
    "x = 11*np.random.random(n_samples_X)- 6.0\n",
    "y = x**2 + 10*np.random.random(n_samples_X) - 5\n",
    "all_train_df = pd.DataFrame({'x':x, 'y':y})\n",
    "\n",
    "x = 2*np.random.random(n_samples_TEST) - 7.5\n",
    "y = x**2 + 10*np.random.random(n_samples_TEST) - 5\n",
    "test_df = pd.DataFrame({'x':x, 'y':y})\n",
    "\n",
    "train_df, valid_df = train_test_split(all_train_df, test_size=0.1, random_state=0)\n",
    "print(\"Train {} Test {} Valid {} \".format(len(train_df), len(test_df), len(valid_df)))\n"
   ]
  },
  {
   "cell_type": "code",
   "execution_count": 127,
   "id": "f2172233-32ee-4efd-9659-70871977f7f7",
   "metadata": {
    "tags": []
   },
   "outputs": [],
   "source": [
    "all_train_df.to_csv(all_train_df_name, index=False)\n",
    "test_df.to_csv(test_df_name, index=False)\n",
    "df = pd.DataFrame({'x':x})\n",
    "df.to_csv(test_neuton_df_name, index=False)\n",
    "valid_df.to_csv(valid_df_name, index=False)\n",
    "train_df.to_csv(train_df_name, index=False)"
   ]
  },
  {
   "cell_type": "code",
   "execution_count": 128,
   "id": "0ec1a483",
   "metadata": {
    "tags": []
   },
   "outputs": [],
   "source": [
    "x_train = np.array(train_df['x']).reshape(-1,1)\n",
    "y_train = np.array(train_df['y']).reshape(-1,1)\n",
    "x_valid = np.array(valid_df['x']).reshape(-1,1)\n",
    "y_valid = np.array(valid_df['y']).reshape(-1,1)\n",
    "x_test = np.array(test_df['x']).reshape(-1,1)\n",
    "y_test = np.array(test_df['y']).reshape(-1,1)"
   ]
  },
  {
   "cell_type": "markdown",
   "id": "9c4eac5a-501a-4046-803d-138b87715cef",
   "metadata": {
    "jp-MarkdownHeadingCollapsed": true,
    "tags": []
   },
   "source": [
    "<b>Logistic Regression. Validation and Test set Predictions</b>"
   ]
  },
  {
   "cell_type": "code",
   "execution_count": 129,
   "id": "fa9ae786",
   "metadata": {
    "tags": []
   },
   "outputs": [
    {
     "name": "stdout",
     "output_type": "stream",
     "text": [
      "reg_score 0.08852442965628748 mse_valid 91.76217914291186 mse_test 772.5274177033195 r2_valid 0.11300581919963604 r2_test -10.486037406255926\n"
     ]
    }
   ],
   "source": [
    "reg = LinearRegression()\n",
    "reg_score, pred_valid, pred_test, mse_valid, mse_test, r2_valid, r2_test = regressor(reg, x_train, y_train, x_valid, y_valid, \n",
    "                                       x_test, y_test)\n",
    "print(\"reg_score {} mse_valid {} mse_test {} r2_valid {} r2_test {}\".format(reg_score, mse_valid, mse_test, r2_valid, r2_test))"
   ]
  },
  {
   "cell_type": "code",
   "execution_count": 130,
   "id": "acb5e1ee",
   "metadata": {
    "tags": []
   },
   "outputs": [
    {
     "data": {
      "image/png": "[encoded data removed]",
      "text/plain": [
       "<Figure size 432x288 with 1 Axes>"
      ]
     },
     "metadata": {},
     "output_type": "display_data"
    }
   ],
   "source": [
    "plot(x_train, y_train, x_test, y_test, x_valid, y_valid, pred_valid, pred_test)"
   ]
  },
  {
   "cell_type": "markdown",
   "id": "c945b8ca-c51e-407c-aedf-b7331d520c36",
   "metadata": {},
   "source": [
    "<b>Random Forest. Validation and Test set Predictions</b>"
   ]
  },
  {
   "cell_type": "code",
   "execution_count": 131,
   "id": "c01635c0",
   "metadata": {
    "collapsed": true,
    "jupyter": {
     "outputs_hidden": true
    },
    "tags": []
   },
   "outputs": [
    {
     "name": "stdout",
     "output_type": "stream",
     "text": [
      "reg_score 0.7705614250638799 mse_valid 21.19870590185857 mse_test 199.12005066076824 r2_valid 0.7950884672631564 r2_test -1.9605426264670052\n"
     ]
    },
    {
     "name": "stderr",
     "output_type": "stream",
     "text": [
      "<ipython-input-123-4c06e5e60518>:7: DataConversionWarning: A column-vector y was passed when a 1d array was expected. Please change the shape of y to (n_samples,), for example using ravel().\n",
      "  reg.fit(x_train, y_train)\n"
     ]
    }
   ],
   "source": [
    "reg = RandomForestRegressor(max_depth=2)\n",
    "reg_score, pred_valid, pred_test, mse_valid, mse_test, r2_valid, r2_test = regressor(reg, \n",
    "                                    x_train, y_train, x_valid, y_valid, x_test, y_test)\n",
    "print(\"reg_score {} mse_valid {} mse_test {} r2_valid {} r2_test {}\".format(reg_score, mse_valid, mse_test, r2_valid, r2_test))"
   ]
  },
  {
   "cell_type": "code",
   "execution_count": 132,
   "id": "fc693427",
   "metadata": {},
   "outputs": [
    {
     "data": {
      "image/png": "[encoded data removed]",
      "text/plain": [
       "<Figure size 432x288 with 1 Axes>"
      ]
     },
     "metadata": {},
     "output_type": "display_data"
    }
   ],
   "source": [
    "plot(x_train, y_train, x_test, y_test, x_valid, y_valid, pred_valid, pred_test)"
   ]
  },
  {
   "cell_type": "markdown",
   "id": "3e0aa3a0-a14c-45c9-9bcc-7fdfd42a0e8c",
   "metadata": {},
   "source": [
    "<b>Calculate test sample relevance weights</b>\n",
    "<ul>\n",
    "<li>Drop target variable from train\n",
    "<li>Add categorical variable 'is_train' to train and test sets and combine them\n",
    "<li>Use StratifiedKFold to train classifier and predict probabilities of all samples to be from the train and test sets.\n",
    "<li>Calculate test sample relevance weights as probability of test sample to be in the train set. \n",
    " </ul>"
   ]
  },
  {
   "cell_type": "code",
   "execution_count": 133,
   "id": "37be682b",
   "metadata": {
    "tags": []
   },
   "outputs": [],
   "source": [
    "def test_weights(test, train, target):\n",
    "    \"\"\"Calculate test weights\n",
    "    \"\"\"\n",
    "    # Adding a column to identify whether a row comes from train or not\n",
    "    test.loc[:,('is_train')] = 0\n",
    "    train.loc[:,('is_train')] = 1 \n",
    "    \n",
    "    # Combining test and train data\n",
    "    df_combine = pd.concat([train, test], axis=0, ignore_index=True)\n",
    "    \n",
    "    # Dropping ‘target’ column as it is not present in the test\n",
    "    df_combine = df_combine.drop(target, axis =1)\n",
    "    \n",
    "    # Labels\n",
    "    y = df_combine['is_train'].values \n",
    "    \n",
    "    # Covariates or our independent variables\n",
    "    x = df_combine.drop('is_train', axis=1).values \n",
    "    tst, trn = test.values, train.values\n",
    "    \n",
    "    # Predict the labels for each row in the combined dataset. \n",
    "    m = RandomForestClassifier(n_jobs=-1, max_depth=5, min_samples_leaf = 5)\n",
    "    predictions = np.zeros((y.shape[0],2)) #creating an empty prediction array\n",
    "    \n",
    "    # Stratified fold to ensure that percentage for each class is preserved \n",
    "    # and we cover the whole data once. \n",
    "    # For each row the classifier will calculate the probability of it belonging to train.\n",
    "    skf = StratifiedKFold(n_splits=20, shuffle=True, random_state=100)\n",
    "    for fold, (train_idx, test_idx) in enumerate(skf.split(x, y)):\n",
    "        X_train, X_test = x[train_idx], x[test_idx]\n",
    "        y_train, y_test = y[train_idx], y[test_idx]\n",
    " \n",
    "        m.fit(X_train, y_train)\n",
    "        predictions[test_idx] = m.predict_proba(X_test) #calculating the probability\n",
    "        \n",
    "    # High AUC (greater than 0.8) implies strong covariate shift between train and test.\n",
    "    auc =  AUC(y, predictions[:, 1])\n",
    "    \n",
    "    predictions_test = predictions[len(trn):]\n",
    "    #Test relevance weights equal to the probability of test sample to be in train set\n",
    "    test_relevance_weights = predictions_test[:,1]\n",
    "    \n",
    "    return auc, test_relevance_weights, predictions\n"
   ]
  },
  {
   "cell_type": "code",
   "execution_count": 134,
   "id": "a5f440a9",
   "metadata": {
    "tags": []
   },
   "outputs": [
    {
     "name": "stderr",
     "output_type": "stream",
     "text": [
      "/home/dk/usr/anaconda3/envs/tf-gpu/lib/python3.9/site-packages/pandas/core/indexing.py:1667: SettingWithCopyWarning: \n",
      "A value is trying to be set on a copy of a slice from a DataFrame.\n",
      "Try using .loc[row_indexer,col_indexer] = value instead\n",
      "\n",
      "See the caveats in the documentation: https://pandas.pydata.org/pandas-docs/stable/user_guide/indexing.html#returning-a-view-versus-a-copy\n",
      "  self.obj[key] = value\n"
     ]
    }
   ],
   "source": [
    "auc, test_relevance_weights, probs = test_weights(test_df, train_df, 'y')"
   ]
  },
  {
   "cell_type": "code",
   "execution_count": 135,
   "id": "ee6dffbe",
   "metadata": {},
   "outputs": [
    {
     "name": "stdout",
     "output_type": "stream",
     "text": [
      "0.9939657777777777\n"
     ]
    }
   ],
   "source": [
    "print(auc)"
   ]
  },
  {
   "cell_type": "markdown",
   "id": "3e2bd2df-0065-44ad-8f53-984cc154a403",
   "metadata": {},
   "source": [
    "<ul>\n",
    "<li>For test AUC > 0.9 which indicates that train and test sets are well separated.\n",
    "\n",
    "<li>Train and test sets and have different distributions, as expected for the test with covariate shift. \n",
    "\n",
    "<li>Distribution of test to model relevance has most weights less then 0.1\n",
    "</ul>"
   ]
  },
  {
   "cell_type": "code",
   "execution_count": 136,
   "id": "114541c2",
   "metadata": {},
   "outputs": [
    {
     "data": {
      "image/png": "[encoded data removed]",
      "text/plain": [
       "<Figure size 432x288 with 1 Axes>"
      ]
     },
     "metadata": {},
     "output_type": "display_data"
    }
   ],
   "source": [
    "_=sns.histplot(test_relevance_weights, kde=False)"
   ]
  },
  {
   "cell_type": "code",
   "execution_count": 137,
   "id": "01e19666",
   "metadata": {
    "tags": []
   },
   "outputs": [
    {
     "name": "stderr",
     "output_type": "stream",
     "text": [
      "/home/dk/usr/anaconda3/envs/tf-gpu/lib/python3.9/site-packages/pandas/core/indexing.py:1667: SettingWithCopyWarning: \n",
      "A value is trying to be set on a copy of a slice from a DataFrame.\n",
      "Try using .loc[row_indexer,col_indexer] = value instead\n",
      "\n",
      "See the caveats in the documentation: https://pandas.pydata.org/pandas-docs/stable/user_guide/indexing.html#returning-a-view-versus-a-copy\n",
      "  self.obj[key] = value\n",
      "/home/dk/usr/anaconda3/envs/tf-gpu/lib/python3.9/site-packages/pandas/core/indexing.py:1817: SettingWithCopyWarning: \n",
      "A value is trying to be set on a copy of a slice from a DataFrame.\n",
      "Try using .loc[row_indexer,col_indexer] = value instead\n",
      "\n",
      "See the caveats in the documentation: https://pandas.pydata.org/pandas-docs/stable/user_guide/indexing.html#returning-a-view-versus-a-copy\n",
      "  self._setitem_single_column(loc, value, pi)\n"
     ]
    }
   ],
   "source": [
    "auc, test_relevance_weights, predictions = test_weights(valid_df, train_df, 'y')"
   ]
  },
  {
   "cell_type": "code",
   "execution_count": 138,
   "id": "bc059020-d2a7-4488-b8c7-324b8eb64044",
   "metadata": {},
   "outputs": [
    {
     "name": "stdout",
     "output_type": "stream",
     "text": [
      "0.49413844444444444\n"
     ]
    }
   ],
   "source": [
    "print(auc)"
   ]
  },
  {
   "cell_type": "markdown",
   "id": "46c21899-3439-47cd-b94e-aaae7711cb01",
   "metadata": {},
   "source": [
    "<ul>\n",
    "<li>For validation data AUC is around 0.5 which indicates that train and validation sets have the similar distribution. <li>Distribution of test to model relevance has most weights around 0.9. \n",
    "<li>Validation data was randomly choosen from the train set and has no covariate shift.\n",
    "</ul>"
   ]
  },
  {
   "cell_type": "code",
   "execution_count": 139,
   "id": "ca3a3d07",
   "metadata": {},
   "outputs": [
    {
     "data": {
      "image/png": "[encoded data removed]",
      "text/plain": [
       "<Figure size 432x288 with 1 Axes>"
      ]
     },
     "metadata": {},
     "output_type": "display_data"
    }
   ],
   "source": [
    "_=sns.histplot(test_relevance_weights, kde=False)"
   ]
  },
  {
   "cell_type": "code",
   "execution_count": 140,
   "id": "e7c6d456",
   "metadata": {
    "collapsed": true,
    "jupyter": {
     "outputs_hidden": true
    },
    "tags": []
   },
   "outputs": [
    {
     "name": "stdout",
     "output_type": "stream",
     "text": [
      "<class 'pandas.core.frame.DataFrame'>\n",
      "RangeIndex: 5000 entries, 0 to 4999\n",
      "Data columns (total 2 columns):\n",
      " #   Column  Non-Null Count  Dtype  \n",
      "---  ------  --------------  -----  \n",
      " 0   x       5000 non-null   float64\n",
      " 1   y       5000 non-null   float64\n",
      "dtypes: float64(2)\n",
      "memory usage: 78.2 KB\n",
      "<class 'pandas.core.frame.DataFrame'>\n",
      "RangeIndex: 500 entries, 0 to 499\n",
      "Data columns (total 2 columns):\n",
      " #   Column  Non-Null Count  Dtype  \n",
      "---  ------  --------------  -----  \n",
      " 0   x       500 non-null    float64\n",
      " 1   y       500 non-null    float64\n",
      "dtypes: float64(2)\n",
      "memory usage: 7.9 KB\n",
      "<class 'pandas.core.frame.DataFrame'>\n",
      "RangeIndex: 500 entries, 0 to 499\n",
      "Data columns (total 2 columns):\n",
      " #   Column  Non-Null Count  Dtype  \n",
      "---  ------  --------------  -----  \n",
      " 0   x       500 non-null    float64\n",
      " 1   y       500 non-null    float64\n",
      "dtypes: float64(2)\n",
      "memory usage: 7.9 KB\n",
      "<class 'pandas.core.frame.DataFrame'>\n",
      "RangeIndex: 500 entries, 0 to 499\n",
      "Data columns (total 1 columns):\n",
      " #   Column  Non-Null Count  Dtype  \n",
      "---  ------  --------------  -----  \n",
      " 0   x       500 non-null    float64\n",
      "dtypes: float64(1)\n",
      "memory usage: 4.0 KB\n"
     ]
    },
    {
     "data": {
      "text/html": [
       "<div>\n",
       "<style scoped>\n",
       "    .dataframe tbody tr th:only-of-type {\n",
       "        vertical-align: middle;\n",
       "    }\n",
       "\n",
       "    .dataframe tbody tr th {\n",
       "        vertical-align: top;\n",
       "    }\n",
       "\n",
       "    .dataframe thead th {\n",
       "        text-align: right;\n",
       "    }\n",
       "</style>\n",
       "<table border=\"1\" class=\"dataframe\">\n",
       "  <thead>\n",
       "    <tr style=\"text-align: right;\">\n",
       "      <th></th>\n",
       "      <th>x</th>\n",
       "    </tr>\n",
       "  </thead>\n",
       "  <tbody>\n",
       "    <tr>\n",
       "      <th>0</th>\n",
       "      <td>-6.678818</td>\n",
       "    </tr>\n",
       "    <tr>\n",
       "      <th>1</th>\n",
       "      <td>-5.873650</td>\n",
       "    </tr>\n",
       "    <tr>\n",
       "      <th>2</th>\n",
       "      <td>-6.192973</td>\n",
       "    </tr>\n",
       "    <tr>\n",
       "      <th>3</th>\n",
       "      <td>-6.819561</td>\n",
       "    </tr>\n",
       "    <tr>\n",
       "      <th>4</th>\n",
       "      <td>-6.674363</td>\n",
       "    </tr>\n",
       "  </tbody>\n",
       "</table>\n",
       "</div>"
      ],
      "text/plain": [
       "          x\n",
       "0 -6.678818\n",
       "1 -5.873650\n",
       "2 -6.192973\n",
       "3 -6.819561\n",
       "4 -6.674363"
      ]
     },
     "execution_count": 140,
     "metadata": {},
     "output_type": "execute_result"
    }
   ],
   "source": [
    "all_train_df = pd.read_csv(all_train_df_name, index_col=False)\n",
    "all_train_df.info()\n",
    "all_train_df.head()\n",
    "\n",
    "df = pd.read_csv(valid_df_name, index_col=False)\n",
    "df.info()\n",
    "df.head()\n",
    "\n",
    "test_df = pd.read_csv(test_df_name, index_col=False)\n",
    "test_df.info()\n",
    "test_df.head()\n",
    "\n",
    "df = pd.read_csv(test_neuton_df_name, index_col=False)\n",
    "df.info()\n",
    "df.head()"
   ]
  }
 ],
 "metadata": {
  "kernelspec": {
   "display_name": "Python 3",
   "language": "python",
   "name": "python3"
  },
  "language_info": {
   "codemirror_mode": {
    "name": "ipython",
    "version": 3
   },
   "file_extension": ".py",
   "mimetype": "text/x-python",
   "name": "python",
   "nbconvert_exporter": "python",
   "pygments_lexer": "ipython3",
   "version": "3.9.5"
  }
 },
 "nbformat": 4,
 "nbformat_minor": 5
}
