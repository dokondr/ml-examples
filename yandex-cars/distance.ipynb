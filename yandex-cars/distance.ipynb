{
 "cells": [
  {
   "cell_type": "code",
   "execution_count": 1,
   "metadata": {},
   "outputs": [
    {
     "data": {
      "text/plain": [
       "'\\nCount total distances covered by a self-driving car in autopilot mode and in manual control mode\\n'"
      ]
     },
     "execution_count": 1,
     "metadata": {},
     "output_type": "execute_result"
    }
   ],
   "source": [
    "\"\"\"\n",
    "Count total distances covered by a self-driving car in autopilot mode and in manual control mode\n",
    "\"\"\""
   ]
  },
  {
   "cell_type": "code",
   "execution_count": 2,
   "metadata": {},
   "outputs": [],
   "source": [
    "from urllib.request import urlopen\n",
    "from math import radians\n",
    "import numpy as np\n",
    "import pandas as pd"
   ]
  },
  {
   "cell_type": "code",
   "execution_count": 3,
   "metadata": {},
   "outputs": [],
   "source": [
    "def get_switch(s):\n",
    "    \"\"\" Get control_switch_on state\n",
    "    \n",
    "        Args:\n",
    "            s - string\n",
    "            \n",
    "        Returns:\n",
    "            time \n",
    "            switch state: True/False\n",
    "    \"\"\"\n",
    "    switch, ts = s.split(',')\n",
    "    _, control = switch.split(':')\n",
    "    control = control == 'true'\n",
    "    _, ts = ts.split(':')\n",
    "    ts = float(ts.replace('}\\n',''))\n",
    "    #ts = ts.replace('}\\n','')\n",
    "    return(ts, control)"
   ]
  },
  {
   "cell_type": "code",
   "execution_count": 4,
   "metadata": {},
   "outputs": [],
   "source": [
    "def get_geo(s):\n",
    "    \"\"\"Get geo location\n",
    "    \n",
    "        Args:\n",
    "            s - string\n",
    "            \n",
    "        Returns:\n",
    "            time, lat, long\n",
    "            \n",
    "    \"\"\"\n",
    "    geo, ts = s.split('},')\n",
    "    _, ts = ts.split(':')\n",
    "    ts = ts.replace('}\\n','')\n",
    "    lat, lon = geo.split(',')\n",
    "    _, lon = lon.split(':')\n",
    "    _, lat = lat.split('\"lat\":')\n",
    "    return(float(ts), float(lat), float(lon))\n",
    "    #return ts,lat,lon"
   ]
  },
  {
   "cell_type": "code",
   "execution_count": 5,
   "metadata": {},
   "outputs": [
    {
     "name": "stdout",
     "output_type": "stream",
     "text": [
      "*** Total lines:  55884\n",
      "CPU times: user 388 ms, sys: 22.1 ms, total: 410 ms\n",
      "Wall time: 1.37 s\n"
     ]
    }
   ],
   "source": [
    "%%time\n",
    "#file_name = \"data\"\n",
    "#with open(file_name) as file: \n",
    "\n",
    "url = \"https://sdcimages.s3.yandex.net/test_task/data\"\n",
    "file  = urlopen(url)\n",
    "\n",
    "count = 0\n",
    "switch_times = []\n",
    "switch_on = []\n",
    "geo_times = []\n",
    "lats = []\n",
    "lons = []\n",
    "for string in file: \n",
    "    count += 1\n",
    "    line = string.decode(\"utf-8\")\n",
    "    if line.find('control_switch_on') > 0: \n",
    "        ts, on = get_switch(line)\n",
    "        switch_times.append(ts)\n",
    "        switch_on.append(on)\n",
    "    elif line.find('geo') > 0:\n",
    "        ts, lat, lon = get_geo(line)\n",
    "        geo_times.append(ts)\n",
    "        lats.append(lat)\n",
    "        lons.append(lon)\n",
    "    else:\n",
    "        print(\"*** Unknown format: \", line)\n",
    "        break;\n",
    "            \n",
    "print(\"*** Total lines: \", count)\n"
   ]
  },
  {
   "cell_type": "code",
   "execution_count": 6,
   "metadata": {},
   "outputs": [
    {
     "name": "stdout",
     "output_type": "stream",
     "text": [
      "*** control_switch_on:\n",
      "<class 'pandas.core.frame.DataFrame'>\n",
      "Int64Index: 24737 entries, 1563 to 8020\n",
      "Data columns (total 2 columns):\n",
      "time    24737 non-null float64\n",
      "on      24737 non-null bool\n",
      "dtypes: bool(1), float64(1)\n",
      "memory usage: 410.7 KB\n",
      "None\n"
     ]
    }
   ],
   "source": [
    "switch_on_df = pd.DataFrame({'time':switch_times, 'on':switch_on})\n",
    "switch_on_df = switch_on_df.sort_values(by='time').copy()\n",
    "print('*** control_switch_on:')\n",
    "print(switch_on_df.info())\n",
    "#print(switch_on_df.head())"
   ]
  },
  {
   "cell_type": "code",
   "execution_count": 7,
   "metadata": {},
   "outputs": [
    {
     "name": "stdout",
     "output_type": "stream",
     "text": [
      "*** Switch value counts:\n",
      "True     19982\n",
      "False     4755\n",
      "Name: on, dtype: int64\n"
     ]
    }
   ],
   "source": [
    "print('*** Switch value counts:')\n",
    "print(switch_on_df['on'].value_counts())"
   ]
  },
  {
   "cell_type": "code",
   "execution_count": 8,
   "metadata": {},
   "outputs": [
    {
     "name": "stdout",
     "output_type": "stream",
     "text": [
      "*** locations: \n",
      "<class 'pandas.core.frame.DataFrame'>\n",
      "Int64Index: 31147 entries, 256 to 8952\n",
      "Data columns (total 3 columns):\n",
      "time    31147 non-null float64\n",
      "lat     31147 non-null float64\n",
      "lon     31147 non-null float64\n",
      "dtypes: float64(3)\n",
      "memory usage: 973.3 KB\n",
      "None\n"
     ]
    }
   ],
   "source": [
    "geo_df = pd.DataFrame({'time':geo_times, 'lat':lats, 'lon':lons})\n",
    "geo_df = geo_df.sort_values(by='time').copy()\n",
    "print(\"*** locations: \")\n",
    "print(geo_df.info())\n",
    "#geo_df.head()"
   ]
  },
  {
   "cell_type": "code",
   "execution_count": 9,
   "metadata": {},
   "outputs": [],
   "source": [
    "# Left join locations with `control_switch_on` matching on nearest time\n",
    "df = pd.merge_asof(geo_df, switch_on_df.assign(time=switch_on_df[\"time\"].astype(float)), on=\"time\")"
   ]
  },
  {
   "cell_type": "code",
   "execution_count": 10,
   "metadata": {},
   "outputs": [
    {
     "name": "stdout",
     "output_type": "stream",
     "text": [
      "*** Left join locations with `control_switch_on` \n",
      "<class 'pandas.core.frame.DataFrame'>\n",
      "Int64Index: 31147 entries, 0 to 31146\n",
      "Data columns (total 4 columns):\n",
      "time    31147 non-null float64\n",
      "lat     31147 non-null float64\n",
      "lon     31147 non-null float64\n",
      "on      30920 non-null object\n",
      "dtypes: float64(3), object(1)\n",
      "memory usage: 1.2+ MB\n",
      "None\n",
      "           time        lat         lon   on\n",
      "0  1.546825e+18  36.108921 -115.155588  NaN\n",
      "1  1.546825e+18  36.108921 -115.155588  NaN\n",
      "2  1.546825e+18  36.108921 -115.155588  NaN\n",
      "3  1.546825e+18  36.108921 -115.155588  NaN\n",
      "4  1.546825e+18  36.108921 -115.155588  NaN\n"
     ]
    }
   ],
   "source": [
    "print(\"*** Left join locations with `control_switch_on` \")\n",
    "print(df.info())\n",
    "print(df.head())"
   ]
  },
  {
   "cell_type": "code",
   "execution_count": 11,
   "metadata": {},
   "outputs": [
    {
     "name": "stdout",
     "output_type": "stream",
     "text": [
      "*** Switch value counts (joined with locations):\n",
      " True     24976\n",
      "False     5944\n",
      "Name: on, dtype: int64\n"
     ]
    }
   ],
   "source": [
    "print(\"*** Switch value counts (joined with locations):\\n\",df['on'].value_counts())"
   ]
  },
  {
   "cell_type": "code",
   "execution_count": 12,
   "metadata": {},
   "outputs": [
    {
     "name": "stdout",
     "output_type": "stream",
     "text": [
      "*** Number of location records for which value of `control_switch_on` is not konown:  227\n"
     ]
    }
   ],
   "source": [
    "no_switch_info = df[df['time'] <= min(switch_on_df['time'].values)].copy()\n",
    "print(\"*** Number of location records for which value of `control_switch_on` is not konown: \",\n",
    "      len(no_switch_info))"
   ]
  },
  {
   "cell_type": "code",
   "execution_count": 13,
   "metadata": {},
   "outputs": [
    {
     "name": "stdout",
     "output_type": "stream",
     "text": [
      "<class 'pandas.core.frame.DataFrame'>\n",
      "Int64Index: 30920 entries, 227 to 31146\n",
      "Data columns (total 4 columns):\n",
      "time    30920 non-null float64\n",
      "lat     30920 non-null float64\n",
      "lon     30920 non-null float64\n",
      "on      30920 non-null object\n",
      "dtypes: float64(3), object(1)\n",
      "memory usage: 1.2+ MB\n"
     ]
    }
   ],
   "source": [
    "# Drop records with unknown switch\n",
    "df = df.dropna()\n",
    "df.info()"
   ]
  },
  {
   "cell_type": "code",
   "execution_count": 14,
   "metadata": {},
   "outputs": [],
   "source": [
    "#df.head()"
   ]
  },
  {
   "cell_type": "code",
   "execution_count": 15,
   "metadata": {},
   "outputs": [],
   "source": [
    "def distance(s_lat, s_lng, e_lat, e_lng):\n",
    "    \"\"\"  Find distance between two latitude-longitude coordinates with Haversine formula\n",
    "    \n",
    "        Args:\n",
    "            s_lat, s_lng - coordinates of the first point\n",
    "            e_lat, e_lng - coordinates of the second point\n",
    "            \n",
    "        Returns:\n",
    "            distances in km\n",
    "    \"\"\"    \n",
    "   \n",
    "    \n",
    "    R = 6371 # approximate radius of earth in km\n",
    "    \n",
    "    s_lat = np.deg2rad(s_lat)                    \n",
    "    s_lng = np.deg2rad(s_lng)     \n",
    "    e_lat = np.deg2rad(e_lat)                       \n",
    "    e_lng = np.deg2rad(e_lng)  \n",
    "    \n",
    "    d = np.sin((e_lat - s_lat)/2)**2 + np.cos(s_lat)*np.cos(\n",
    "        e_lat) * np.sin((e_lng - s_lng)/2)**2\n",
    "    \n",
    "    return 2 * R * np.arcsin(np.sqrt(d)) "
   ]
  },
  {
   "cell_type": "code",
   "execution_count": 16,
   "metadata": {},
   "outputs": [
    {
     "ename": "ModuleNotFoundError",
     "evalue": "No module named 'numpy.core._multiarray_umath'",
     "output_type": "error",
     "traceback": [
      "\u001b[0;31m---------------------------------------------------------------------------\u001b[0m",
      "\u001b[0;31mModuleNotFoundError\u001b[0m                       Traceback (most recent call last)",
      "\u001b[0;31mModuleNotFoundError\u001b[0m: No module named 'numpy.core._multiarray_umath'"
     ]
    }
   ],
   "source": [
    "# Calculate the distance between adjacent points in a vectorize way with shift:\n",
    "df['dist'] = distance(df['lat'], df['lon'], \n",
    "                      df['lat'].shift(-1), df['lon'].shift(-1))"
   ]
  },
  {
   "cell_type": "code",
   "execution_count": 17,
   "metadata": {},
   "outputs": [
    {
     "data": {
      "text/html": [
       "<div>\n",
       "<style scoped>\n",
       "    .dataframe tbody tr th:only-of-type {\n",
       "        vertical-align: middle;\n",
       "    }\n",
       "\n",
       "    .dataframe tbody tr th {\n",
       "        vertical-align: top;\n",
       "    }\n",
       "\n",
       "    .dataframe thead th {\n",
       "        text-align: right;\n",
       "    }\n",
       "</style>\n",
       "<table border=\"1\" class=\"dataframe\">\n",
       "  <thead>\n",
       "    <tr style=\"text-align: right;\">\n",
       "      <th></th>\n",
       "      <th>time</th>\n",
       "      <th>lat</th>\n",
       "      <th>lon</th>\n",
       "      <th>on</th>\n",
       "      <th>dist</th>\n",
       "    </tr>\n",
       "  </thead>\n",
       "  <tbody>\n",
       "    <tr>\n",
       "      <th>227</th>\n",
       "      <td>1.546825e+18</td>\n",
       "      <td>36.108921</td>\n",
       "      <td>-115.155588</td>\n",
       "      <td>False</td>\n",
       "      <td>7.073231e-13</td>\n",
       "    </tr>\n",
       "    <tr>\n",
       "      <th>228</th>\n",
       "      <td>1.546825e+18</td>\n",
       "      <td>36.108921</td>\n",
       "      <td>-115.155588</td>\n",
       "      <td>False</td>\n",
       "      <td>1.414646e-12</td>\n",
       "    </tr>\n",
       "    <tr>\n",
       "      <th>229</th>\n",
       "      <td>1.546825e+18</td>\n",
       "      <td>36.108921</td>\n",
       "      <td>-115.155588</td>\n",
       "      <td>False</td>\n",
       "      <td>0.000000e+00</td>\n",
       "    </tr>\n",
       "    <tr>\n",
       "      <th>230</th>\n",
       "      <td>1.546825e+18</td>\n",
       "      <td>36.108921</td>\n",
       "      <td>-115.155588</td>\n",
       "      <td>False</td>\n",
       "      <td>7.073231e-13</td>\n",
       "    </tr>\n",
       "    <tr>\n",
       "      <th>231</th>\n",
       "      <td>1.546825e+18</td>\n",
       "      <td>36.108921</td>\n",
       "      <td>-115.155588</td>\n",
       "      <td>False</td>\n",
       "      <td>7.073231e-13</td>\n",
       "    </tr>\n",
       "  </tbody>\n",
       "</table>\n",
       "</div>"
      ],
      "text/plain": [
       "             time        lat         lon     on          dist\n",
       "227  1.546825e+18  36.108921 -115.155588  False  7.073231e-13\n",
       "228  1.546825e+18  36.108921 -115.155588  False  1.414646e-12\n",
       "229  1.546825e+18  36.108921 -115.155588  False  0.000000e+00\n",
       "230  1.546825e+18  36.108921 -115.155588  False  7.073231e-13\n",
       "231  1.546825e+18  36.108921 -115.155588  False  7.073231e-13"
      ]
     },
     "execution_count": 17,
     "metadata": {},
     "output_type": "execute_result"
    }
   ],
   "source": [
    "df.head()"
   ]
  },
  {
   "cell_type": "code",
   "execution_count": 18,
   "metadata": {},
   "outputs": [],
   "source": [
    "total_dist = df['dist'].sum() # total distance\n",
    "auto_pilot_on_distance = df.loc[df['on'],'dist'].sum() # with autopilot \n",
    "auto_pilot_off_distance = total_dist - auto_pilot_on_distance"
   ]
  },
  {
   "cell_type": "code",
   "execution_count": 19,
   "metadata": {},
   "outputs": [
    {
     "name": "stdout",
     "output_type": "stream",
     "text": [
      "*** Distances: \n",
      "    - On autopilot (control_switch_on = true): 24486.18852885283 km \n",
      "    - With manual control (control_switch_on = false): 24482.164359693365 km\n"
     ]
    }
   ],
   "source": [
    "print(\"*** Distances: \")\n",
    "print(\"    - On autopilot (control_switch_on = true): {} km \".format(auto_pilot_on_distance))\n",
    "print(\"    - With manual control (control_switch_on = false): {} km\".format(auto_pilot_off_distance))"
   ]
  },
  {
   "cell_type": "code",
   "execution_count": null,
   "metadata": {},
   "outputs": [],
   "source": []
  }
 ],
 "metadata": {
  "kernelspec": {
   "display_name": "Python 3",
   "language": "python",
   "name": "python3"
  },
  "language_info": {
   "codemirror_mode": {
    "name": "ipython",
    "version": 3
   },
   "file_extension": ".py",
   "mimetype": "text/x-python",
   "name": "python",
   "nbconvert_exporter": "python",
   "pygments_lexer": "ipython3",
   "version": "3.6.10"
  }
 },
 "nbformat": 4,
 "nbformat_minor": 2
}
