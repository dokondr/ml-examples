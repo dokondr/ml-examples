{
 "cells": [
  {
   "cell_type": "markdown",
   "metadata": {
    "colab_type": "text",
    "id": "baGkqYXRzpiM"
   },
   "source": [
    "# Flight Delays Exploratory Data Analysis"
   ]
  },
  {
   "cell_type": "code",
   "execution_count": 0,
   "metadata": {
    "colab": {},
    "colab_type": "code",
    "id": "TcdL4wcNzpiO"
   },
   "outputs": [],
   "source": [
    "import numpy as np\n",
    "import pandas as pd\n",
    "#import datetime\n",
    "import matplotlib.pyplot as plt\n",
    "import seaborn as sns\n",
    "sns.set()"
   ]
  },
  {
   "cell_type": "code",
   "execution_count": 0,
   "metadata": {
    "colab": {},
    "colab_type": "code",
    "id": "9nufNBQFzpiT"
   },
   "outputs": [],
   "source": [
    "# Thiner line width\n",
    "# globally\n",
    "from matplotlib import rcParams\n",
    "rcParams['patch.linewidth'] = 0.0 #0.5\n",
    "# or for only this plot\n",
    "#_= plt.hist(data, bins=bins, linewidth=0.0)"
   ]
  },
  {
   "cell_type": "code",
   "execution_count": 0,
   "metadata": {
    "colab": {},
    "colab_type": "code",
    "id": "jF7tkWggz7R4"
   },
   "outputs": [],
   "source": [
    "COLAB = True"
   ]
  },
  {
   "cell_type": "code",
   "execution_count": null,
   "metadata": {
    "colab": {
     "base_uri": "https://localhost:8080/",
     "height": 122
    },
    "colab_type": "code",
    "id": "YGqyq_OJz4jK",
    "outputId": "bc40bd9f-334e-4fbb-b7d5-31a0ff6d3bc4"
   },
   "outputs": [],
   "source": [
    "if COLAB:\n",
    "    from google.colab import drive\n",
    "    drive.mount('/content/drive')\n",
    "    data_path = '/content/drive/My Drive/Colab Notebooks/schedule_dataset.xlsx'\n",
    "else:\n",
    "    data_path = 'schedule_dataset.xlsx'  "
   ]
  },
  {
   "cell_type": "code",
   "execution_count": 0,
   "metadata": {
    "colab": {},
    "colab_type": "code",
    "id": "iDMN1-CbzpiW"
   },
   "outputs": [],
   "source": [
    "df = pd.read_excel(data_path)"
   ]
  },
  {
   "cell_type": "code",
   "execution_count": 0,
   "metadata": {
    "colab": {
     "base_uri": "https://localhost:8080/",
     "height": 85
    },
    "colab_type": "code",
    "id": "IVXpWySYzpib",
    "outputId": "dd9e0cd3-a596-4e9c-e202-94dd10246e51"
   },
   "outputs": [
    {
     "data": {
      "text/plain": [
       "Index(['Дата рейса', 'Рейс', 'А/П отправл', 'А/П прибыт', 'Номер ВС',\n",
       "       'Время отправления по расписанию', 'Время отправления фактическое',\n",
       "       'Время прибытия по расписанию', 'Время прибытия фактическое'],\n",
       "      dtype='object')"
      ]
     },
     "execution_count": 7,
     "metadata": {
      "tags": []
     },
     "output_type": "execute_result"
    }
   ],
   "source": [
    "df.columns"
   ]
  },
  {
   "cell_type": "code",
   "execution_count": 0,
   "metadata": {
    "colab": {},
    "colab_type": "code",
    "id": "sbQJicrGzpif"
   },
   "outputs": [],
   "source": [
    "new_col_names=['date','flight','dep','dst','plane_id','dep_time_sched','dep_time_fact','dst_time_sched','dst_time_fact']\n",
    "df.columns = new_col_names"
   ]
  },
  {
   "cell_type": "code",
   "execution_count": 0,
   "metadata": {
    "colab": {
     "base_uri": "https://localhost:8080/",
     "height": 595
    },
    "colab_type": "code",
    "id": "KFGDOLyYzpii",
    "outputId": "99699dce-9be3-462b-a06f-24f8a93385a9"
   },
   "outputs": [
    {
     "name": "stdout",
     "output_type": "stream",
     "text": [
      "<class 'pandas.core.frame.DataFrame'>\n",
      "RangeIndex: 139732 entries, 0 to 139731\n",
      "Data columns (total 9 columns):\n",
      "date              139732 non-null datetime64[ns]\n",
      "flight            139732 non-null int64\n",
      "dep               139732 non-null object\n",
      "dst               139732 non-null object\n",
      "plane_id          139732 non-null int64\n",
      "dep_time_sched    139732 non-null datetime64[ns]\n",
      "dep_time_fact     139732 non-null datetime64[ns]\n",
      "dst_time_sched    139732 non-null datetime64[ns]\n",
      "dst_time_fact     139732 non-null datetime64[ns]\n",
      "dtypes: datetime64[ns](5), int64(2), object(2)\n",
      "memory usage: 9.6+ MB\n",
      "              flight       plane_id\n",
      "count  139732.000000  139732.000000\n",
      "mean      413.544829     112.266675\n",
      "std       253.934144      67.869558\n",
      "min         1.000000       1.000000\n",
      "25%       202.000000      54.000000\n",
      "50%       398.000000     107.000000\n",
      "75%       599.000000     172.000000\n",
      "max      1074.000000     246.000000\n"
     ]
    },
    {
     "data": {
      "text/html": [
       "<div>\n",
       "<style scoped>\n",
       "    .dataframe tbody tr th:only-of-type {\n",
       "        vertical-align: middle;\n",
       "    }\n",
       "\n",
       "    .dataframe tbody tr th {\n",
       "        vertical-align: top;\n",
       "    }\n",
       "\n",
       "    .dataframe thead th {\n",
       "        text-align: right;\n",
       "    }\n",
       "</style>\n",
       "<table border=\"1\" class=\"dataframe\">\n",
       "  <thead>\n",
       "    <tr style=\"text-align: right;\">\n",
       "      <th></th>\n",
       "      <th>date</th>\n",
       "      <th>flight</th>\n",
       "      <th>dep</th>\n",
       "      <th>dst</th>\n",
       "      <th>plane_id</th>\n",
       "      <th>dep_time_sched</th>\n",
       "      <th>dep_time_fact</th>\n",
       "      <th>dst_time_sched</th>\n",
       "      <th>dst_time_fact</th>\n",
       "    </tr>\n",
       "  </thead>\n",
       "  <tbody>\n",
       "    <tr>\n",
       "      <th>0</th>\n",
       "      <td>2018-03-01</td>\n",
       "      <td>1</td>\n",
       "      <td>MOW</td>\n",
       "      <td>ARH</td>\n",
       "      <td>1</td>\n",
       "      <td>2018-03-01 00:05:00</td>\n",
       "      <td>2018-02-28 23:48:00</td>\n",
       "      <td>2018-03-01 02:00:00</td>\n",
       "      <td>2018-03-01 01:48:00</td>\n",
       "    </tr>\n",
       "    <tr>\n",
       "      <th>1</th>\n",
       "      <td>2018-03-01</td>\n",
       "      <td>2</td>\n",
       "      <td>MOW</td>\n",
       "      <td>EGO</td>\n",
       "      <td>2</td>\n",
       "      <td>2018-03-01 00:05:00</td>\n",
       "      <td>2018-03-01 00:00:00</td>\n",
       "      <td>2018-03-01 01:30:00</td>\n",
       "      <td>2018-03-01 01:55:00</td>\n",
       "    </tr>\n",
       "    <tr>\n",
       "      <th>2</th>\n",
       "      <td>2018-03-01</td>\n",
       "      <td>3</td>\n",
       "      <td>MOW</td>\n",
       "      <td>AKX</td>\n",
       "      <td>3</td>\n",
       "      <td>2018-03-01 00:15:00</td>\n",
       "      <td>2018-03-01 00:14:00</td>\n",
       "      <td>2018-03-01 02:40:00</td>\n",
       "      <td>2018-03-01 02:32:00</td>\n",
       "    </tr>\n",
       "    <tr>\n",
       "      <th>3</th>\n",
       "      <td>2018-03-01</td>\n",
       "      <td>4</td>\n",
       "      <td>LED</td>\n",
       "      <td>MOW</td>\n",
       "      <td>4</td>\n",
       "      <td>2018-03-01 00:20:00</td>\n",
       "      <td>2018-03-01 00:11:00</td>\n",
       "      <td>2018-03-01 01:35:00</td>\n",
       "      <td>2018-03-01 01:39:00</td>\n",
       "    </tr>\n",
       "    <tr>\n",
       "      <th>4</th>\n",
       "      <td>2018-03-01</td>\n",
       "      <td>5</td>\n",
       "      <td>MOW</td>\n",
       "      <td>KRR</td>\n",
       "      <td>5</td>\n",
       "      <td>2018-03-01 00:25:00</td>\n",
       "      <td>2018-03-01 00:21:00</td>\n",
       "      <td>2018-03-01 02:40:00</td>\n",
       "      <td>2018-03-01 02:41:00</td>\n",
       "    </tr>\n",
       "  </tbody>\n",
       "</table>\n",
       "</div>"
      ],
      "text/plain": [
       "        date  flight  ...      dst_time_sched       dst_time_fact\n",
       "0 2018-03-01       1  ... 2018-03-01 02:00:00 2018-03-01 01:48:00\n",
       "1 2018-03-01       2  ... 2018-03-01 01:30:00 2018-03-01 01:55:00\n",
       "2 2018-03-01       3  ... 2018-03-01 02:40:00 2018-03-01 02:32:00\n",
       "3 2018-03-01       4  ... 2018-03-01 01:35:00 2018-03-01 01:39:00\n",
       "4 2018-03-01       5  ... 2018-03-01 02:40:00 2018-03-01 02:41:00\n",
       "\n",
       "[5 rows x 9 columns]"
      ]
     },
     "execution_count": 9,
     "metadata": {
      "tags": []
     },
     "output_type": "execute_result"
    }
   ],
   "source": [
    "df.info()\n",
    "print(df.describe())\n",
    "df.head()"
   ]
  },
  {
   "cell_type": "code",
   "execution_count": 0,
   "metadata": {
    "colab": {
     "base_uri": "https://localhost:8080/",
     "height": 54
    },
    "colab_type": "code",
    "id": "_eO8BWXJzpim",
    "outputId": "91a44eb2-179a-48f8-ad15-0c1bbbbf39c7"
   },
   "outputs": [
    {
     "name": "stdout",
     "output_type": "stream",
     "text": [
      "157 {'TAS', 'KHV', 'ATH', 'IAR', 'SZG', 'WAW', 'HKT', 'VLC', 'KZO', 'IKA', 'NBC', 'PKC', 'AMS', 'FCO', 'BLQ', 'ARH', 'OTP', 'SKD', 'AGP', 'VRN', 'KZN', 'VNO', 'SAW', 'ROV', 'GDZ', 'KIV', 'AYT', 'KUN', 'BAX', 'CDG', 'LAX', 'KGD', 'BUD', 'GUW', 'BKK', 'BEY', 'HMA', 'STW', 'PEK', 'SOF', 'ASF', 'AKX', 'RTW', 'RIX', 'GOJ', 'MMK', 'PVG', 'KJA', 'HAJ', 'DRS', 'KUF', 'SVX', 'IAD', 'KGF', 'SGN', 'TIV', 'MIA', 'ALA', 'GYD', 'LYS', 'SCW', 'EVN', 'IST', 'ULN', 'TFS', 'MUC', 'TSE', 'NOZ', 'MOW', 'SKX', 'GRV', 'GDX', 'CEK', 'TLL', 'NRT', 'OVB', 'VOZ', 'HAM', 'MXP', 'FRA', 'VIE', 'PEE', 'VVO', 'TJM', 'HAV', 'ABA', 'CAI', 'BEG', 'CAN', 'HKG', 'SIP', 'SXF', 'DXB', 'FRU', 'UFA', 'KEJ', 'GNB', 'ZRH', 'ZIA', 'KSN', 'TLV', 'SLY', 'TGD', 'CIT', 'VOG', 'BCN', 'LGW', 'REN', 'ICN', 'SCO', 'IKT', 'EGO', 'AAQ', 'MRV', 'TBS', 'NUX', 'HEL', 'LCA', 'STR', 'MLE', 'PLQ', 'HER', 'SPU', 'NAP', 'AER', 'LTN', 'GVA', 'NCE', 'TOF', 'MAD', 'BRU', 'LED', 'SKG', 'DEL', 'DUS', 'PED', 'BOJ', 'VKO', 'OSL', 'MQF', 'ARN', 'KRR', 'ZAG', 'LIS', 'PRG', 'MSQ', 'ALC', 'UUS', 'CPH', 'VCE', 'SGC', 'HAN', 'NJC', 'JFK', 'OMS', 'YKS', 'LHR'}\n"
     ]
    }
   ],
   "source": [
    "unique_dep = set(df['dep'].unique()) # unique depature airports\n",
    "print(len(unique_dep), unique_dep)"
   ]
  },
  {
   "cell_type": "code",
   "execution_count": 0,
   "metadata": {
    "colab": {
     "base_uri": "https://localhost:8080/",
     "height": 54
    },
    "colab_type": "code",
    "id": "E3lFe72izpip",
    "outputId": "becf6ea6-0774-4045-e98f-501b7474f0d7"
   },
   "outputs": [
    {
     "name": "stdout",
     "output_type": "stream",
     "text": [
      "157 {'TAS', 'KHV', 'ATH', 'IAR', 'SZG', 'WAW', 'HKT', 'DME', 'VLC', 'KZO', 'IKA', 'NBC', 'PKC', 'FCO', 'AMS', 'BLQ', 'ARH', 'OTP', 'SKD', 'AGP', 'VRN', 'KZN', 'VNO', 'SAW', 'ROV', 'GDZ', 'KIV', 'AYT', 'KUN', 'BAX', 'CDG', 'LAX', 'KGD', 'BUD', 'GUW', 'BKK', 'BEY', 'HMA', 'STW', 'PEK', 'SOF', 'ASF', 'AKX', 'RTW', 'RIX', 'GOJ', 'MMK', 'PVG', 'KJA', 'HAJ', 'DRS', 'KUF', 'SVX', 'IAD', 'KGF', 'TIV', 'SGN', 'MIA', 'GYD', 'ALA', 'LYS', 'SCW', 'EVN', 'IST', 'ULN', 'TFS', 'MUC', 'TSE', 'NOZ', 'MOW', 'SKX', 'GRV', 'GDX', 'CEK', 'TLL', 'NRT', 'OVB', 'VOZ', 'HAM', 'MXP', 'VIE', 'FRA', 'PEE', 'VVO', 'TJM', 'HAV', 'ABA', 'CAI', 'BEG', 'CAN', 'HKG', 'SIP', 'SXF', 'DXB', 'FRU', 'UFA', 'KEJ', 'GNB', 'ZRH', 'ZIA', 'KSN', 'TLV', 'SLY', 'CIT', 'VOG', 'BCN', 'LGW', 'REN', 'ICN', 'SCO', 'IKT', 'EGO', 'AAQ', 'MRV', 'TBS', 'NUX', 'HEL', 'LCA', 'STR', 'MLE', 'PLQ', 'HER', 'SPU', 'NAP', 'AER', 'LTN', 'GVA', 'NCE', 'TOF', 'MAD', 'BRU', 'LED', 'SKG', 'DUS', 'DEL', 'PED', 'BOJ', 'VKO', 'OSL', 'MQF', 'KRR', 'ARN', 'ZAG', 'LIS', 'PRG', 'MSQ', 'ALC', 'UUS', 'NJC', 'SGC', 'VCE', 'CPH', 'HAN', 'JFK', 'OMS', 'YKS', 'LHR'}\n"
     ]
    }
   ],
   "source": [
    "unique_dst = set(df['dst'].unique()) # unique destination airports\n",
    "print(len(unique_dst), unique_dst)"
   ]
  },
  {
   "cell_type": "code",
   "execution_count": 0,
   "metadata": {
    "colab": {
     "base_uri": "https://localhost:8080/",
     "height": 85
    },
    "colab_type": "code",
    "id": "2HgOv4Jvzpit",
    "outputId": "14c30486-f493-4745-a204-e20c7a2846b8"
   },
   "outputs": [
    {
     "name": "stdout",
     "output_type": "stream",
     "text": [
      "Depature / Destination Difference:  {'DME', 'TGD'}\n",
      "In depatures:  {'TGD'}\n",
      "In destinations:  {'DME'}\n"
     ]
    },
    {
     "data": {
      "text/plain": [
       "(True, False, False, True)"
      ]
     },
     "execution_count": 12,
     "metadata": {
      "tags": []
     },
     "output_type": "execute_result"
    }
   ],
   "source": [
    "# difference  between depature and destination airport ids\n",
    "dep_dst_diff = unique_dep.symmetric_difference(unique_dst) \n",
    "print(\"Depature / Destination Difference: \",dep_dst_diff)\n",
    "print(\"In depatures: \",unique_dep.intersection(dep_dst_diff))\n",
    "print(\"In destinations: \",unique_dst.intersection(dep_dst_diff))\n",
    "'TGD' in unique_dep, 'DME' in unique_dep, 'TGD' in unique_dst, 'DME' in unique_dst"
   ]
  },
  {
   "cell_type": "code",
   "execution_count": 0,
   "metadata": {
    "colab": {
     "base_uri": "https://localhost:8080/",
     "height": 34
    },
    "colab_type": "code",
    "id": "2qQDOfDGzpiw",
    "outputId": "295bbd42-6a4c-48bf-8632-e782b1902fa3"
   },
   "outputs": [
    {
     "data": {
      "text/plain": [
       "(Timestamp('2018-03-01 00:00:00'), Timestamp('2018-09-03 00:00:00'))"
      ]
     },
     "execution_count": 13,
     "metadata": {
      "tags": []
     },
     "output_type": "execute_result"
    }
   ],
   "source": [
    "df['date'].min(), df['date'].max() # interval in dates"
   ]
  },
  {
   "cell_type": "code",
   "execution_count": 0,
   "metadata": {
    "colab": {
     "base_uri": "https://localhost:8080/",
     "height": 34
    },
    "colab_type": "code",
    "id": "4iBOmeIDzpi0",
    "outputId": "c718a3eb-21bd-445d-b49b-5df902a410ef"
   },
   "outputs": [
    {
     "data": {
      "text/plain": [
       "Timedelta('0 days 00:01:00')"
      ]
     },
     "execution_count": 14,
     "metadata": {
      "tags": []
     },
     "output_type": "execute_result"
    }
   ],
   "source": [
    "delta_min = pd.Timedelta(minutes=1) \n",
    "delta_min"
   ]
  },
  {
   "cell_type": "code",
   "execution_count": 0,
   "metadata": {
    "colab": {},
    "colab_type": "code",
    "id": "syDmQIRXzpi2"
   },
   "outputs": [],
   "source": [
    "def add_features(df):\n",
    "    \"\"\" Add calculated features: \n",
    "        - Flight duration (minutes)\n",
    "        - Difference between factual and scheduled depature times (minutes)\n",
    "        - Difference between factual and scheduled destination arrival times (minutes)\n",
    "    \"\"\"\n",
    "    df = df.assign(\n",
    "        duration = df.apply(lambda row: (row['dst_time_sched'] - row['dep_time_sched']) / delta_min, axis=1))\n",
    "\n",
    "    df = df.assign(\n",
    "        dep_diff = df.apply(lambda row: (row['dep_time_fact'] - row['dep_time_sched']) / delta_min, axis=1))\n",
    "\n",
    "    df = df.assign(\n",
    "        dst_diff = df.apply(lambda row: (row['dst_time_fact'] - row['dst_time_sched']) / delta_min, axis=1))\n",
    "            \n",
    "    return df"
   ]
  },
  {
   "cell_type": "code",
   "execution_count": 0,
   "metadata": {
    "colab": {},
    "colab_type": "code",
    "id": "w6DXnzD6zpi5"
   },
   "outputs": [],
   "source": [
    "df = add_features(df)"
   ]
  },
  {
   "cell_type": "code",
   "execution_count": 0,
   "metadata": {
    "colab": {
     "base_uri": "https://localhost:8080/",
     "height": 153
    },
    "colab_type": "code",
    "id": "mBEjDGdUzpi7",
    "outputId": "2fc69970-1a77-4a98-c78c-ba7da8d95f1a"
   },
   "outputs": [
    {
     "name": "stdout",
     "output_type": "stream",
     "text": [
      "* Scheduled and factual depature time differences:\n",
      "-- Positive:  19132  Negative:  116875\n",
      "-- Min:  -362.0  Median:  -7.0  Max:  6324.0\n",
      "-- Percentiles [25,50,75,90,99]:  [-11.  -7.  -3.   4.  92.]\n",
      "* Scheduled and factual arrival time differences: \n",
      "-- Positive:  55861  Negative:  79222\n",
      "-- Min:  -953.0  Median:  -2.0  Max:  6355.0\n",
      "-- Percentiles [25,50,75,90,99]:  [ -9.  -2.   6.  19. 107.]\n"
     ]
    }
   ],
   "source": [
    "print(\"* Scheduled and factual depature time differences:\")\n",
    "print(\"-- Positive: \", len(df[df['dep_diff'] > 0]), \" Negative: \",len(df[df['dep_diff'] < 0]))\n",
    "print(\"-- Min: \", min(df['dep_diff']), \" Median: \", np.median(df['dep_diff']), \" Max: \",  max(df['dep_diff']))\n",
    "print(\"-- Percentiles [25,50,75,90,99]: \", np.percentile(df['dep_diff'],[25,50,75, 90, 99]))\n",
    "print(\"* Scheduled and factual arrival time differences: \")\n",
    "print(\"-- Positive: \", len(df[df['dst_diff'] > 0]), \" Negative: \", len(df[df['dst_diff'] < 0]))\n",
    "print(\"-- Min: \", min(df['dst_diff']), \" Median: \", np.median(df['dst_diff']), \" Max: \", max(df['dst_diff']))\n",
    "print(\"-- Percentiles [25,50,75,90,99]: \", np.percentile(df['dst_diff'],[25,50,75, 90, 99]) )"
   ]
  },
  {
   "cell_type": "code",
   "execution_count": 0,
   "metadata": {
    "colab": {},
    "colab_type": "code",
    "id": "5cCvhU6Czpi_"
   },
   "outputs": [],
   "source": [
    "def plot_hist(data, xlabel, bins=None):\n",
    "    \"\"\" Plot histagram\n",
    "    \"\"\"\n",
    "    if not bins:\n",
    "        bins = int(np.sqrt(len(data)))\n",
    "    #_= plt.figure(figsize=(6,8))\n",
    "    _= plt.xlabel(xlabel)\n",
    "    _= plt.hist(data, bins=bins)\n",
    "    #_= plt.hist(data, bins=bins, edgecolor='none')"
   ]
  },
  {
   "cell_type": "code",
   "execution_count": 0,
   "metadata": {
    "colab": {},
    "colab_type": "code",
    "id": "6ZxzNe8LzpjC"
   },
   "outputs": [],
   "source": [
    "def plot_ecdf(data, xlabel):\n",
    "    \"\"\"Plot ECDF - Empirical Cumulative Distribution function.\n",
    "    data -is a quantity we are measuring\n",
    "    y - is a fraction of data that have value smaller then the given value\n",
    "    \"\"\"\n",
    "    x = np.sort(data)\n",
    "    y = np.arange(1,len(x)+1) / len(x)\n",
    "    plt.plot(x,y, marker='.', linestyle='none')\n",
    "    plt.xlabel(xlabel)\n",
    "    plt.ylabel('fraction')\n",
    "    plt.show()"
   ]
  },
  {
   "cell_type": "markdown",
   "metadata": {
    "colab_type": "text",
    "id": "wls_TpfqzpjG"
   },
   "source": [
    "# Scheduled and factual depature time differences"
   ]
  },
  {
   "cell_type": "code",
   "execution_count": 0,
   "metadata": {
    "colab": {
     "base_uri": "https://localhost:8080/"
    },
    "colab_type": "code",
    "id": "er2JeWmUzpjH",
    "outputId": "0ed970e4-7330-4205-c6ec-b11711fa331b"
   },
   "outputs": [
    {
     "data": {
      "image/png": "[encoded data removed]",
      "text/plain": [
       "<Figure size 432x288 with 1 Axes>"
      ]
     },
     "metadata": {
      "tags": []
     },
     "output_type": "display_data"
    }
   ],
   "source": [
    "plot_ecdf(df['dep_diff'], 'Scheduled and factual depature time differences (min)')"
   ]
  },
  {
   "cell_type": "code",
   "execution_count": 0,
   "metadata": {
    "colab": {
     "base_uri": "https://localhost:8080/"
    },
    "colab_type": "code",
    "id": "qzC8plVOzpjJ",
    "outputId": "ba62a198-bad9-4091-f52f-cb528c8453f8"
   },
   "outputs": [
    {
     "data": {
      "image/png": "[encoded data removed]",
      "text/plain": [
       "<Figure size 432x288 with 1 Axes>"
      ]
     },
     "metadata": {
      "tags": []
     },
     "output_type": "display_data"
    }
   ],
   "source": [
    "dep_diff_pos = df[df['dep_diff'] > 0]['dep_diff']\n",
    "plot_ecdf(dep_diff_pos, 'Positive scheduled and factual depature time differences (min)')"
   ]
  },
  {
   "cell_type": "code",
   "execution_count": 0,
   "metadata": {
    "colab": {
     "base_uri": "https://localhost:8080/"
    },
    "colab_type": "code",
    "id": "98psi2flzpjM",
    "outputId": "b83125c7-0791-4509-da8e-60bd73890ec8"
   },
   "outputs": [
    {
     "data": {
      "image/png": "[encoded data removed]",
      "text/plain": [
       "<Figure size 432x288 with 1 Axes>"
      ]
     },
     "metadata": {
      "tags": []
     },
     "output_type": "display_data"
    }
   ],
   "source": [
    "dep_diff_neg = df[df['dep_diff'] < 0]['dep_diff']\n",
    "plot_ecdf(dep_diff_neg, 'Negative scheduled and factual depature time differences (min)')"
   ]
  },
  {
   "cell_type": "code",
   "execution_count": 0,
   "metadata": {
    "colab": {
     "base_uri": "https://localhost:8080/"
    },
    "colab_type": "code",
    "id": "Wodqkw_ZzpjO",
    "outputId": "43863ca4-196f-4659-f581-86625131c683"
   },
   "outputs": [
    {
     "data": {
      "image/png": "[encoded data removed]",
      "text/plain": [
       "<Figure size 432x288 with 1 Axes>"
      ]
     },
     "metadata": {
      "tags": []
     },
     "output_type": "display_data"
    }
   ],
   "source": [
    "z = df[(df['dep_diff']> 0) & (df['dep_diff']<100)]['dep_diff']\n",
    "plot_hist(z, xlabel='Positive scheduled and factual depature time differences (min)')"
   ]
  },
  {
   "cell_type": "code",
   "execution_count": 0,
   "metadata": {
    "colab": {
     "base_uri": "https://localhost:8080/"
    },
    "colab_type": "code",
    "id": "rns9EetYzpjS",
    "outputId": "a75dae5b-6aa8-40a2-e9aa-5d8c2b0f6cd4"
   },
   "outputs": [
    {
     "data": {
      "image/png": "[encoded data removed]",
      "text/plain": [
       "<Figure size 432x288 with 1 Axes>"
      ]
     },
     "metadata": {
      "tags": []
     },
     "output_type": "display_data"
    }
   ],
   "source": [
    "z = df[(df['dep_diff']> -30) & (df['dep_diff']<0)]['dep_diff']\n",
    "plot_hist(z, xlabel='Negative scheduled and factual depature time differences (min)')"
   ]
  },
  {
   "cell_type": "markdown",
   "metadata": {
    "colab_type": "text",
    "id": "qdEkZ852zpjV"
   },
   "source": [
    "# Scheduled and factual arrival time differences"
   ]
  },
  {
   "cell_type": "code",
   "execution_count": 0,
   "metadata": {
    "colab": {
     "base_uri": "https://localhost:8080/"
    },
    "colab_type": "code",
    "id": "ZiGD2phDzpjW",
    "outputId": "cf7c2f19-fdc5-4b4e-b48d-235ce4f00a3b"
   },
   "outputs": [
    {
     "data": {
      "image/png": "[encoded data removed]",
      "text/plain": [
       "<Figure size 432x288 with 1 Axes>"
      ]
     },
     "metadata": {
      "tags": []
     },
     "output_type": "display_data"
    }
   ],
   "source": [
    "plot_ecdf(df['dst_diff'], 'Scheduled and factual arrival time differences (min)')"
   ]
  },
  {
   "cell_type": "code",
   "execution_count": 0,
   "metadata": {
    "colab": {
     "base_uri": "https://localhost:8080/"
    },
    "colab_type": "code",
    "id": "u7wsPVpIzpjc",
    "outputId": "e31e9850-5d66-42be-e6b6-b2cb186c30c6"
   },
   "outputs": [
    {
     "data": {
      "image/png": "[encoded data removed]",
      "text/plain": [
       "<Figure size 432x288 with 1 Axes>"
      ]
     },
     "metadata": {
      "tags": []
     },
     "output_type": "display_data"
    }
   ],
   "source": [
    "dst_diff_pos = df[df['dst_diff'] > 0]['dst_diff']\n",
    "plot_ecdf(dst_diff_pos, 'Positive scheduled and factual arrival time differences (min)')"
   ]
  },
  {
   "cell_type": "code",
   "execution_count": 0,
   "metadata": {
    "colab": {
     "base_uri": "https://localhost:8080/"
    },
    "colab_type": "code",
    "id": "Rm_Ayqv6zpjf",
    "outputId": "b8565cee-075f-4aac-9525-4e5908d6a5ed"
   },
   "outputs": [
    {
     "data": {
      "image/png": "[encoded data removed]",
      "text/plain": [
       "<Figure size 432x288 with 1 Axes>"
      ]
     },
     "metadata": {
      "tags": []
     },
     "output_type": "display_data"
    }
   ],
   "source": [
    "dst_diff_neg = df[df['dst_diff'] < 0]['dst_diff']\n",
    "plot_ecdf(dst_diff_neg, 'Negative scheduled and factual arrival time differences (min)')"
   ]
  },
  {
   "cell_type": "code",
   "execution_count": 0,
   "metadata": {
    "colab": {
     "base_uri": "https://localhost:8080/"
    },
    "colab_type": "code",
    "id": "-gxtXWyGzpji",
    "outputId": "cd4b516b-f278-4afc-9986-a71387f64556"
   },
   "outputs": [
    {
     "data": {
      "image/png": "[encoded data removed]",
      "text/plain": [
       "<Figure size 432x288 with 1 Axes>"
      ]
     },
     "metadata": {
      "tags": []
     },
     "output_type": "display_data"
    }
   ],
   "source": [
    "z = df[(df['dst_diff']> 0) & (df['dst_diff']<80)]['dst_diff']\n",
    "plot_hist(z, xlabel='Positive scheduled and factual arrival time differences (min)')"
   ]
  },
  {
   "cell_type": "code",
   "execution_count": 0,
   "metadata": {
    "colab": {
     "base_uri": "https://localhost:8080/"
    },
    "colab_type": "code",
    "id": "KpW5AUHQzpjk",
    "outputId": "d94ed689-6caf-4692-aca1-2e73570bc15a"
   },
   "outputs": [
    {
     "data": {
      "image/png": "[encoded data removed]",
      "text/plain": [
       "<Figure size 432x288 with 1 Axes>"
      ]
     },
     "metadata": {
      "tags": []
     },
     "output_type": "display_data"
    }
   ],
   "source": [
    "z = df[(df['dst_diff']> -50) & (df['dst_diff']<0)]['dst_diff']\n",
    "plot_hist(z, xlabel='Negative scheduled and factual arrival time differences (min)')"
   ]
  },
  {
   "cell_type": "markdown",
   "metadata": {
    "colab_type": "text",
    "id": "FmnsSbUSzpjn"
   },
   "source": [
    "# Add column with counts of flights per day"
   ]
  },
  {
   "cell_type": "code",
   "execution_count": 0,
   "metadata": {
    "colab": {},
    "colab_type": "code",
    "id": "6QRi_pCFzpjo"
   },
   "outputs": [],
   "source": [
    "# Flight depatures per day'\n",
    "df['dep_cnt'] = df.groupby(['date','dep'])['date'].transform('size')"
   ]
  },
  {
   "cell_type": "code",
   "execution_count": 0,
   "metadata": {
    "colab": {
     "base_uri": "https://localhost:8080/",
     "height": 309
    },
    "colab_type": "code",
    "id": "6T9C8jnxzpjr",
    "outputId": "210f0f4e-15a4-4e3d-dca5-44daa338374d"
   },
   "outputs": [
    {
     "data": {
      "text/html": [
       "<div>\n",
       "<style scoped>\n",
       "    .dataframe tbody tr th:only-of-type {\n",
       "        vertical-align: middle;\n",
       "    }\n",
       "\n",
       "    .dataframe tbody tr th {\n",
       "        vertical-align: top;\n",
       "    }\n",
       "\n",
       "    .dataframe thead th {\n",
       "        text-align: right;\n",
       "    }\n",
       "</style>\n",
       "<table border=\"1\" class=\"dataframe\">\n",
       "  <thead>\n",
       "    <tr style=\"text-align: right;\">\n",
       "      <th></th>\n",
       "      <th>date</th>\n",
       "      <th>flight</th>\n",
       "      <th>dep</th>\n",
       "      <th>dst</th>\n",
       "      <th>plane_id</th>\n",
       "      <th>dep_time_sched</th>\n",
       "      <th>dep_time_fact</th>\n",
       "      <th>dst_time_sched</th>\n",
       "      <th>dst_time_fact</th>\n",
       "      <th>duration</th>\n",
       "      <th>dep_diff</th>\n",
       "      <th>dst_diff</th>\n",
       "      <th>dep_cnt</th>\n",
       "    </tr>\n",
       "  </thead>\n",
       "  <tbody>\n",
       "    <tr>\n",
       "      <th>0</th>\n",
       "      <td>2018-03-01</td>\n",
       "      <td>1</td>\n",
       "      <td>MOW</td>\n",
       "      <td>ARH</td>\n",
       "      <td>1</td>\n",
       "      <td>2018-03-01 00:05:00</td>\n",
       "      <td>2018-02-28 23:48:00</td>\n",
       "      <td>2018-03-01 02:00:00</td>\n",
       "      <td>2018-03-01 01:48:00</td>\n",
       "      <td>115.0</td>\n",
       "      <td>-17.0</td>\n",
       "      <td>-12.0</td>\n",
       "      <td>329</td>\n",
       "    </tr>\n",
       "    <tr>\n",
       "      <th>1</th>\n",
       "      <td>2018-03-01</td>\n",
       "      <td>2</td>\n",
       "      <td>MOW</td>\n",
       "      <td>EGO</td>\n",
       "      <td>2</td>\n",
       "      <td>2018-03-01 00:05:00</td>\n",
       "      <td>2018-03-01 00:00:00</td>\n",
       "      <td>2018-03-01 01:30:00</td>\n",
       "      <td>2018-03-01 01:55:00</td>\n",
       "      <td>85.0</td>\n",
       "      <td>-5.0</td>\n",
       "      <td>25.0</td>\n",
       "      <td>329</td>\n",
       "    </tr>\n",
       "    <tr>\n",
       "      <th>2</th>\n",
       "      <td>2018-03-01</td>\n",
       "      <td>3</td>\n",
       "      <td>MOW</td>\n",
       "      <td>AKX</td>\n",
       "      <td>3</td>\n",
       "      <td>2018-03-01 00:15:00</td>\n",
       "      <td>2018-03-01 00:14:00</td>\n",
       "      <td>2018-03-01 02:40:00</td>\n",
       "      <td>2018-03-01 02:32:00</td>\n",
       "      <td>145.0</td>\n",
       "      <td>-1.0</td>\n",
       "      <td>-8.0</td>\n",
       "      <td>329</td>\n",
       "    </tr>\n",
       "    <tr>\n",
       "      <th>3</th>\n",
       "      <td>2018-03-01</td>\n",
       "      <td>4</td>\n",
       "      <td>LED</td>\n",
       "      <td>MOW</td>\n",
       "      <td>4</td>\n",
       "      <td>2018-03-01 00:20:00</td>\n",
       "      <td>2018-03-01 00:11:00</td>\n",
       "      <td>2018-03-01 01:35:00</td>\n",
       "      <td>2018-03-01 01:39:00</td>\n",
       "      <td>75.0</td>\n",
       "      <td>-9.0</td>\n",
       "      <td>4.0</td>\n",
       "      <td>20</td>\n",
       "    </tr>\n",
       "    <tr>\n",
       "      <th>4</th>\n",
       "      <td>2018-03-01</td>\n",
       "      <td>5</td>\n",
       "      <td>MOW</td>\n",
       "      <td>KRR</td>\n",
       "      <td>5</td>\n",
       "      <td>2018-03-01 00:25:00</td>\n",
       "      <td>2018-03-01 00:21:00</td>\n",
       "      <td>2018-03-01 02:40:00</td>\n",
       "      <td>2018-03-01 02:41:00</td>\n",
       "      <td>135.0</td>\n",
       "      <td>-4.0</td>\n",
       "      <td>1.0</td>\n",
       "      <td>329</td>\n",
       "    </tr>\n",
       "  </tbody>\n",
       "</table>\n",
       "</div>"
      ],
      "text/plain": [
       "        date  flight  dep  dst  ...  duration dep_diff dst_diff dep_cnt\n",
       "0 2018-03-01       1  MOW  ARH  ...     115.0    -17.0    -12.0     329\n",
       "1 2018-03-01       2  MOW  EGO  ...      85.0     -5.0     25.0     329\n",
       "2 2018-03-01       3  MOW  AKX  ...     145.0     -1.0     -8.0     329\n",
       "3 2018-03-01       4  LED  MOW  ...      75.0     -9.0      4.0      20\n",
       "4 2018-03-01       5  MOW  KRR  ...     135.0     -4.0      1.0     329\n",
       "\n",
       "[5 rows x 13 columns]"
      ]
     },
     "execution_count": 31,
     "metadata": {
      "tags": []
     },
     "output_type": "execute_result"
    }
   ],
   "source": [
    "df.head()"
   ]
  },
  {
   "cell_type": "code",
   "execution_count": 0,
   "metadata": {
    "colab": {
     "base_uri": "https://localhost:8080/",
     "height": 34
    },
    "colab_type": "code",
    "id": "oLzYr-1yzpjt",
    "outputId": "77063f25-3ac0-4201-9ba7-4cb1df4e6c23"
   },
   "outputs": [
    {
     "data": {
      "text/plain": [
       "329"
      ]
     },
     "execution_count": 32,
     "metadata": {
      "tags": []
     },
     "output_type": "execute_result"
    }
   ],
   "source": [
    "len(df[(df['date'] == '2018-03-01') & (df['dep'] == 'MOW')])"
   ]
  },
  {
   "cell_type": "code",
   "execution_count": 0,
   "metadata": {
    "colab": {
     "base_uri": "https://localhost:8080/",
     "height": 285
    },
    "colab_type": "code",
    "id": "azHfI7Ztzpjw",
    "outputId": "27865674-30dd-4f9c-c368-1834e9267b99"
   },
   "outputs": [
    {
     "data": {
      "image/png": "[encoded data removed]",
      "text/plain": [
       "<Figure size 432x288 with 1 Axes>"
      ]
     },
     "metadata": {
      "tags": []
     },
     "output_type": "display_data"
    }
   ],
   "source": [
    "plot_hist(df['dep_cnt'], xlabel='Flight depatures per day')"
   ]
  },
  {
   "cell_type": "code",
   "execution_count": 0,
   "metadata": {
    "colab": {},
    "colab_type": "code",
    "id": "1QQdwDWTzpjz"
   },
   "outputs": [],
   "source": [
    "# Flight arrivals per day\n",
    "df['dst_cnt'] = df.groupby(['date','dst'])['date'].transform('size')"
   ]
  },
  {
   "cell_type": "code",
   "execution_count": 0,
   "metadata": {
    "colab": {
     "base_uri": "https://localhost:8080/",
     "height": 34
    },
    "colab_type": "code",
    "id": "nJvCvJ-bzpj2",
    "outputId": "5b061aa8-c363-45b0-c8f4-e683e9e577ee"
   },
   "outputs": [
    {
     "name": "stdout",
     "output_type": "stream",
     "text": [
      "-- Percentiles [25,50,75,90,99]:  [  4.  21. 372. 397. 401.]\n"
     ]
    }
   ],
   "source": [
    "print(\"-- Percentiles [25,50,75,90,99]: \", np.percentile(df['dep_cnt'],[25,50,75, 90, 99]) )"
   ]
  },
  {
   "cell_type": "code",
   "execution_count": 0,
   "metadata": {
    "colab": {
     "base_uri": "https://localhost:8080/",
     "height": 309
    },
    "colab_type": "code",
    "id": "d-A5pvXHzpj5",
    "outputId": "f5ea2ddd-cb7a-46e6-bd41-a3cb7340a0f1"
   },
   "outputs": [
    {
     "data": {
      "text/html": [
       "<div>\n",
       "<style scoped>\n",
       "    .dataframe tbody tr th:only-of-type {\n",
       "        vertical-align: middle;\n",
       "    }\n",
       "\n",
       "    .dataframe tbody tr th {\n",
       "        vertical-align: top;\n",
       "    }\n",
       "\n",
       "    .dataframe thead th {\n",
       "        text-align: right;\n",
       "    }\n",
       "</style>\n",
       "<table border=\"1\" class=\"dataframe\">\n",
       "  <thead>\n",
       "    <tr style=\"text-align: right;\">\n",
       "      <th></th>\n",
       "      <th>date</th>\n",
       "      <th>flight</th>\n",
       "      <th>dep</th>\n",
       "      <th>dst</th>\n",
       "      <th>plane_id</th>\n",
       "      <th>dep_time_sched</th>\n",
       "      <th>dep_time_fact</th>\n",
       "      <th>dst_time_sched</th>\n",
       "      <th>dst_time_fact</th>\n",
       "      <th>duration</th>\n",
       "      <th>dep_diff</th>\n",
       "      <th>dst_diff</th>\n",
       "      <th>dep_cnt</th>\n",
       "      <th>dst_cnt</th>\n",
       "    </tr>\n",
       "  </thead>\n",
       "  <tbody>\n",
       "    <tr>\n",
       "      <th>0</th>\n",
       "      <td>2018-03-01</td>\n",
       "      <td>1</td>\n",
       "      <td>MOW</td>\n",
       "      <td>ARH</td>\n",
       "      <td>1</td>\n",
       "      <td>2018-03-01 00:05:00</td>\n",
       "      <td>2018-02-28 23:48:00</td>\n",
       "      <td>2018-03-01 02:00:00</td>\n",
       "      <td>2018-03-01 01:48:00</td>\n",
       "      <td>115.0</td>\n",
       "      <td>-17.0</td>\n",
       "      <td>-12.0</td>\n",
       "      <td>329</td>\n",
       "      <td>3</td>\n",
       "    </tr>\n",
       "    <tr>\n",
       "      <th>1</th>\n",
       "      <td>2018-03-01</td>\n",
       "      <td>2</td>\n",
       "      <td>MOW</td>\n",
       "      <td>EGO</td>\n",
       "      <td>2</td>\n",
       "      <td>2018-03-01 00:05:00</td>\n",
       "      <td>2018-03-01 00:00:00</td>\n",
       "      <td>2018-03-01 01:30:00</td>\n",
       "      <td>2018-03-01 01:55:00</td>\n",
       "      <td>85.0</td>\n",
       "      <td>-5.0</td>\n",
       "      <td>25.0</td>\n",
       "      <td>329</td>\n",
       "      <td>2</td>\n",
       "    </tr>\n",
       "    <tr>\n",
       "      <th>2</th>\n",
       "      <td>2018-03-01</td>\n",
       "      <td>3</td>\n",
       "      <td>MOW</td>\n",
       "      <td>AKX</td>\n",
       "      <td>3</td>\n",
       "      <td>2018-03-01 00:15:00</td>\n",
       "      <td>2018-03-01 00:14:00</td>\n",
       "      <td>2018-03-01 02:40:00</td>\n",
       "      <td>2018-03-01 02:32:00</td>\n",
       "      <td>145.0</td>\n",
       "      <td>-1.0</td>\n",
       "      <td>-8.0</td>\n",
       "      <td>329</td>\n",
       "      <td>1</td>\n",
       "    </tr>\n",
       "    <tr>\n",
       "      <th>3</th>\n",
       "      <td>2018-03-01</td>\n",
       "      <td>4</td>\n",
       "      <td>LED</td>\n",
       "      <td>MOW</td>\n",
       "      <td>4</td>\n",
       "      <td>2018-03-01 00:20:00</td>\n",
       "      <td>2018-03-01 00:11:00</td>\n",
       "      <td>2018-03-01 01:35:00</td>\n",
       "      <td>2018-03-01 01:39:00</td>\n",
       "      <td>75.0</td>\n",
       "      <td>-9.0</td>\n",
       "      <td>4.0</td>\n",
       "      <td>20</td>\n",
       "      <td>331</td>\n",
       "    </tr>\n",
       "    <tr>\n",
       "      <th>4</th>\n",
       "      <td>2018-03-01</td>\n",
       "      <td>5</td>\n",
       "      <td>MOW</td>\n",
       "      <td>KRR</td>\n",
       "      <td>5</td>\n",
       "      <td>2018-03-01 00:25:00</td>\n",
       "      <td>2018-03-01 00:21:00</td>\n",
       "      <td>2018-03-01 02:40:00</td>\n",
       "      <td>2018-03-01 02:41:00</td>\n",
       "      <td>135.0</td>\n",
       "      <td>-4.0</td>\n",
       "      <td>1.0</td>\n",
       "      <td>329</td>\n",
       "      <td>7</td>\n",
       "    </tr>\n",
       "  </tbody>\n",
       "</table>\n",
       "</div>"
      ],
      "text/plain": [
       "        date  flight  dep  dst  ...  dep_diff dst_diff dep_cnt dst_cnt\n",
       "0 2018-03-01       1  MOW  ARH  ...     -17.0    -12.0     329       3\n",
       "1 2018-03-01       2  MOW  EGO  ...      -5.0     25.0     329       2\n",
       "2 2018-03-01       3  MOW  AKX  ...      -1.0     -8.0     329       1\n",
       "3 2018-03-01       4  LED  MOW  ...      -9.0      4.0      20     331\n",
       "4 2018-03-01       5  MOW  KRR  ...      -4.0      1.0     329       7\n",
       "\n",
       "[5 rows x 14 columns]"
      ]
     },
     "execution_count": 36,
     "metadata": {
      "tags": []
     },
     "output_type": "execute_result"
    }
   ],
   "source": [
    "df.head()"
   ]
  },
  {
   "cell_type": "code",
   "execution_count": 0,
   "metadata": {
    "colab": {
     "base_uri": "https://localhost:8080/",
     "height": 285
    },
    "colab_type": "code",
    "id": "pJnwWbEczpj7",
    "outputId": "5339491e-994b-4224-a72d-0f89ff2cad83"
   },
   "outputs": [
    {
     "data": {
      "image/png": "[encoded data removed]",
      "text/plain": [
       "<Figure size 432x288 with 1 Axes>"
      ]
     },
     "metadata": {
      "tags": []
     },
     "output_type": "display_data"
    }
   ],
   "source": [
    "plot_hist(df['dst_cnt'], xlabel='Flight arrivals per day')"
   ]
  },
  {
   "cell_type": "code",
   "execution_count": 0,
   "metadata": {
    "colab": {
     "base_uri": "https://localhost:8080/",
     "height": 34
    },
    "colab_type": "code",
    "id": "ENc8K6W2zpj-",
    "outputId": "1bfad59d-66b3-4ba6-af5e-818a790f0101"
   },
   "outputs": [
    {
     "name": "stdout",
     "output_type": "stream",
     "text": [
      "-- Percentiles [25,50,75,90,99]:  [  4.  21. 371. 396. 401.]\n"
     ]
    }
   ],
   "source": [
    "print(\"-- Percentiles [25,50,75,90,99]: \", np.percentile(df['dst_cnt'],[25,50,75, 90, 99]) )"
   ]
  },
  {
   "cell_type": "markdown",
   "metadata": {
    "colab_type": "text",
    "id": "slVkqVsAzpkB"
   },
   "source": [
    "# Add month, day, week day, hour and minute of depature and arrival as separate features"
   ]
  },
  {
   "cell_type": "code",
   "execution_count": 0,
   "metadata": {
    "colab": {},
    "colab_type": "code",
    "id": "B4f1x5eFzpkH"
   },
   "outputs": [],
   "source": [
    "df['dep_month'], df['dep_day'], df['dep_weekday'], df['dep_hour'], df['dep_ minute'] =  (df['dep_time_sched'].dt.month, \n",
    "                                                                          df['dep_time_sched'].dt.day, \n",
    "                                                                          df['dep_time_sched'].dt.weekday,\n",
    "                                                                          df['dep_time_sched'].dt.hour, \n",
    "                                                                          df['dep_time_sched'].dt.minute)"
   ]
  },
  {
   "cell_type": "code",
   "execution_count": 0,
   "metadata": {
    "colab": {},
    "colab_type": "code",
    "id": "BO9mgaZrzpkJ"
   },
   "outputs": [],
   "source": [
    "df['dst_month'], df['dst_day'], df['dst_weekday'], df['dst_hour'], df['dst_ minute'] =  (df['dst_time_sched'].dt.month, \n",
    "                                                                          df['dst_time_sched'].dt.day, \n",
    "                                                                          df['dst_time_sched'].dt.weekday,\n",
    "                                                                          df['dst_time_sched'].dt.hour, \n",
    "                                                                          df['dst_time_sched'].dt.minute)"
   ]
  },
  {
   "cell_type": "code",
   "execution_count": 0,
   "metadata": {
    "colab": {
     "base_uri": "https://localhost:8080/",
     "height": 326
    },
    "colab_type": "code",
    "id": "W7XjTndNzpkM",
    "outputId": "9a82b969-af42-49f4-e57b-5f65ea5b80d5"
   },
   "outputs": [
    {
     "data": {
      "text/html": [
       "<div>\n",
       "<style scoped>\n",
       "    .dataframe tbody tr th:only-of-type {\n",
       "        vertical-align: middle;\n",
       "    }\n",
       "\n",
       "    .dataframe tbody tr th {\n",
       "        vertical-align: top;\n",
       "    }\n",
       "\n",
       "    .dataframe thead th {\n",
       "        text-align: right;\n",
       "    }\n",
       "</style>\n",
       "<table border=\"1\" class=\"dataframe\">\n",
       "  <thead>\n",
       "    <tr style=\"text-align: right;\">\n",
       "      <th></th>\n",
       "      <th>date</th>\n",
       "      <th>flight</th>\n",
       "      <th>dep</th>\n",
       "      <th>dst</th>\n",
       "      <th>plane_id</th>\n",
       "      <th>dep_time_sched</th>\n",
       "      <th>dep_time_fact</th>\n",
       "      <th>dst_time_sched</th>\n",
       "      <th>dst_time_fact</th>\n",
       "      <th>duration</th>\n",
       "      <th>dep_diff</th>\n",
       "      <th>dst_diff</th>\n",
       "      <th>dep_cnt</th>\n",
       "      <th>dst_cnt</th>\n",
       "      <th>dep_month</th>\n",
       "      <th>dep_day</th>\n",
       "      <th>dep_weekday</th>\n",
       "      <th>dep_hour</th>\n",
       "      <th>dep_ minute</th>\n",
       "      <th>dst_month</th>\n",
       "      <th>dst_day</th>\n",
       "      <th>dst_weekday</th>\n",
       "      <th>dst_hour</th>\n",
       "      <th>dst_ minute</th>\n",
       "    </tr>\n",
       "  </thead>\n",
       "  <tbody>\n",
       "    <tr>\n",
       "      <th>0</th>\n",
       "      <td>2018-03-01</td>\n",
       "      <td>1</td>\n",
       "      <td>MOW</td>\n",
       "      <td>ARH</td>\n",
       "      <td>1</td>\n",
       "      <td>2018-03-01 00:05:00</td>\n",
       "      <td>2018-02-28 23:48:00</td>\n",
       "      <td>2018-03-01 02:00:00</td>\n",
       "      <td>2018-03-01 01:48:00</td>\n",
       "      <td>115.0</td>\n",
       "      <td>-17.0</td>\n",
       "      <td>-12.0</td>\n",
       "      <td>329</td>\n",
       "      <td>3</td>\n",
       "      <td>3</td>\n",
       "      <td>1</td>\n",
       "      <td>3</td>\n",
       "      <td>0</td>\n",
       "      <td>5</td>\n",
       "      <td>3</td>\n",
       "      <td>1</td>\n",
       "      <td>3</td>\n",
       "      <td>2</td>\n",
       "      <td>0</td>\n",
       "    </tr>\n",
       "    <tr>\n",
       "      <th>1</th>\n",
       "      <td>2018-03-01</td>\n",
       "      <td>2</td>\n",
       "      <td>MOW</td>\n",
       "      <td>EGO</td>\n",
       "      <td>2</td>\n",
       "      <td>2018-03-01 00:05:00</td>\n",
       "      <td>2018-03-01 00:00:00</td>\n",
       "      <td>2018-03-01 01:30:00</td>\n",
       "      <td>2018-03-01 01:55:00</td>\n",
       "      <td>85.0</td>\n",
       "      <td>-5.0</td>\n",
       "      <td>25.0</td>\n",
       "      <td>329</td>\n",
       "      <td>2</td>\n",
       "      <td>3</td>\n",
       "      <td>1</td>\n",
       "      <td>3</td>\n",
       "      <td>0</td>\n",
       "      <td>5</td>\n",
       "      <td>3</td>\n",
       "      <td>1</td>\n",
       "      <td>3</td>\n",
       "      <td>1</td>\n",
       "      <td>30</td>\n",
       "    </tr>\n",
       "    <tr>\n",
       "      <th>2</th>\n",
       "      <td>2018-03-01</td>\n",
       "      <td>3</td>\n",
       "      <td>MOW</td>\n",
       "      <td>AKX</td>\n",
       "      <td>3</td>\n",
       "      <td>2018-03-01 00:15:00</td>\n",
       "      <td>2018-03-01 00:14:00</td>\n",
       "      <td>2018-03-01 02:40:00</td>\n",
       "      <td>2018-03-01 02:32:00</td>\n",
       "      <td>145.0</td>\n",
       "      <td>-1.0</td>\n",
       "      <td>-8.0</td>\n",
       "      <td>329</td>\n",
       "      <td>1</td>\n",
       "      <td>3</td>\n",
       "      <td>1</td>\n",
       "      <td>3</td>\n",
       "      <td>0</td>\n",
       "      <td>15</td>\n",
       "      <td>3</td>\n",
       "      <td>1</td>\n",
       "      <td>3</td>\n",
       "      <td>2</td>\n",
       "      <td>40</td>\n",
       "    </tr>\n",
       "    <tr>\n",
       "      <th>3</th>\n",
       "      <td>2018-03-01</td>\n",
       "      <td>4</td>\n",
       "      <td>LED</td>\n",
       "      <td>MOW</td>\n",
       "      <td>4</td>\n",
       "      <td>2018-03-01 00:20:00</td>\n",
       "      <td>2018-03-01 00:11:00</td>\n",
       "      <td>2018-03-01 01:35:00</td>\n",
       "      <td>2018-03-01 01:39:00</td>\n",
       "      <td>75.0</td>\n",
       "      <td>-9.0</td>\n",
       "      <td>4.0</td>\n",
       "      <td>20</td>\n",
       "      <td>331</td>\n",
       "      <td>3</td>\n",
       "      <td>1</td>\n",
       "      <td>3</td>\n",
       "      <td>0</td>\n",
       "      <td>20</td>\n",
       "      <td>3</td>\n",
       "      <td>1</td>\n",
       "      <td>3</td>\n",
       "      <td>1</td>\n",
       "      <td>35</td>\n",
       "    </tr>\n",
       "    <tr>\n",
       "      <th>4</th>\n",
       "      <td>2018-03-01</td>\n",
       "      <td>5</td>\n",
       "      <td>MOW</td>\n",
       "      <td>KRR</td>\n",
       "      <td>5</td>\n",
       "      <td>2018-03-01 00:25:00</td>\n",
       "      <td>2018-03-01 00:21:00</td>\n",
       "      <td>2018-03-01 02:40:00</td>\n",
       "      <td>2018-03-01 02:41:00</td>\n",
       "      <td>135.0</td>\n",
       "      <td>-4.0</td>\n",
       "      <td>1.0</td>\n",
       "      <td>329</td>\n",
       "      <td>7</td>\n",
       "      <td>3</td>\n",
       "      <td>1</td>\n",
       "      <td>3</td>\n",
       "      <td>0</td>\n",
       "      <td>25</td>\n",
       "      <td>3</td>\n",
       "      <td>1</td>\n",
       "      <td>3</td>\n",
       "      <td>2</td>\n",
       "      <td>40</td>\n",
       "    </tr>\n",
       "  </tbody>\n",
       "</table>\n",
       "</div>"
      ],
      "text/plain": [
       "        date  flight  dep  dst  ...  dst_day dst_weekday dst_hour dst_ minute\n",
       "0 2018-03-01       1  MOW  ARH  ...        1           3        2           0\n",
       "1 2018-03-01       2  MOW  EGO  ...        1           3        1          30\n",
       "2 2018-03-01       3  MOW  AKX  ...        1           3        2          40\n",
       "3 2018-03-01       4  LED  MOW  ...        1           3        1          35\n",
       "4 2018-03-01       5  MOW  KRR  ...        1           3        2          40\n",
       "\n",
       "[5 rows x 24 columns]"
      ]
     },
     "execution_count": 43,
     "metadata": {
      "tags": []
     },
     "output_type": "execute_result"
    }
   ],
   "source": [
    "df.head()"
   ]
  },
  {
   "cell_type": "code",
   "execution_count": 0,
   "metadata": {
    "colab": {},
    "colab_type": "code",
    "id": "anIAlHPSzpkQ"
   },
   "outputs": [],
   "source": [
    "# Drop datetime64[ns] features \n",
    "df2 = df.drop(columns=['date', 'dep_time_sched', 'dep_time_fact', 'dst_time_sched', 'dst_time_fact'])"
   ]
  },
  {
   "cell_type": "code",
   "execution_count": 0,
   "metadata": {
    "colab": {
     "base_uri": "https://localhost:8080/",
     "height": 241
    },
    "colab_type": "code",
    "id": "EL1MipiazpkT",
    "outputId": "db269b96-719f-4006-8ea3-2733c00b5668"
   },
   "outputs": [
    {
     "data": {
      "text/html": [
       "<div>\n",
       "<style scoped>\n",
       "    .dataframe tbody tr th:only-of-type {\n",
       "        vertical-align: middle;\n",
       "    }\n",
       "\n",
       "    .dataframe tbody tr th {\n",
       "        vertical-align: top;\n",
       "    }\n",
       "\n",
       "    .dataframe thead th {\n",
       "        text-align: right;\n",
       "    }\n",
       "</style>\n",
       "<table border=\"1\" class=\"dataframe\">\n",
       "  <thead>\n",
       "    <tr style=\"text-align: right;\">\n",
       "      <th></th>\n",
       "      <th>flight</th>\n",
       "      <th>dep</th>\n",
       "      <th>dst</th>\n",
       "      <th>plane_id</th>\n",
       "      <th>duration</th>\n",
       "      <th>dep_diff</th>\n",
       "      <th>dst_diff</th>\n",
       "      <th>dep_cnt</th>\n",
       "      <th>dst_cnt</th>\n",
       "      <th>dep_month</th>\n",
       "      <th>dep_day</th>\n",
       "      <th>dep_weekday</th>\n",
       "      <th>dep_hour</th>\n",
       "      <th>dep_ minute</th>\n",
       "      <th>dst_month</th>\n",
       "      <th>dst_day</th>\n",
       "      <th>dst_weekday</th>\n",
       "      <th>dst_hour</th>\n",
       "      <th>dst_ minute</th>\n",
       "    </tr>\n",
       "  </thead>\n",
       "  <tbody>\n",
       "    <tr>\n",
       "      <th>0</th>\n",
       "      <td>1</td>\n",
       "      <td>MOW</td>\n",
       "      <td>ARH</td>\n",
       "      <td>1</td>\n",
       "      <td>115.0</td>\n",
       "      <td>-17.0</td>\n",
       "      <td>-12.0</td>\n",
       "      <td>329</td>\n",
       "      <td>3</td>\n",
       "      <td>3</td>\n",
       "      <td>1</td>\n",
       "      <td>3</td>\n",
       "      <td>0</td>\n",
       "      <td>5</td>\n",
       "      <td>3</td>\n",
       "      <td>1</td>\n",
       "      <td>3</td>\n",
       "      <td>2</td>\n",
       "      <td>0</td>\n",
       "    </tr>\n",
       "    <tr>\n",
       "      <th>1</th>\n",
       "      <td>2</td>\n",
       "      <td>MOW</td>\n",
       "      <td>EGO</td>\n",
       "      <td>2</td>\n",
       "      <td>85.0</td>\n",
       "      <td>-5.0</td>\n",
       "      <td>25.0</td>\n",
       "      <td>329</td>\n",
       "      <td>2</td>\n",
       "      <td>3</td>\n",
       "      <td>1</td>\n",
       "      <td>3</td>\n",
       "      <td>0</td>\n",
       "      <td>5</td>\n",
       "      <td>3</td>\n",
       "      <td>1</td>\n",
       "      <td>3</td>\n",
       "      <td>1</td>\n",
       "      <td>30</td>\n",
       "    </tr>\n",
       "    <tr>\n",
       "      <th>2</th>\n",
       "      <td>3</td>\n",
       "      <td>MOW</td>\n",
       "      <td>AKX</td>\n",
       "      <td>3</td>\n",
       "      <td>145.0</td>\n",
       "      <td>-1.0</td>\n",
       "      <td>-8.0</td>\n",
       "      <td>329</td>\n",
       "      <td>1</td>\n",
       "      <td>3</td>\n",
       "      <td>1</td>\n",
       "      <td>3</td>\n",
       "      <td>0</td>\n",
       "      <td>15</td>\n",
       "      <td>3</td>\n",
       "      <td>1</td>\n",
       "      <td>3</td>\n",
       "      <td>2</td>\n",
       "      <td>40</td>\n",
       "    </tr>\n",
       "    <tr>\n",
       "      <th>3</th>\n",
       "      <td>4</td>\n",
       "      <td>LED</td>\n",
       "      <td>MOW</td>\n",
       "      <td>4</td>\n",
       "      <td>75.0</td>\n",
       "      <td>-9.0</td>\n",
       "      <td>4.0</td>\n",
       "      <td>20</td>\n",
       "      <td>331</td>\n",
       "      <td>3</td>\n",
       "      <td>1</td>\n",
       "      <td>3</td>\n",
       "      <td>0</td>\n",
       "      <td>20</td>\n",
       "      <td>3</td>\n",
       "      <td>1</td>\n",
       "      <td>3</td>\n",
       "      <td>1</td>\n",
       "      <td>35</td>\n",
       "    </tr>\n",
       "    <tr>\n",
       "      <th>4</th>\n",
       "      <td>5</td>\n",
       "      <td>MOW</td>\n",
       "      <td>KRR</td>\n",
       "      <td>5</td>\n",
       "      <td>135.0</td>\n",
       "      <td>-4.0</td>\n",
       "      <td>1.0</td>\n",
       "      <td>329</td>\n",
       "      <td>7</td>\n",
       "      <td>3</td>\n",
       "      <td>1</td>\n",
       "      <td>3</td>\n",
       "      <td>0</td>\n",
       "      <td>25</td>\n",
       "      <td>3</td>\n",
       "      <td>1</td>\n",
       "      <td>3</td>\n",
       "      <td>2</td>\n",
       "      <td>40</td>\n",
       "    </tr>\n",
       "  </tbody>\n",
       "</table>\n",
       "</div>"
      ],
      "text/plain": [
       "   flight  dep  dst  plane_id  ...  dst_day  dst_weekday  dst_hour  dst_ minute\n",
       "0       1  MOW  ARH         1  ...        1            3         2            0\n",
       "1       2  MOW  EGO         2  ...        1            3         1           30\n",
       "2       3  MOW  AKX         3  ...        1            3         2           40\n",
       "3       4  LED  MOW         4  ...        1            3         1           35\n",
       "4       5  MOW  KRR         5  ...        1            3         2           40\n",
       "\n",
       "[5 rows x 19 columns]"
      ]
     },
     "execution_count": 45,
     "metadata": {
      "tags": []
     },
     "output_type": "execute_result"
    }
   ],
   "source": [
    "df2.head()"
   ]
  },
  {
   "cell_type": "code",
   "execution_count": 0,
   "metadata": {
    "colab": {},
    "colab_type": "code",
    "id": "93X2k8fqzpkV"
   },
   "outputs": [],
   "source": [
    "# Save features to be used in models\n",
    "df2.to_csv(\"flight_features.csv\")"
   ]
  },
  {
   "cell_type": "code",
   "execution_count": 0,
   "metadata": {
    "colab": {
     "base_uri": "https://localhost:8080/",
     "height": 628
    },
    "colab_type": "code",
    "id": "svaOlRpczpkY",
    "outputId": "a6c58fb3-0a6f-4c8a-9b8a-1d73099501f8"
   },
   "outputs": [
    {
     "data": {
      "text/plain": [
       "<matplotlib.axes._subplots.AxesSubplot at 0x7f692c9209e8>"
      ]
     },
     "execution_count": 49,
     "metadata": {
      "tags": []
     },
     "output_type": "execute_result"
    },
    {
     "data": {
      "image/png": "[encoded data removed]",
      "text/plain": [
       "<Figure size 720x720 with 2 Axes>"
      ]
     },
     "metadata": {
      "tags": []
     },
     "output_type": "display_data"
    }
   ],
   "source": [
    "# Heatmap showing the correlation between the different features of the flights df2 dataset.\n",
    "# Cells that are in green show positive correlation, \n",
    "# while cells that are in red show negative correlation.\n",
    "#sns.heatmap(df2.corr(), square=True, cmap='RdYlGn')\n",
    "df3 = df2.drop(columns=['dep', 'dst'])\n",
    "fig, ax = plt.subplots(figsize=(10,10))         # Sample figsize in inches\n",
    "sns.heatmap(df3.corr(), square=True, cmap='RdYlGn', linewidths=.5, ax=ax)"
   ]
  },
  {
   "cell_type": "code",
   "execution_count": 0,
   "metadata": {
    "colab": {},
    "colab_type": "code",
    "id": "5sb-5KyEzpka"
   },
   "outputs": [],
   "source": [
    "# Apply label encoder to each column with categorical data\n",
    "from sklearn.preprocessing import LabelEncoder\n",
    "label_encoder = LabelEncoder()\n",
    "df2['dep'] = label_encoder.fit_transform(df2['dep'])\n",
    "df2['dst'] = label_encoder.fit_transform(df2['dst'])"
   ]
  },
  {
   "cell_type": "code",
   "execution_count": 0,
   "metadata": {
    "colab": {
     "base_uri": "https://localhost:8080/",
     "height": 241
    },
    "colab_type": "code",
    "id": "37Sgh5PWzpkg",
    "outputId": "8b8a35ae-f571-4ea2-ce06-bbc72a8f1694"
   },
   "outputs": [
    {
     "data": {
      "text/html": [
       "<div>\n",
       "<style scoped>\n",
       "    .dataframe tbody tr th:only-of-type {\n",
       "        vertical-align: middle;\n",
       "    }\n",
       "\n",
       "    .dataframe tbody tr th {\n",
       "        vertical-align: top;\n",
       "    }\n",
       "\n",
       "    .dataframe thead th {\n",
       "        text-align: right;\n",
       "    }\n",
       "</style>\n",
       "<table border=\"1\" class=\"dataframe\">\n",
       "  <thead>\n",
       "    <tr style=\"text-align: right;\">\n",
       "      <th></th>\n",
       "      <th>flight</th>\n",
       "      <th>dep</th>\n",
       "      <th>dst</th>\n",
       "      <th>plane_id</th>\n",
       "      <th>duration</th>\n",
       "      <th>dep_diff</th>\n",
       "      <th>dst_diff</th>\n",
       "      <th>dep_cnt</th>\n",
       "      <th>dst_cnt</th>\n",
       "      <th>dep_month</th>\n",
       "      <th>dep_day</th>\n",
       "      <th>dep_weekday</th>\n",
       "      <th>dep_hour</th>\n",
       "      <th>dep_ minute</th>\n",
       "      <th>dst_month</th>\n",
       "      <th>dst_day</th>\n",
       "      <th>dst_weekday</th>\n",
       "      <th>dst_hour</th>\n",
       "      <th>dst_ minute</th>\n",
       "    </tr>\n",
       "  </thead>\n",
       "  <tbody>\n",
       "    <tr>\n",
       "      <th>0</th>\n",
       "      <td>1</td>\n",
       "      <td>85</td>\n",
       "      <td>8</td>\n",
       "      <td>1</td>\n",
       "      <td>115.0</td>\n",
       "      <td>-17.0</td>\n",
       "      <td>-12.0</td>\n",
       "      <td>329</td>\n",
       "      <td>3</td>\n",
       "      <td>3</td>\n",
       "      <td>1</td>\n",
       "      <td>3</td>\n",
       "      <td>0</td>\n",
       "      <td>5</td>\n",
       "      <td>3</td>\n",
       "      <td>1</td>\n",
       "      <td>3</td>\n",
       "      <td>2</td>\n",
       "      <td>0</td>\n",
       "    </tr>\n",
       "    <tr>\n",
       "      <th>1</th>\n",
       "      <td>2</td>\n",
       "      <td>85</td>\n",
       "      <td>33</td>\n",
       "      <td>2</td>\n",
       "      <td>85.0</td>\n",
       "      <td>-5.0</td>\n",
       "      <td>25.0</td>\n",
       "      <td>329</td>\n",
       "      <td>2</td>\n",
       "      <td>3</td>\n",
       "      <td>1</td>\n",
       "      <td>3</td>\n",
       "      <td>0</td>\n",
       "      <td>5</td>\n",
       "      <td>3</td>\n",
       "      <td>1</td>\n",
       "      <td>3</td>\n",
       "      <td>1</td>\n",
       "      <td>30</td>\n",
       "    </tr>\n",
       "    <tr>\n",
       "      <th>2</th>\n",
       "      <td>3</td>\n",
       "      <td>85</td>\n",
       "      <td>4</td>\n",
       "      <td>3</td>\n",
       "      <td>145.0</td>\n",
       "      <td>-1.0</td>\n",
       "      <td>-8.0</td>\n",
       "      <td>329</td>\n",
       "      <td>1</td>\n",
       "      <td>3</td>\n",
       "      <td>1</td>\n",
       "      <td>3</td>\n",
       "      <td>0</td>\n",
       "      <td>15</td>\n",
       "      <td>3</td>\n",
       "      <td>1</td>\n",
       "      <td>3</td>\n",
       "      <td>2</td>\n",
       "      <td>40</td>\n",
       "    </tr>\n",
       "    <tr>\n",
       "      <th>3</th>\n",
       "      <td>4</td>\n",
       "      <td>75</td>\n",
       "      <td>86</td>\n",
       "      <td>4</td>\n",
       "      <td>75.0</td>\n",
       "      <td>-9.0</td>\n",
       "      <td>4.0</td>\n",
       "      <td>20</td>\n",
       "      <td>331</td>\n",
       "      <td>3</td>\n",
       "      <td>1</td>\n",
       "      <td>3</td>\n",
       "      <td>0</td>\n",
       "      <td>20</td>\n",
       "      <td>3</td>\n",
       "      <td>1</td>\n",
       "      <td>3</td>\n",
       "      <td>1</td>\n",
       "      <td>35</td>\n",
       "    </tr>\n",
       "    <tr>\n",
       "      <th>4</th>\n",
       "      <td>5</td>\n",
       "      <td>85</td>\n",
       "      <td>68</td>\n",
       "      <td>5</td>\n",
       "      <td>135.0</td>\n",
       "      <td>-4.0</td>\n",
       "      <td>1.0</td>\n",
       "      <td>329</td>\n",
       "      <td>7</td>\n",
       "      <td>3</td>\n",
       "      <td>1</td>\n",
       "      <td>3</td>\n",
       "      <td>0</td>\n",
       "      <td>25</td>\n",
       "      <td>3</td>\n",
       "      <td>1</td>\n",
       "      <td>3</td>\n",
       "      <td>2</td>\n",
       "      <td>40</td>\n",
       "    </tr>\n",
       "  </tbody>\n",
       "</table>\n",
       "</div>"
      ],
      "text/plain": [
       "   flight  dep  dst  plane_id  ...  dst_day  dst_weekday  dst_hour  dst_ minute\n",
       "0       1   85    8         1  ...        1            3         2            0\n",
       "1       2   85   33         2  ...        1            3         1           30\n",
       "2       3   85    4         3  ...        1            3         2           40\n",
       "3       4   75   86         4  ...        1            3         1           35\n",
       "4       5   85   68         5  ...        1            3         2           40\n",
       "\n",
       "[5 rows x 19 columns]"
      ]
     },
     "execution_count": 51,
     "metadata": {
      "tags": []
     },
     "output_type": "execute_result"
    }
   ],
   "source": [
    "df2.head()"
   ]
  },
  {
   "cell_type": "code",
   "execution_count": 0,
   "metadata": {
    "colab": {},
    "colab_type": "code",
    "id": "4pcpVkZYzpki"
   },
   "outputs": [],
   "source": []
  }
 ],
 "metadata": {
  "colab": {
   "name": "1_explore_features.ipynb",
   "provenance": []
  },
  "kernelspec": {
   "display_name": "Python 3",
   "language": "python",
   "name": "python3"
  },
  "language_info": {
   "codemirror_mode": {
    "name": "ipython",
    "version": 3
   },
   "file_extension": ".py",
   "mimetype": "text/x-python",
   "name": "python",
   "nbconvert_exporter": "python",
   "pygments_lexer": "ipython3",
   "version": "3.6.10"
  }
 },
 "nbformat": 4,
 "nbformat_minor": 1
}
