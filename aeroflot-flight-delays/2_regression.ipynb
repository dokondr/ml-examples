{
 "cells": [
  {
   "cell_type": "markdown",
   "metadata": {
    "colab_type": "text",
    "id": "thFXXxXoFJfv"
   },
   "source": [
    "# Flights: Model Selection"
   ]
  },
  {
   "cell_type": "code",
   "execution_count": 0,
   "metadata": {
    "colab": {},
    "colab_type": "code",
    "id": "_DYFr_mqFJfy"
   },
   "outputs": [],
   "source": [
    "import numpy as np\n",
    "import pandas as pd\n",
    "import matplotlib.pyplot as plt\n",
    "from sklearn.metrics import mean_squared_error\n",
    "from sklearn.metrics import mean_absolute_error\n",
    "from sklearn.metrics import classification_report\n",
    "from sklearn.model_selection import train_test_split\n",
    "from sklearn.model_selection import cross_val_score\n",
    "from sklearn.model_selection import GridSearchCV\n",
    "from sklearn.model_selection import RandomizedSearchCV\n",
    "from sklearn.ensemble import RandomForestRegressor\n",
    "import seaborn as sns\n",
    "sns.set()"
   ]
  },
  {
   "cell_type": "code",
   "execution_count": 0,
   "metadata": {
    "colab": {},
    "colab_type": "code",
    "id": "H2QF9gqlFJf2"
   },
   "outputs": [],
   "source": [
    "# Thiner line width\n",
    "# globally\n",
    "from matplotlib import rcParams\n",
    "rcParams['patch.linewidth'] = 0.0 #0.5"
   ]
  },
  {
   "cell_type": "code",
   "execution_count": 3,
   "metadata": {
    "colab": {
     "base_uri": "https://localhost:8080/",
     "height": 34
    },
    "colab_type": "code",
    "id": "ou0xy_qAFJf5",
    "outputId": "88344b09-56b0-4d5d-8a5d-4fe60f2061f1"
   },
   "outputs": [
    {
     "name": "stdout",
     "output_type": "stream",
     "text": [
      "0.22.1\n"
     ]
    }
   ],
   "source": [
    "import sklearn\n",
    "print(sklearn.__version__)"
   ]
  },
  {
   "cell_type": "code",
   "execution_count": 0,
   "metadata": {
    "colab": {},
    "colab_type": "code",
    "id": "fDCUDhK9Ft4n"
   },
   "outputs": [],
   "source": [
    "COLAB = True"
   ]
  },
  {
   "cell_type": "code",
   "execution_count": null,
   "metadata": {
    "colab": {
     "base_uri": "https://localhost:8080/",
     "height": 122
    },
    "colab_type": "code",
    "id": "_3b-HRWZFg5g",
    "outputId": "6d1d4a6d-159d-458e-cc1b-1702b379236e"
   },
   "outputs": [],
   "source": [
    "if COLAB:\n",
    "    from google.colab import drive\n",
    "    drive.mount('/content/drive')\n",
    "    data_path = '/content/drive/My Drive/Colab Notebooks/flight_features.csv'\n",
    "else:\n",
    "    data_path = 'flight_features.csv'    "
   ]
  },
  {
   "cell_type": "code",
   "execution_count": 0,
   "metadata": {
    "colab": {},
    "colab_type": "code",
    "id": "-pmM23V0FJf9"
   },
   "outputs": [],
   "source": [
    "df = pd.read_csv(data_path, index_col=0)"
   ]
  },
  {
   "cell_type": "markdown",
   "metadata": {
    "colab_type": "raw",
    "id": "UBJVHINLFJgA"
   },
   "source": [
    "Feature description\n",
    "\n",
    "- flight         - Flight number\n",
    "- dep            - Departure airport name\n",
    "- dst            - Desctination airport name\n",
    "- plane_id       - Plane id (number)\n",
    "\n",
    "- duration       - Flight duration\n",
    "- dep_diff       - Scheduled and factual departure time differences\n",
    "- dst_diff       - Scheduled and factual arrival time differences\n",
    "\n",
    "- dep_cnt        - Departure flight counts per day, per airport\n",
    "- dst_cnt        - Arrival flight counts per day, per airport\n",
    "\n",
    "- dep_month      - Departure month\n",
    "- dep_day        - Departure day\n",
    "- dep_weekday    - Departure day of the week\n",
    "- dep_hour       - Departure hour \n",
    "- dep_ minute    - Departure minute\n",
    "\n",
    "- dst_month      - Arrival month\n",
    "- dst_day        - Arrival day\n",
    "- dst_weekday    - Arrival day of the week\n",
    "- dst_hour       - Arrival hour \n",
    "- dst_ minute    - Arrival minute\n"
   ]
  },
  {
   "cell_type": "code",
   "execution_count": 8,
   "metadata": {
    "colab": {
     "base_uri": "https://localhost:8080/",
     "height": 649
    },
    "colab_type": "code",
    "id": "WwDQwfmgFJgB",
    "outputId": "6d69d056-f0f2-4801-e2ae-94f51f237c01"
   },
   "outputs": [
    {
     "name": "stdout",
     "output_type": "stream",
     "text": [
      "<class 'pandas.core.frame.DataFrame'>\n",
      "Int64Index: 139732 entries, 0 to 139731\n",
      "Data columns (total 19 columns):\n",
      "flight         139732 non-null int64\n",
      "dep            139732 non-null object\n",
      "dst            139732 non-null object\n",
      "plane_id       139732 non-null int64\n",
      "duration       139732 non-null float64\n",
      "dep_diff       139732 non-null float64\n",
      "dst_diff       139732 non-null float64\n",
      "dep_cnt        139732 non-null int64\n",
      "dst_cnt        139732 non-null int64\n",
      "dep_month      139732 non-null int64\n",
      "dep_day        139732 non-null int64\n",
      "dep_weekday    139732 non-null int64\n",
      "dep_hour       139732 non-null int64\n",
      "dep_ minute    139732 non-null int64\n",
      "dst_month      139732 non-null int64\n",
      "dst_day        139732 non-null int64\n",
      "dst_weekday    139732 non-null int64\n",
      "dst_hour       139732 non-null int64\n",
      "dst_ minute    139732 non-null int64\n",
      "dtypes: float64(3), int64(14), object(2)\n",
      "memory usage: 21.3+ MB\n"
     ]
    },
    {
     "data": {
      "text/html": [
       "<div>\n",
       "<style scoped>\n",
       "    .dataframe tbody tr th:only-of-type {\n",
       "        vertical-align: middle;\n",
       "    }\n",
       "\n",
       "    .dataframe tbody tr th {\n",
       "        vertical-align: top;\n",
       "    }\n",
       "\n",
       "    .dataframe thead th {\n",
       "        text-align: right;\n",
       "    }\n",
       "</style>\n",
       "<table border=\"1\" class=\"dataframe\">\n",
       "  <thead>\n",
       "    <tr style=\"text-align: right;\">\n",
       "      <th></th>\n",
       "      <th>flight</th>\n",
       "      <th>dep</th>\n",
       "      <th>dst</th>\n",
       "      <th>plane_id</th>\n",
       "      <th>duration</th>\n",
       "      <th>dep_diff</th>\n",
       "      <th>dst_diff</th>\n",
       "      <th>dep_cnt</th>\n",
       "      <th>dst_cnt</th>\n",
       "      <th>dep_month</th>\n",
       "      <th>dep_day</th>\n",
       "      <th>dep_weekday</th>\n",
       "      <th>dep_hour</th>\n",
       "      <th>dep_ minute</th>\n",
       "      <th>dst_month</th>\n",
       "      <th>dst_day</th>\n",
       "      <th>dst_weekday</th>\n",
       "      <th>dst_hour</th>\n",
       "      <th>dst_ minute</th>\n",
       "    </tr>\n",
       "  </thead>\n",
       "  <tbody>\n",
       "    <tr>\n",
       "      <th>0</th>\n",
       "      <td>1</td>\n",
       "      <td>MOW</td>\n",
       "      <td>ARH</td>\n",
       "      <td>1</td>\n",
       "      <td>115.0</td>\n",
       "      <td>-17.0</td>\n",
       "      <td>-12.0</td>\n",
       "      <td>329</td>\n",
       "      <td>3</td>\n",
       "      <td>3</td>\n",
       "      <td>1</td>\n",
       "      <td>3</td>\n",
       "      <td>0</td>\n",
       "      <td>5</td>\n",
       "      <td>3</td>\n",
       "      <td>1</td>\n",
       "      <td>3</td>\n",
       "      <td>2</td>\n",
       "      <td>0</td>\n",
       "    </tr>\n",
       "    <tr>\n",
       "      <th>1</th>\n",
       "      <td>2</td>\n",
       "      <td>MOW</td>\n",
       "      <td>EGO</td>\n",
       "      <td>2</td>\n",
       "      <td>85.0</td>\n",
       "      <td>-5.0</td>\n",
       "      <td>25.0</td>\n",
       "      <td>329</td>\n",
       "      <td>2</td>\n",
       "      <td>3</td>\n",
       "      <td>1</td>\n",
       "      <td>3</td>\n",
       "      <td>0</td>\n",
       "      <td>5</td>\n",
       "      <td>3</td>\n",
       "      <td>1</td>\n",
       "      <td>3</td>\n",
       "      <td>1</td>\n",
       "      <td>30</td>\n",
       "    </tr>\n",
       "    <tr>\n",
       "      <th>2</th>\n",
       "      <td>3</td>\n",
       "      <td>MOW</td>\n",
       "      <td>AKX</td>\n",
       "      <td>3</td>\n",
       "      <td>145.0</td>\n",
       "      <td>-1.0</td>\n",
       "      <td>-8.0</td>\n",
       "      <td>329</td>\n",
       "      <td>1</td>\n",
       "      <td>3</td>\n",
       "      <td>1</td>\n",
       "      <td>3</td>\n",
       "      <td>0</td>\n",
       "      <td>15</td>\n",
       "      <td>3</td>\n",
       "      <td>1</td>\n",
       "      <td>3</td>\n",
       "      <td>2</td>\n",
       "      <td>40</td>\n",
       "    </tr>\n",
       "    <tr>\n",
       "      <th>3</th>\n",
       "      <td>4</td>\n",
       "      <td>LED</td>\n",
       "      <td>MOW</td>\n",
       "      <td>4</td>\n",
       "      <td>75.0</td>\n",
       "      <td>-9.0</td>\n",
       "      <td>4.0</td>\n",
       "      <td>20</td>\n",
       "      <td>331</td>\n",
       "      <td>3</td>\n",
       "      <td>1</td>\n",
       "      <td>3</td>\n",
       "      <td>0</td>\n",
       "      <td>20</td>\n",
       "      <td>3</td>\n",
       "      <td>1</td>\n",
       "      <td>3</td>\n",
       "      <td>1</td>\n",
       "      <td>35</td>\n",
       "    </tr>\n",
       "    <tr>\n",
       "      <th>4</th>\n",
       "      <td>5</td>\n",
       "      <td>MOW</td>\n",
       "      <td>KRR</td>\n",
       "      <td>5</td>\n",
       "      <td>135.0</td>\n",
       "      <td>-4.0</td>\n",
       "      <td>1.0</td>\n",
       "      <td>329</td>\n",
       "      <td>7</td>\n",
       "      <td>3</td>\n",
       "      <td>1</td>\n",
       "      <td>3</td>\n",
       "      <td>0</td>\n",
       "      <td>25</td>\n",
       "      <td>3</td>\n",
       "      <td>1</td>\n",
       "      <td>3</td>\n",
       "      <td>2</td>\n",
       "      <td>40</td>\n",
       "    </tr>\n",
       "  </tbody>\n",
       "</table>\n",
       "</div>"
      ],
      "text/plain": [
       "   flight  dep  dst  plane_id  ...  dst_day  dst_weekday  dst_hour  dst_ minute\n",
       "0       1  MOW  ARH         1  ...        1            3         2            0\n",
       "1       2  MOW  EGO         2  ...        1            3         1           30\n",
       "2       3  MOW  AKX         3  ...        1            3         2           40\n",
       "3       4  LED  MOW         4  ...        1            3         1           35\n",
       "4       5  MOW  KRR         5  ...        1            3         2           40\n",
       "\n",
       "[5 rows x 19 columns]"
      ]
     },
     "execution_count": 8,
     "metadata": {
      "tags": []
     },
     "output_type": "execute_result"
    }
   ],
   "source": [
    "df.info()\n",
    "df.head()"
   ]
  },
  {
   "cell_type": "markdown",
   "metadata": {
    "colab_type": "text",
    "id": "2poxECn4FJgE"
   },
   "source": [
    "# Prepare data"
   ]
  },
  {
   "cell_type": "code",
   "execution_count": 9,
   "metadata": {
    "colab": {
     "base_uri": "https://localhost:8080/",
     "height": 34
    },
    "colab_type": "code",
    "id": "OueyvbunFJgG",
    "outputId": "fa78c632-592b-45e2-b2e9-bc2a640475fa"
   },
   "outputs": [
    {
     "name": "stdout",
     "output_type": "stream",
     "text": [
      "X.shape, y.shape:  (139732, 16) (139732, 1)\n"
     ]
    }
   ],
   "source": [
    "# Data for model selection\n",
    "X = df[['dep','dst','plane_id','duration', 'dep_cnt', 'dst_cnt', \n",
    "         'dep_month', 'dep_day', 'dep_weekday', 'dep_hour','dep_ minute', \n",
    "         'dst_month', 'dst_day', 'dst_weekday', 'dst_hour','dst_ minute']].copy()\n",
    "\n",
    "y = df['dep_diff'].copy()\n",
    "y = y.values.reshape(-1,1)\n",
    "print(\"X.shape, y.shape: \", X.shape, y.shape)"
   ]
  },
  {
   "cell_type": "code",
   "execution_count": 0,
   "metadata": {
    "colab": {},
    "colab_type": "code",
    "id": "LVWC5ScAFJgJ"
   },
   "outputs": [],
   "source": [
    "# Break off validation set from training data\n",
    "X_train, X_test, y_train, y_test = train_test_split(X, y, \n",
    "                                                            train_size=0.8, test_size=0.2,\n",
    "                                                            random_state=0)\n",
    "\n"
   ]
  },
  {
   "cell_type": "code",
   "execution_count": 0,
   "metadata": {
    "colab": {},
    "colab_type": "code",
    "id": "LwWsPbYsFJgM"
   },
   "outputs": [],
   "source": [
    "from sklearn.pipeline import Pipeline\n",
    "from sklearn.preprocessing import StandardScaler\n",
    "\n",
    "num_pipe = Pipeline([\n",
    "         ('std_scaler', StandardScaler())\n",
    "    ])"
   ]
  },
  {
   "cell_type": "code",
   "execution_count": 12,
   "metadata": {
    "colab": {
     "base_uri": "https://localhost:8080/",
     "height": 54
    },
    "colab_type": "code",
    "id": "FM4hvYGoFJgP",
    "outputId": "57bdac13-9b28-4539-8f96-e33ab035cc56"
   },
   "outputs": [
    {
     "name": "stdout",
     "output_type": "stream",
     "text": [
      "Numerical attributes:  ['plane_id', 'duration', 'dep_cnt', 'dst_cnt', 'dep_month', 'dep_day', 'dep_weekday', 'dep_hour', 'dep_ minute', 'dst_month', 'dst_day', 'dst_weekday', 'dst_hour', 'dst_ minute']\n"
     ]
    }
   ],
   "source": [
    "# Select numerical columns\n",
    "num_attribs = [cname for cname in X.columns if \n",
    "                X[cname].dtype in ['int64', 'float64']]\n",
    "\n",
    "print('Numerical attributes: ', num_attribs)"
   ]
  },
  {
   "cell_type": "code",
   "execution_count": 0,
   "metadata": {
    "colab": {},
    "colab_type": "code",
    "id": "fUX97XLuFJgT"
   },
   "outputs": [],
   "source": [
    "from sklearn.compose import ColumnTransformer\n",
    "from sklearn.preprocessing import OneHotEncoder"
   ]
  },
  {
   "cell_type": "code",
   "execution_count": 0,
   "metadata": {
    "colab": {},
    "colab_type": "code",
    "id": "SiAw0dneFJgW"
   },
   "outputs": [],
   "source": [
    "cat_attribs = ['dep','dst']\n",
    "\n",
    "pipe = ColumnTransformer([\n",
    "        (\"num\", num_pipe, num_attribs),\n",
    "        (\"cat\", OneHotEncoder(handle_unknown='ignore'), cat_attribs),\n",
    "    ])\n",
    "X_train_prep = pipe.fit_transform(X_train)"
   ]
  },
  {
   "cell_type": "code",
   "execution_count": 15,
   "metadata": {
    "colab": {
     "base_uri": "https://localhost:8080/",
     "height": 34
    },
    "colab_type": "code",
    "id": "0ULbpgKJFJgZ",
    "outputId": "3bc61013-d3e2-4bd3-b8d1-af6ef4852114"
   },
   "outputs": [
    {
     "data": {
      "text/plain": [
       "(scipy.sparse.csr.csr_matrix, (111785, 326), (139732, 16))"
      ]
     },
     "execution_count": 15,
     "metadata": {
      "tags": []
     },
     "output_type": "execute_result"
    }
   ],
   "source": [
    "type(X_train_prep), X_train_prep.shape, X.shape"
   ]
  },
  {
   "cell_type": "code",
   "execution_count": 0,
   "metadata": {
    "colab": {},
    "colab_type": "code",
    "id": "YPOEk7SxFJgc"
   },
   "outputs": [],
   "source": [
    "from sklearn.preprocessing import LabelEncoder\n",
    "# Apply label encoder to 'departures' and 'arrivals' \n",
    "label_encoder = LabelEncoder()\n",
    "X_train_label = X_train.copy()\n",
    "X_train_label['dep'] = label_encoder.fit_transform(X_train_label['dep'])\n",
    "X_train_label['dst'] = label_encoder.fit_transform(X_train_label['dst'])\n",
    "X_train_label = num_pipe.fit_transform(X_train_label)"
   ]
  },
  {
   "cell_type": "markdown",
   "metadata": {
    "colab_type": "text",
    "id": "talHOP8aFJgf"
   },
   "source": [
    "# Select and train a model "
   ]
  },
  {
   "cell_type": "code",
   "execution_count": 0,
   "metadata": {
    "colab": {},
    "colab_type": "code",
    "id": "Dd2zUAVCFJgg"
   },
   "outputs": [],
   "source": [
    "from sklearn.metrics import mean_squared_error\n",
    "from sklearn.metrics import mean_squared_error"
   ]
  },
  {
   "cell_type": "code",
   "execution_count": 0,
   "metadata": {
    "colab": {},
    "colab_type": "code",
    "id": "EXPqWAjPFJgm"
   },
   "outputs": [],
   "source": [
    "def train_predict(model, x,y):\n",
    "    \"\"\"Train model with default parameters, predict on train set, \n",
    "    return MAE, RMSE\"\"\"\n",
    "    model.fit(x,y)\n",
    "    preds = model.predict(x)\n",
    "    mae = mean_absolute_error(y,preds)\n",
    "    rmse = np.sqrt(mean_squared_error(y,preds))\n",
    "    return mae, rmse"
   ]
  },
  {
   "cell_type": "code",
   "execution_count": 19,
   "metadata": {
    "colab": {
     "base_uri": "https://localhost:8080/",
     "height": 34
    },
    "colab_type": "code",
    "id": "wUkunbnxFJgp",
    "outputId": "ef626e6e-e784-45f7-e35d-06458596ff07"
   },
   "outputs": [
    {
     "name": "stdout",
     "output_type": "stream",
     "text": [
      "Linear Regression MAE:  9.930176244895035  RMSE:  45.91879146924766\n"
     ]
    }
   ],
   "source": [
    "from sklearn.linear_model import LinearRegression\n",
    "lin_reg = LinearRegression()\n",
    "mae, rmse = train_predict(lin_reg, X_train_prep, y_train)\n",
    "print(\"Linear Regression MAE: \", mae, \" RMSE: \",rmse)"
   ]
  },
  {
   "cell_type": "code",
   "execution_count": 20,
   "metadata": {
    "colab": {
     "base_uri": "https://localhost:8080/",
     "height": 88
    },
    "colab_type": "code",
    "id": "eUYRbVDpFJgr",
    "outputId": "1d6c5222-7d47-4aa2-c5db-d25475f276a6"
   },
   "outputs": [
    {
     "name": "stderr",
     "output_type": "stream",
     "text": [
      "/usr/local/lib/python3.6/dist-packages/ipykernel_launcher.py:4: DataConversionWarning: A column-vector y was passed when a 1d array was expected. Please change the shape of y to (n_samples,), for example using ravel().\n",
      "  after removing the cwd from sys.path.\n"
     ]
    },
    {
     "name": "stdout",
     "output_type": "stream",
     "text": [
      " RandomForest MAE:  4.308375601974028  RMSE:  19.53618220131576\n"
     ]
    }
   ],
   "source": [
    "from sklearn.ensemble import RandomForestRegressor\n",
    "\n",
    "forest_reg = RandomForestRegressor(n_estimators=30, random_state=78) #n_estimators=100\n",
    "mae, rmse = train_predict(forest_reg, X_train_prep, y_train)\n",
    "print(\" RandomForest MAE: \", mae, \" RMSE: \",rmse)"
   ]
  },
  {
   "cell_type": "code",
   "execution_count": 21,
   "metadata": {
    "colab": {
     "base_uri": "https://localhost:8080/",
     "height": 34
    },
    "colab_type": "code",
    "id": "rYu1oY1kFJgu",
    "outputId": "534ba6ab-81ae-424a-88dd-2e3247a309da"
   },
   "outputs": [
    {
     "name": "stdout",
     "output_type": "stream",
     "text": [
      " XGBRegressor MAE:  10.47566828823913  RMSE:  45.41268035888441\n"
     ]
    }
   ],
   "source": [
    "import xgboost as xgb\n",
    "xg_reg = xgb.XGBRegressor(#objective ='reg:linear', \n",
    "    objective = 'reg:squarederror',\n",
    "    colsample_bytree = 0.3, learning_rate = 0.1,\n",
    "    max_depth = 5, alpha = 10, n_estimators = 10)\n",
    "mae, rmse = train_predict(xg_reg, X_train_prep, y_train)\n",
    "print(\" XGBRegressor MAE: \", mae, \" RMSE: \",rmse)"
   ]
  },
  {
   "cell_type": "code",
   "execution_count": 22,
   "metadata": {
    "colab": {
     "base_uri": "https://localhost:8080/",
     "height": 187
    },
    "colab_type": "code",
    "id": "er51NPoYFJgw",
    "outputId": "82c20762-f1dd-413d-b085-bffec416da04"
   },
   "outputs": [
    {
     "data": {
      "text/plain": [
       "[(-2.9029346, array([-7.])),\n",
       " (-2.0886698, array([-8.])),\n",
       " (-2.9029346, array([-12.])),\n",
       " (-3.0241313, array([-12.])),\n",
       " (3.9720008, array([44.])),\n",
       " (-1.8526938, array([-5.])),\n",
       " (-0.05630213, array([-2.])),\n",
       " (-2.4686422, array([-8.])),\n",
       " (-2.0886698, array([5.])),\n",
       " (-2.0886698, array([-11.]))]"
      ]
     },
     "execution_count": 22,
     "metadata": {
      "tags": []
     },
     "output_type": "execute_result"
    }
   ],
   "source": [
    "# Try pipeline on a few training examples\n",
    "some_X = X_train.iloc[:10]\n",
    "some_y = y_train[:10]\n",
    "some_X_prep = pipe.transform(some_X)\n",
    "\n",
    "# Predictions and actual\n",
    "list(zip(xg_reg.predict(some_X_prep), some_y))"
   ]
  },
  {
   "cell_type": "code",
   "execution_count": 0,
   "metadata": {
    "colab": {},
    "colab_type": "code",
    "id": "fjSeXhm-FJgz"
   },
   "outputs": [],
   "source": [
    "def display_cv_scores(neg_scores):\n",
    "    scores = np.sqrt(-neg_scores)\n",
    "    print(pd.Series(scores).describe())"
   ]
  },
  {
   "cell_type": "code",
   "execution_count": 24,
   "metadata": {
    "colab": {
     "base_uri": "https://localhost:8080/",
     "height": 170
    },
    "colab_type": "code",
    "id": "Lq1cJeapFJg2",
    "outputId": "674c3e1a-79a7-47f6-f792-b78e984c3746"
   },
   "outputs": [
    {
     "name": "stdout",
     "output_type": "stream",
     "text": [
      "count    10.000000\n",
      "mean     72.886223\n",
      "std      10.957808\n",
      "min      53.949633\n",
      "25%      64.453365\n",
      "50%      76.603553\n",
      "75%      80.149862\n",
      "max      84.586535\n",
      "dtype: float64\n"
     ]
    }
   ],
   "source": [
    "from sklearn.tree import DecisionTreeRegressor\n",
    "\n",
    "tree_reg = DecisionTreeRegressor(random_state=78)\n",
    "scores = cross_val_score(tree_reg, X_train_prep, y_train,\n",
    "                         scoring=\"neg_mean_squared_error\", cv=10)\n",
    "display_cv_scores(scores)"
   ]
  },
  {
   "cell_type": "code",
   "execution_count": 25,
   "metadata": {
    "colab": {
     "base_uri": "https://localhost:8080/",
     "height": 170
    },
    "colab_type": "code",
    "id": "J30hxE53FJg5",
    "outputId": "c8b24187-7eaa-4718-dff5-7bc92b8c41f8"
   },
   "outputs": [
    {
     "name": "stdout",
     "output_type": "stream",
     "text": [
      "count    10.000000\n",
      "mean     44.506893\n",
      "std      12.522558\n",
      "min      30.988435\n",
      "25%      34.781011\n",
      "50%      42.670214\n",
      "75%      46.596757\n",
      "max      70.132700\n",
      "dtype: float64\n"
     ]
    }
   ],
   "source": [
    "scores = cross_val_score(lin_reg, X_train_prep, y_train, scoring=\"neg_mean_squared_error\", cv=10)\n",
    "display_cv_scores(scores)"
   ]
  },
  {
   "cell_type": "code",
   "execution_count": 26,
   "metadata": {
    "colab": {
     "base_uri": "https://localhost:8080/",
     "height": 170
    },
    "colab_type": "code",
    "id": "XbeaonM5FJg7",
    "outputId": "59fd8f1c-8a56-4e7a-e73e-8e4e27c9508d"
   },
   "outputs": [
    {
     "name": "stdout",
     "output_type": "stream",
     "text": [
      "count    10.000000\n",
      "mean     44.600265\n",
      "std      12.483137\n",
      "min      31.230889\n",
      "25%      34.842000\n",
      "50%      42.944498\n",
      "75%      46.688189\n",
      "max      70.131156\n",
      "dtype: float64\n"
     ]
    }
   ],
   "source": [
    "scores = cross_val_score(xg_reg, X_train_prep, y_train, scoring=\"neg_mean_squared_error\", cv=10)\n",
    "display_cv_scores(scores)"
   ]
  },
  {
   "cell_type": "code",
   "execution_count": 0,
   "metadata": {
    "colab": {},
    "colab_type": "code",
    "id": "_9nKMNHtFJg-"
   },
   "outputs": [],
   "source": [
    "from sklearn.model_selection import RandomizedSearchCV\n",
    "\n",
    "def best_model_params(model, X_train_prep, y_train, param_distributions, n_iter=10, cv=2):\n",
    "    \"\"\"Use RandomizedSearchCV to find best model and params.\n",
    "    Return: best model, best params, MAE and RMSE for train data.\n",
    "    \"\"\"\n",
    "    rnd_search = RandomizedSearchCV(model, param_distributions=param_distributions,\n",
    "                                n_iter=n_iter, cv=cv, scoring='neg_mean_squared_error', random_state=78)\n",
    "    \n",
    "    rnd_search.fit(X_train_prep, y_train)\n",
    "    best_model = rnd_search.best_estimator_\n",
    "    best_params = rnd_search.best_params_\n",
    "    \n",
    "    preds = best_model.predict(X_train_prep)\n",
    "    mae = mean_absolute_error(y_train,preds)\n",
    "    rmse = np.sqrt(mean_squared_error(y_train,preds))\n",
    "    \n",
    "    return best_model, best_params, mae, rmse"
   ]
  },
  {
   "cell_type": "code",
   "execution_count": 0,
   "metadata": {
    "colab": {},
    "colab_type": "code",
    "id": "vwFS6x_HFJhA"
   },
   "outputs": [],
   "source": [
    "def display_feature_importance(rf_model):\n",
    "    feature_importances = rf_model.feature_importances_\n",
    "    importance_df = pd.DataFrame(feature_importances, index=X_train.columns, \n",
    "                      columns=[\"Importance\"])\n",
    "    print(importance_df.sort_values(by=['Importance'], ascending=False))\n",
    "   "
   ]
  },
  {
   "cell_type": "code",
   "execution_count": 29,
   "metadata": {
    "colab": {
     "base_uri": "https://localhost:8080/",
     "height": 34
    },
    "colab_type": "code",
    "id": "VcMGk0mKFJhD",
    "outputId": "a1578369-e9fc-498f-fffd-e7fc0dd14343"
   },
   "outputs": [
    {
     "data": {
      "text/plain": [
       "(111785,)"
      ]
     },
     "execution_count": 29,
     "metadata": {
      "tags": []
     },
     "output_type": "execute_result"
    }
   ],
   "source": [
    "y_train = y_train.reshape(-1)\n",
    "y_train.shape"
   ]
  },
  {
   "cell_type": "code",
   "execution_count": 30,
   "metadata": {
    "colab": {
     "base_uri": "https://localhost:8080/",
     "height": 51
    },
    "colab_type": "code",
    "id": "xIeGfERZFJhG",
    "outputId": "28754f0d-e5b5-4ad6-cea6-2ef2bae1135b"
   },
   "outputs": [
    {
     "name": "stdout",
     "output_type": "stream",
     "text": [
      "RandomForest 1 (onehot)  MAE:  3.9830516914911067  RMSE:  17.871643449217864\n",
      "RandomForest 2 (label)  MAE:  4.0630603390437  RMSE:  17.983076620358656\n"
     ]
    }
   ],
   "source": [
    "param_grid = [\n",
    "    # try 12 (3×4) combinations of hyperparameters\n",
    "    {'n_estimators': [3, 10, 30], 'max_features': [2, 4, 6, 8]},\n",
    "    # then try 6 (2×3) combinations with bootstrap set as False\n",
    "    {'bootstrap': [False], 'n_estimators': [3, 10], 'max_features': [2, 3, 4]},\n",
    "  ]\n",
    "forest_reg = RandomForestRegressor(random_state=78)\n",
    "rf1_best_model, rf1_best_params, rf1_mae, rf1_rmse = best_model_params(forest_reg, X_train_prep, y_train, param_grid)\n",
    "print(\"RandomForest 1 (onehot)  MAE: \", rf1_mae, \" RMSE: \", rf1_rmse)\n",
    "\n",
    "rf2_best_model, rf2_best_params, rf2_mae, rf2_rmse = best_model_params(forest_reg, X_train_label, y_train, param_grid)\n",
    "print(\"RandomForest 2 (label)  MAE: \", rf2_mae, \" RMSE: \", rf2_rmse)"
   ]
  },
  {
   "cell_type": "code",
   "execution_count": 31,
   "metadata": {
    "colab": {
     "base_uri": "https://localhost:8080/",
     "height": 306
    },
    "colab_type": "code",
    "id": "EPfpR4ceFJhJ",
    "outputId": "0c51c521-2482-4106-8cfa-478d990e52e8"
   },
   "outputs": [
    {
     "name": "stdout",
     "output_type": "stream",
     "text": [
      "             Importance\n",
      "plane_id       0.158807\n",
      "dep_day        0.092219\n",
      "dst_cnt        0.080570\n",
      "duration       0.074990\n",
      "dep            0.071132\n",
      "dst_day        0.070447\n",
      "dep_hour       0.062066\n",
      "dst_hour       0.061999\n",
      "dst_ minute    0.060725\n",
      "dep_ minute    0.058116\n",
      "dep_cnt        0.048382\n",
      "dep_weekday    0.048243\n",
      "dst_weekday    0.042495\n",
      "dst_month      0.032495\n",
      "dep_month      0.026082\n",
      "dst            0.011231\n"
     ]
    }
   ],
   "source": [
    "display_feature_importance(rf2_best_model)"
   ]
  },
  {
   "cell_type": "code",
   "execution_count": 32,
   "metadata": {
    "colab": {
     "base_uri": "https://localhost:8080/",
     "height": 51
    },
    "colab_type": "code",
    "id": "rl7h0XgRFJhM",
    "outputId": "e8e007ed-2067-4bca-c1e2-8952e4edcb73"
   },
   "outputs": [
    {
     "name": "stdout",
     "output_type": "stream",
     "text": [
      "RandomForest 3 (onehot)  MAE:  3.7723902547577866  RMSE:  17.258753706237865\n",
      "RandomForest 4 (label)  MAE:  3.8038275125514702  RMSE:  17.311345169070698\n"
     ]
    }
   ],
   "source": [
    "from scipy.stats import randint\n",
    "\n",
    "param_distribs = {\n",
    "        'n_estimators': randint(low=1, high=200),\n",
    "        'max_features': randint(low=1, high=8),\n",
    "    }\n",
    "rf3_best_model, rf3_best_params, rf3_mae, rf3_rmse = best_model_params(\n",
    "    forest_reg, X_train_prep, y_train, param_distribs)\n",
    "print(\"RandomForest 3 (onehot)  MAE: \", rf3_mae, \" RMSE: \", rf3_rmse)\n",
    "\n",
    "rf4_best_model, rf4_best_params, rf4_mae, rf4_rmse = best_model_params(\n",
    "    forest_reg, X_train_label, y_train, param_distribs)\n",
    "print(\"RandomForest 4 (label)  MAE: \", rf4_mae, \" RMSE: \", rf4_rmse)"
   ]
  },
  {
   "cell_type": "code",
   "execution_count": 33,
   "metadata": {
    "colab": {
     "base_uri": "https://localhost:8080/",
     "height": 306
    },
    "colab_type": "code",
    "id": "erosMNgGFJhO",
    "outputId": "4a4b9264-c0b5-4fa1-a63a-7cffe067b668"
   },
   "outputs": [
    {
     "name": "stdout",
     "output_type": "stream",
     "text": [
      "             Importance\n",
      "plane_id       0.142857\n",
      "duration       0.088481\n",
      "dst_day        0.079808\n",
      "dep            0.079373\n",
      "dep_day        0.075968\n",
      "dst_cnt        0.070955\n",
      "dep_hour       0.070711\n",
      "dst_hour       0.067779\n",
      "dst_ minute    0.063558\n",
      "dep_ minute    0.063208\n",
      "dep_cnt        0.055583\n",
      "dep_weekday    0.040285\n",
      "dst_weekday    0.036241\n",
      "dep_month      0.026382\n",
      "dst_month      0.023380\n",
      "dst            0.015433\n"
     ]
    }
   ],
   "source": [
    "display_feature_importance(rf4_best_model)"
   ]
  },
  {
   "cell_type": "code",
   "execution_count": 34,
   "metadata": {
    "colab": {
     "base_uri": "https://localhost:8080/",
     "height": 34
    },
    "colab_type": "code",
    "id": "jAFF38EDFJhR",
    "outputId": "b433911c-10ff-45e5-aef7-b541cdea7483"
   },
   "outputs": [
    {
     "name": "stdout",
     "output_type": "stream",
     "text": [
      "LR MAE:  9.857046634395187  RMSE:  46.11552500546665\n"
     ]
    }
   ],
   "source": [
    "from sklearn.linear_model import ElasticNet\n",
    "l1_space = np.linspace(0,1,30)\n",
    "param_grid = {'l1_ratio':l1_space}\n",
    "elastic_net = ElasticNet()\n",
    "lr_best_model, lr_best_params, lr_mae, lr_rmse = best_model_params(elastic_net, X_train_prep, y_train, param_grid)\n",
    "print(\"LR MAE: \", lr_mae, \" RMSE: \", lr_rmse)"
   ]
  },
  {
   "cell_type": "code",
   "execution_count": 35,
   "metadata": {
    "colab": {
     "base_uri": "https://localhost:8080/",
     "height": 34
    },
    "colab_type": "code",
    "id": "AlYyyPMdFJhT",
    "outputId": "f601e77e-42bf-43b6-99eb-52fc4b787163"
   },
   "outputs": [
    {
     "name": "stdout",
     "output_type": "stream",
     "text": [
      "XGBRegressor MAE:  9.483694824780462  RMSE:  44.223646790584475\n"
     ]
    }
   ],
   "source": [
    "import xgboost as xgb\n",
    "import scipy.stats as st\n",
    "\n",
    "one_to_left = st.beta(10, 1)  \n",
    "from_zero_positive = st.expon(0, 50)\n",
    "\n",
    "params = {  \n",
    "    \"n_estimators\": st.randint(3, 40),\n",
    "    \"max_depth\": st.randint(3, 40),\n",
    "    \"learning_rate\": st.uniform(0.05, 0.4),\n",
    "    \"colsample_bytree\": one_to_left,\n",
    "    \"subsample\": one_to_left,\n",
    "    \"gamma\": st.uniform(0, 10),\n",
    "    'reg_alpha': from_zero_positive,\n",
    "    \"min_child_weight\": from_zero_positive,\n",
    "}\n",
    "\n",
    "xgb_reg = xgb.XGBRegressor(objective = 'reg:squarederror', nthreads=-1)  \n",
    "#xgb_reg = xgb.XGBRegressor(n_estimators=1000, learning_rate=0.05, n_jobs=4) \n",
    "xgb_best_model, xgb_best_params, xgb_mae, xgb_rmse = best_model_params(xgb_reg, X_train_prep, y_train, params)\n",
    "print(\"XGBRegressor MAE: \", xgb_mae, \" RMSE: \", xgb_rmse)"
   ]
  },
  {
   "cell_type": "code",
   "execution_count": 0,
   "metadata": {
    "colab": {},
    "colab_type": "code",
    "id": "lEVy-GNNFJhW"
   },
   "outputs": [],
   "source": [
    "X_test_prepared = pipe.transform(X_test)"
   ]
  },
  {
   "cell_type": "code",
   "execution_count": 0,
   "metadata": {
    "colab": {},
    "colab_type": "code",
    "id": "zq7IxIaqFJhY"
   },
   "outputs": [],
   "source": [
    "def predict(model):\n",
    "  preds = model.predict(X_test_prepared)\n",
    "  mae = mean_absolute_error(y_test,preds)\n",
    "  rmse = np.sqrt(mean_squared_error(y_test,preds))\n",
    "  return mae, rmse"
   ]
  },
  {
   "cell_type": "code",
   "execution_count": 38,
   "metadata": {
    "colab": {
     "base_uri": "https://localhost:8080/",
     "height": 34
    },
    "colab_type": "code",
    "id": "Mveyr0R4FJhb",
    "outputId": "f8b19238-61ff-4012-d451-1c5295c551b6"
   },
   "outputs": [
    {
     "name": "stdout",
     "output_type": "stream",
     "text": [
      "XGB MAE:  10.684400214025423  RMSE:  58.9953634826303\n"
     ]
    }
   ],
   "source": [
    "xgb_mae, xgb_rmse = predict(xgb_best_model)\n",
    "print(\"XGB MAE: \", xgb_mae,\" RMSE: \", xgb_rmse)\n"
   ]
  },
  {
   "cell_type": "code",
   "execution_count": 39,
   "metadata": {
    "colab": {
     "base_uri": "https://localhost:8080/",
     "height": 34
    },
    "colab_type": "code",
    "id": "SaeNW7qbFJhg",
    "outputId": "b677df90-4bd5-4928-c74d-68840d8b202b"
   },
   "outputs": [
    {
     "name": "stdout",
     "output_type": "stream",
     "text": [
      "RF3 MAE:  10.824560184315825  RMSE:  59.31106302905509\n"
     ]
    }
   ],
   "source": [
    "rf3_mae, rf3_rmse = predict(rf3_best_model)\n",
    "print(\"RF3 MAE: \", rf3_mae,\" RMSE: \", rf3_rmse)"
   ]
  },
  {
   "cell_type": "code",
   "execution_count": 40,
   "metadata": {
    "colab": {
     "base_uri": "https://localhost:8080/",
     "height": 34
    },
    "colab_type": "code",
    "id": "sEimoTpyFJhi",
    "outputId": "f1159a9c-fd43-4ed3-c4c7-e622b4342f29"
   },
   "outputs": [
    {
     "name": "stdout",
     "output_type": "stream",
     "text": [
      "RF1 MAE:  11.115959971851481  RMSE:  59.741441568899816\n"
     ]
    }
   ],
   "source": [
    "rf1_mae, rf1_rmse = predict(rf1_best_model)\n",
    "print(\"RF1 MAE: \", rf1_mae,\" RMSE: \", rf1_rmse)"
   ]
  },
  {
   "cell_type": "code",
   "execution_count": 41,
   "metadata": {
    "colab": {
     "base_uri": "https://localhost:8080/",
     "height": 34
    },
    "colab_type": "code",
    "id": "JVBfJjF2FJhk",
    "outputId": "ca95cb14-262f-49ed-d442-d81cd4d67a8c"
   },
   "outputs": [
    {
     "name": "stdout",
     "output_type": "stream",
     "text": [
      "LR MAE:  10.606749575439132  LR:  59.272504959592666\n"
     ]
    }
   ],
   "source": [
    "lr_mae, lr_rmse = predict(lr_best_model)\n",
    "print(\"LR MAE: \", lr_mae,\" LR: \", lr_rmse)"
   ]
  },
  {
   "cell_type": "code",
   "execution_count": 0,
   "metadata": {
    "colab": {},
    "colab_type": "code",
    "id": "YyZA9SlhFJhm"
   },
   "outputs": [],
   "source": []
  }
 ],
 "metadata": {
  "colab": {
   "name": "2_regression.ipynb",
   "provenance": []
  },
  "kernelspec": {
   "display_name": "Python 3",
   "language": "python",
   "name": "python3"
  },
  "language_info": {
   "codemirror_mode": {
    "name": "ipython",
    "version": 3
   },
   "file_extension": ".py",
   "mimetype": "text/x-python",
   "name": "python",
   "nbconvert_exporter": "python",
   "pygments_lexer": "ipython3",
   "version": "3.6.10"
  }
 },
 "nbformat": 4,
 "nbformat_minor": 1
}
