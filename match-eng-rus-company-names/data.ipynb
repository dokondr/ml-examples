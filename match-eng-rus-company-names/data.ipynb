{
 "cells": [
  {
   "cell_type": "markdown",
   "metadata": {},
   "source": [
    "# Data Preprocessing for Text Classification with Muse Emebedding \n",
    "## Contents:\n",
    "1. Get Muse Embiddings\n",
    "2. Clear, tokenize and save train and test data\n"
   ]
  },
  {
   "cell_type": "code",
   "execution_count": 1,
   "metadata": {},
   "outputs": [],
   "source": [
    "import numpy as np\n",
    "import pandas as pd\n",
    "import nltk\n",
    "import re"
   ]
  },
  {
   "cell_type": "code",
   "execution_count": 2,
   "metadata": {},
   "outputs": [
    {
     "name": "stdout",
     "output_type": "stream",
     "text": [
      "*** Looking for MUSE embeddings...\n",
      "*** Downloading English MUSE embeddings\n",
      "--2020-05-10 18:26:22--  https://dl.fbaipublicfiles.com/arrival/vectors/wiki.multi.en.vec\n",
      "Resolving dl.fbaipublicfiles.com (dl.fbaipublicfiles.com)... 104.22.74.142, 104.22.75.142\n",
      "Connecting to dl.fbaipublicfiles.com (dl.fbaipublicfiles.com)|104.22.74.142|:443... connected.\n",
      "HTTP request sent, awaiting response... 200 OK\n",
      "Length: 628614720 (599M) [text/plain]\n",
      "Saving to: <<./muse_embeddings/wiki.multi.en.vec>>\n",
      "\n",
      "wiki.multi.en.vec   100%[===================>] 599.49M  1.22MB/s    in 19m 32s \n",
      "\n",
      "2020-05-10 18:45:56 (524 KB/s) - <<./muse_embeddings/wiki.multi.en.vec>> saved [628614720/628614720]\n",
      "\n",
      "*** Downloading Russian MUSE  embeddings\n",
      "--2020-05-10 18:45:56--  https://dl.fbaipublicfiles.com/arrival/vectors/wiki.multi.ru.vec\n",
      "Resolving dl.fbaipublicfiles.com (dl.fbaipublicfiles.com)... 104.22.75.142, 104.22.74.142\n",
      "Connecting to dl.fbaipublicfiles.com (dl.fbaipublicfiles.com)|104.22.75.142|:443... connected.\n",
      "HTTP request sent, awaiting response... 200 OK\n",
      "Length: 630591038 (601M) [text/plain]\n",
      "Saving to: <<./muse_embeddings/wiki.multi.ru.vec>>\n",
      "\n",
      "wiki.multi.ru.vec   100%[===================>] 601.38M   342KB/s    in 27m 48s \n",
      "\n",
      "2020-05-10 19:13:45 (369 KB/s) - <<./muse_embeddings/wiki.multi.ru.vec>> saved [630591038/630591038]\n",
      "\n",
      "*** Done ***\n"
     ]
    }
   ],
   "source": [
    "!sh get_embeddings.sh"
   ]
  },
  {
   "cell_type": "code",
   "execution_count": 3,
   "metadata": {},
   "outputs": [],
   "source": [
    "TEST_DATA = \"test_data.tsv\"  \n",
    "TRAIN_DATA = \"train_data.tsv\"\n",
    "CLEAN_TRAIN_DATA = \"clean_train_data.csv\"\n",
    "CLEAN_TEST_DATA = \"clean_test_data.csv\""
   ]
  },
  {
   "cell_type": "code",
   "execution_count": 4,
   "metadata": {},
   "outputs": [],
   "source": [
    "def clean_text(t):\n",
    "    t = t.lower()\n",
    "    t = t.replace('\\r\\n', ' ')\n",
    "    mask = r'[\",.`%$#@&*()!|^~/\\=+-_]'\n",
    "    t = re.sub(mask,'',t)\n",
    "    return t.strip()"
   ]
  },
  {
   "cell_type": "code",
   "execution_count": 5,
   "metadata": {},
   "outputs": [],
   "source": [
    "def textTokens(sent):\n",
    "    \"\"\"Split text into a list of tokens. \n",
    "    Return a list of tokens.\n",
    "    \"\"\"\n",
    "    sent_tokens = []\n",
    "    for token in nltk.word_tokenize(sent):\n",
    "        sent_tokens.append(token)          \n",
    "    return (sent_tokens)"
   ]
  },
  {
   "cell_type": "markdown",
   "metadata": {},
   "source": [
    "### Read train data and label classes"
   ]
  },
  {
   "cell_type": "code",
   "execution_count": 6,
   "metadata": {},
   "outputs": [
    {
     "name": "stderr",
     "output_type": "stream",
     "text": [
      "/opt/anaconda3/lib/python3.7/site-packages/numpy/lib/arraysetops.py:569: FutureWarning: elementwise comparison failed; returning scalar instead, but in the future will perform elementwise comparison\n",
      "  mask |= (ar1 == a)\n"
     ]
    },
    {
     "name": "stdout",
     "output_type": "stream",
     "text": [
      "<class 'pandas.core.frame.DataFrame'>\n",
      "Int64Index: 3983203 entries, 0 to 3983202\n",
      "Data columns (total 3 columns):\n",
      " #   Column    Dtype \n",
      "---  ------    ----- \n",
      " 0   ru_name   object\n",
      " 1   eng_name  object\n",
      " 2   answer    bool  \n",
      "dtypes: bool(1), object(2)\n",
      "memory usage: 95.0+ MB\n"
     ]
    },
    {
     "data": {
      "text/html": [
       "<div>\n",
       "<style scoped>\n",
       "    .dataframe tbody tr th:only-of-type {\n",
       "        vertical-align: middle;\n",
       "    }\n",
       "\n",
       "    .dataframe tbody tr th {\n",
       "        vertical-align: top;\n",
       "    }\n",
       "\n",
       "    .dataframe thead th {\n",
       "        text-align: right;\n",
       "    }\n",
       "</style>\n",
       "<table border=\"1\" class=\"dataframe\">\n",
       "  <thead>\n",
       "    <tr style=\"text-align: right;\">\n",
       "      <th></th>\n",
       "      <th>ru_name</th>\n",
       "      <th>eng_name</th>\n",
       "      <th>answer</th>\n",
       "    </tr>\n",
       "  </thead>\n",
       "  <tbody>\n",
       "    <tr>\n",
       "      <th>539901</th>\n",
       "      <td>ООО \"САТУРН\"</td>\n",
       "      <td>Limited liability company \"K.I.K.\"</td>\n",
       "      <td>False</td>\n",
       "    </tr>\n",
       "    <tr>\n",
       "      <th>3709679</th>\n",
       "      <td>Общество с ограниченной ответственностью \"АйДи...</td>\n",
       "      <td>LLC \"iD-Tech\"</td>\n",
       "      <td>True</td>\n",
       "    </tr>\n",
       "    <tr>\n",
       "      <th>1591731</th>\n",
       "      <td>Общество с ограниченной ответственностью \"Прим...</td>\n",
       "      <td>\"Adamant Estate\"</td>\n",
       "      <td>False</td>\n",
       "    </tr>\n",
       "    <tr>\n",
       "      <th>285589</th>\n",
       "      <td>ООО \"Арт Вью\"</td>\n",
       "      <td>\"EveregServer\"</td>\n",
       "      <td>False</td>\n",
       "    </tr>\n",
       "    <tr>\n",
       "      <th>659982</th>\n",
       "      <td>Общество с ограниченной ответственностью \"Бухг...</td>\n",
       "      <td>Chaste taste</td>\n",
       "      <td>False</td>\n",
       "    </tr>\n",
       "  </tbody>\n",
       "</table>\n",
       "</div>"
      ],
      "text/plain": [
       "                                                   ru_name  \\\n",
       "539901                                        ООО \"САТУРН\"   \n",
       "3709679  Общество с ограниченной ответственностью \"АйДи...   \n",
       "1591731  Общество с ограниченной ответственностью \"Прим...   \n",
       "285589                                       ООО \"Арт Вью\"   \n",
       "659982   Общество с ограниченной ответственностью \"Бухг...   \n",
       "\n",
       "                                   eng_name  answer  \n",
       "539901   Limited liability company \"K.I.K.\"   False  \n",
       "3709679                       LLC \"iD-Tech\"    True  \n",
       "1591731                    \"Adamant Estate\"   False  \n",
       "285589                       \"EveregServer\"   False  \n",
       "659982                         Chaste taste   False  "
      ]
     },
     "execution_count": 6,
     "metadata": {},
     "output_type": "execute_result"
    }
   ],
   "source": [
    "# Read all train data\n",
    "df = pd.read_csv(TRAIN_DATA, sep='\\t', index_col=0)\n",
    "df.info()\n",
    "df.sample(5)"
   ]
  },
  {
   "cell_type": "code",
   "execution_count": 7,
   "metadata": {},
   "outputs": [],
   "source": [
    "# Create 0/1 label from answer column \n",
    "df['label'] = df['answer'].apply(lambda x: int(x) )\n",
    "df = df.drop('answer', axis=1)"
   ]
  },
  {
   "cell_type": "code",
   "execution_count": 8,
   "metadata": {},
   "outputs": [],
   "source": [
    "def clean_tokenize(df):\n",
    "    \"\"\" Clean and tokenize text. Appen 'ru_tocks' and 'en_tocks' to data frame.\n",
    "        Args: \n",
    "            df - dataframe\n",
    "        Returns: \n",
    "            tockens data frame \n",
    "    \"\"\"\n",
    "    # Clean text\n",
    "    df['ru_name'] = df['ru_name'].apply(lambda x: clean_text(x))\n",
    "    df['eng_name'] = df['eng_name'].apply(lambda x: clean_text(x))\n",
    "    df['ru_tocks'] = df['ru_name'].apply(lambda x: textTokens(x))\n",
    "    df['eng_tocks'] = df['eng_name'].apply(lambda x: textTokens(x))\n",
    "    df = df.drop(['ru_name','eng_name'], axis=1)\n",
    "    return df\n"
   ]
  },
  {
   "cell_type": "markdown",
   "metadata": {},
   "source": [
    "### Clean, tokenize and save train data"
   ]
  },
  {
   "cell_type": "code",
   "execution_count": 9,
   "metadata": {},
   "outputs": [
    {
     "name": "stdout",
     "output_type": "stream",
     "text": [
      "CPU times: user 11min 43s, sys: 2.67 s, total: 11min 46s\n",
      "Wall time: 11min 46s\n"
     ]
    }
   ],
   "source": [
    "%%time\n",
    "df = clean_tokenize(df)"
   ]
  },
  {
   "cell_type": "code",
   "execution_count": 10,
   "metadata": {},
   "outputs": [
    {
     "name": "stdout",
     "output_type": "stream",
     "text": [
      "<class 'pandas.core.frame.DataFrame'>\n",
      "Int64Index: 3983203 entries, 0 to 3983202\n",
      "Data columns (total 3 columns):\n",
      " #   Column     Dtype \n",
      "---  ------     ----- \n",
      " 0   label      int64 \n",
      " 1   ru_tocks   object\n",
      " 2   eng_tocks  object\n",
      "dtypes: int64(1), object(2)\n",
      "memory usage: 121.6+ MB\n"
     ]
    },
    {
     "data": {
      "text/html": [
       "<div>\n",
       "<style scoped>\n",
       "    .dataframe tbody tr th:only-of-type {\n",
       "        vertical-align: middle;\n",
       "    }\n",
       "\n",
       "    .dataframe tbody tr th {\n",
       "        vertical-align: top;\n",
       "    }\n",
       "\n",
       "    .dataframe thead th {\n",
       "        text-align: right;\n",
       "    }\n",
       "</style>\n",
       "<table border=\"1\" class=\"dataframe\">\n",
       "  <thead>\n",
       "    <tr style=\"text-align: right;\">\n",
       "      <th></th>\n",
       "      <th>label</th>\n",
       "      <th>ru_tocks</th>\n",
       "      <th>eng_tocks</th>\n",
       "    </tr>\n",
       "  </thead>\n",
       "  <tbody>\n",
       "    <tr>\n",
       "      <th>1128279</th>\n",
       "      <td>0</td>\n",
       "      <td>[общество, с, ограниченной, ответственностью, ...</td>\n",
       "      <td>[imperial, russian, ballet, llc]</td>\n",
       "    </tr>\n",
       "    <tr>\n",
       "      <th>2791743</th>\n",
       "      <td>0</td>\n",
       "      <td>[ооо, руслазер]</td>\n",
       "      <td>[international, cooperation, services, ics, ltd]</td>\n",
       "    </tr>\n",
       "    <tr>\n",
       "      <th>1562657</th>\n",
       "      <td>0</td>\n",
       "      <td>[ооо, топ, сервис]</td>\n",
       "      <td>[dekod]</td>\n",
       "    </tr>\n",
       "  </tbody>\n",
       "</table>\n",
       "</div>"
      ],
      "text/plain": [
       "         label                                           ru_tocks  \\\n",
       "1128279      0  [общество, с, ограниченной, ответственностью, ...   \n",
       "2791743      0                                    [ооо, руслазер]   \n",
       "1562657      0                                 [ооо, топ, сервис]   \n",
       "\n",
       "                                                eng_tocks  \n",
       "1128279                  [imperial, russian, ballet, llc]  \n",
       "2791743  [international, cooperation, services, ics, ltd]  \n",
       "1562657                                           [dekod]  "
      ]
     },
     "execution_count": 10,
     "metadata": {},
     "output_type": "execute_result"
    }
   ],
   "source": [
    "#df = df.drop(['ru_name','eng_name'], axis=1)\n",
    "df.info()\n",
    "df.sample(3)"
   ]
  },
  {
   "cell_type": "code",
   "execution_count": 11,
   "metadata": {},
   "outputs": [],
   "source": [
    "# Save tockenized data\n",
    "df.to_csv(CLEAN_TRAIN_DATA)"
   ]
  },
  {
   "cell_type": "code",
   "execution_count": 12,
   "metadata": {},
   "outputs": [
    {
     "name": "stdout",
     "output_type": "stream",
     "text": [
      "<class 'pandas.core.frame.DataFrame'>\n",
      "Int64Index: 996052 entries, 0 to 996051\n",
      "Data columns (total 2 columns):\n",
      " #   Column    Non-Null Count   Dtype \n",
      "---  ------    --------------   ----- \n",
      " 0   ru_name   996052 non-null  object\n",
      " 1   eng_name  996052 non-null  object\n",
      "dtypes: object(2)\n",
      "memory usage: 22.8+ MB\n"
     ]
    },
    {
     "data": {
      "text/html": [
       "<div>\n",
       "<style scoped>\n",
       "    .dataframe tbody tr th:only-of-type {\n",
       "        vertical-align: middle;\n",
       "    }\n",
       "\n",
       "    .dataframe tbody tr th {\n",
       "        vertical-align: top;\n",
       "    }\n",
       "\n",
       "    .dataframe thead th {\n",
       "        text-align: right;\n",
       "    }\n",
       "</style>\n",
       "<table border=\"1\" class=\"dataframe\">\n",
       "  <thead>\n",
       "    <tr style=\"text-align: right;\">\n",
       "      <th></th>\n",
       "      <th>ru_name</th>\n",
       "      <th>eng_name</th>\n",
       "    </tr>\n",
       "  </thead>\n",
       "  <tbody>\n",
       "    <tr>\n",
       "      <th>50917</th>\n",
       "      <td>Общество с ограниченной ответственностью \"БОРВ...</td>\n",
       "      <td>Limited Liability Company Chandler Group</td>\n",
       "    </tr>\n",
       "    <tr>\n",
       "      <th>882310</th>\n",
       "      <td>Общество с ограниченной ответственностью \"ВиВа-Т\"</td>\n",
       "      <td>Closed Joint-Stock Company \"Company groups \"Cl...</td>\n",
       "    </tr>\n",
       "    <tr>\n",
       "      <th>452263</th>\n",
       "      <td>ООО \"СК \"ПИТЕР-ГОЛЬФ\"</td>\n",
       "      <td>\"CAN\" Limited</td>\n",
       "    </tr>\n",
       "    <tr>\n",
       "      <th>626503</th>\n",
       "      <td>ООО \"КОРЕНЪ\"</td>\n",
       "      <td>JSC \"IC \"Delta Don\"</td>\n",
       "    </tr>\n",
       "    <tr>\n",
       "      <th>864765</th>\n",
       "      <td>ООО \"Элит Стоун\"</td>\n",
       "      <td>N 11 VIII</td>\n",
       "    </tr>\n",
       "  </tbody>\n",
       "</table>\n",
       "</div>"
      ],
      "text/plain": [
       "                                                  ru_name  \\\n",
       "50917   Общество с ограниченной ответственностью \"БОРВ...   \n",
       "882310  Общество с ограниченной ответственностью \"ВиВа-Т\"   \n",
       "452263                              ООО \"СК \"ПИТЕР-ГОЛЬФ\"   \n",
       "626503                                       ООО \"КОРЕНЪ\"   \n",
       "864765                                   ООО \"Элит Стоун\"   \n",
       "\n",
       "                                                 eng_name  \n",
       "50917            Limited Liability Company Chandler Group  \n",
       "882310  Closed Joint-Stock Company \"Company groups \"Cl...  \n",
       "452263                                      \"CAN\" Limited  \n",
       "626503                                JSC \"IC \"Delta Don\"  \n",
       "864765                                          N 11 VIII  "
      ]
     },
     "execution_count": 12,
     "metadata": {},
     "output_type": "execute_result"
    }
   ],
   "source": [
    "# Read test data\n",
    "df_t = pd.read_csv(TEST_DATA, sep='\\t', index_col=0)\n",
    "df_t.info()\n",
    "df_t.sample(5)"
   ]
  },
  {
   "cell_type": "markdown",
   "metadata": {},
   "source": [
    "### Clean, tokenize and save test data"
   ]
  },
  {
   "cell_type": "code",
   "execution_count": 13,
   "metadata": {},
   "outputs": [
    {
     "name": "stdout",
     "output_type": "stream",
     "text": [
      "<class 'pandas.core.frame.DataFrame'>\n",
      "Int64Index: 996052 entries, 0 to 996051\n",
      "Data columns (total 2 columns):\n",
      " #   Column     Non-Null Count   Dtype \n",
      "---  ------     --------------   ----- \n",
      " 0   ru_tocks   996052 non-null  object\n",
      " 1   eng_tocks  996052 non-null  object\n",
      "dtypes: object(2)\n",
      "memory usage: 22.8+ MB\n"
     ]
    },
    {
     "data": {
      "text/html": [
       "<div>\n",
       "<style scoped>\n",
       "    .dataframe tbody tr th:only-of-type {\n",
       "        vertical-align: middle;\n",
       "    }\n",
       "\n",
       "    .dataframe tbody tr th {\n",
       "        vertical-align: top;\n",
       "    }\n",
       "\n",
       "    .dataframe thead th {\n",
       "        text-align: right;\n",
       "    }\n",
       "</style>\n",
       "<table border=\"1\" class=\"dataframe\">\n",
       "  <thead>\n",
       "    <tr style=\"text-align: right;\">\n",
       "      <th></th>\n",
       "      <th>ru_tocks</th>\n",
       "      <th>eng_tocks</th>\n",
       "    </tr>\n",
       "  </thead>\n",
       "  <tbody>\n",
       "    <tr>\n",
       "      <th>126667</th>\n",
       "      <td>[общество, с, ограниченной, ответственностью, ...</td>\n",
       "      <td>[nauchnoproizvodstvennoe, predpriyatie, androm...</td>\n",
       "    </tr>\n",
       "    <tr>\n",
       "      <th>814532</th>\n",
       "      <td>[общество, с, ограниченной, ответственностью, ...</td>\n",
       "      <td>[ddec, service, ltd]</td>\n",
       "    </tr>\n",
       "    <tr>\n",
       "      <th>37019</th>\n",
       "      <td>[ооо, торговый, дом, сиоен, эксклюзивный, дист...</td>\n",
       "      <td>[diverse, communications]</td>\n",
       "    </tr>\n",
       "  </tbody>\n",
       "</table>\n",
       "</div>"
      ],
      "text/plain": [
       "                                                 ru_tocks  \\\n",
       "126667  [общество, с, ограниченной, ответственностью, ...   \n",
       "814532  [общество, с, ограниченной, ответственностью, ...   \n",
       "37019   [ооо, торговый, дом, сиоен, эксклюзивный, дист...   \n",
       "\n",
       "                                                eng_tocks  \n",
       "126667  [nauchnoproizvodstvennoe, predpriyatie, androm...  \n",
       "814532                               [ddec, service, ltd]  \n",
       "37019                           [diverse, communications]  "
      ]
     },
     "execution_count": 13,
     "metadata": {},
     "output_type": "execute_result"
    }
   ],
   "source": [
    "# Clean and tokenize test data\n",
    "df_t = clean_tokenize(df_t)\n",
    "df_t.info()\n",
    "df_t.sample(3)"
   ]
  },
  {
   "cell_type": "code",
   "execution_count": 14,
   "metadata": {},
   "outputs": [],
   "source": [
    "df_t.to_csv(CLEAN_TEST_DATA)"
   ]
  }
 ],
 "metadata": {
  "kernelspec": {
   "display_name": "Python 3",
   "language": "python",
   "name": "python3"
  },
  "language_info": {
   "codemirror_mode": {
    "name": "ipython",
    "version": 3
   },
   "file_extension": ".py",
   "mimetype": "text/x-python",
   "name": "python",
   "nbconvert_exporter": "python",
   "pygments_lexer": "ipython3",
   "version": "3.7.6"
  }
 },
 "nbformat": 4,
 "nbformat_minor": 4
}
